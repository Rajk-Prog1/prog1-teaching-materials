{
 "cells": [
  {
   "cell_type": "code",
   "execution_count": 3,
   "id": "84718f3a",
   "metadata": {
    "ExecuteTime": {
     "end_time": "2022-12-06T17:39:41.629287Z",
     "start_time": "2022-12-06T17:39:40.953418Z"
    }
   },
   "outputs": [],
   "source": [
    "import requests\n",
    "from bs4 import BeautifulSoup"
   ]
  },
  {
   "cell_type": "markdown",
   "id": "be8f3d09",
   "metadata": {
    "ExecuteTime": {
     "end_time": "2022-11-29T09:50:15.338138Z",
     "start_time": "2022-11-29T09:50:14.859255Z"
    }
   },
   "source": [
    "# Request\n",
    "\n",
    "Ezt az oldalt fogjuk majd scrapelni:  \n",
    "https://www.gyakorikerdesek.hu/kereses.php?keres=szakkoll%C3%A9gium"
   ]
  },
  {
   "cell_type": "code",
   "execution_count": 1,
   "id": "4b763b93",
   "metadata": {
    "ExecuteTime": {
     "end_time": "2022-12-06T17:39:23.799337Z",
     "start_time": "2022-12-06T17:39:23.781140Z"
    }
   },
   "outputs": [],
   "source": [
    "URL = \"https://www.gyakorikerdesek.hu/kereses.php?keres=szakkoll%C3%A9gium\""
   ]
  },
  {
   "cell_type": "markdown",
   "id": "b9e6e8b1",
   "metadata": {},
   "source": [
    "GET request"
   ]
  },
  {
   "cell_type": "code",
   "execution_count": 4,
   "id": "c6699b95",
   "metadata": {
    "ExecuteTime": {
     "end_time": "2022-12-06T17:39:44.366171Z",
     "start_time": "2022-12-06T17:39:44.142026Z"
    }
   },
   "outputs": [],
   "source": [
    "resp = requests.get(URL)"
   ]
  },
  {
   "cell_type": "markdown",
   "id": "872f4cf6",
   "metadata": {},
   "source": [
    "[Status code](https://developer.mozilla.org/en-US/docs/Web/HTTP/Status) mutatja, hogy sikeres volt-e a request."
   ]
  },
  {
   "cell_type": "code",
   "execution_count": 5,
   "id": "141f0229",
   "metadata": {
    "ExecuteTime": {
     "end_time": "2022-12-06T17:39:52.817606Z",
     "start_time": "2022-12-06T17:39:52.783871Z"
    }
   },
   "outputs": [
    {
     "data": {
      "text/plain": [
       "200"
      ]
     },
     "execution_count": 5,
     "metadata": {},
     "output_type": "execute_result"
    }
   ],
   "source": [
    "resp.status_code"
   ]
  },
  {
   "cell_type": "markdown",
   "id": "a2e34d5e",
   "metadata": {},
   "source": [
    "Ezt pedig errort dob, ha nem jó"
   ]
  },
  {
   "cell_type": "code",
   "execution_count": 6,
   "id": "b5bed695",
   "metadata": {
    "ExecuteTime": {
     "end_time": "2022-12-06T17:40:37.387275Z",
     "start_time": "2022-12-06T17:40:37.369400Z"
    }
   },
   "outputs": [],
   "source": [
    "resp.raise_for_status()"
   ]
  },
  {
   "cell_type": "markdown",
   "id": "ee0f3aa4",
   "metadata": {},
   "source": [
    "Na és akkor nézzük meg mit is töltöttünk le valójában"
   ]
  },
  {
   "cell_type": "code",
   "execution_count": 18,
   "id": "00c3b9b1",
   "metadata": {
    "ExecuteTime": {
     "end_time": "2022-11-29T09:54:22.861425Z",
     "start_time": "2022-11-29T09:54:22.844073Z"
    }
   },
   "outputs": [
    {
     "data": {
      "text/plain": [
       "b'<!DOCTYPE html>\\n<html lang=\"hu\">\\n<head>\\n<meta name=\"viewport\" content=\"width=device-width, initial-scale=1\">\\n<meta charset=\"utf-8\">\\n<title>Szakkoll\\xc3\\xa9gium - Gyakori k\\xc3\\xa9rd\\xc3\\xa9sek</title>\\n<meta name=\"description\" content=\"Szakkoll\\xc3\\xa9gium - K\\xc3\\xa9rd\\xc3\\xa9sek a t\\xc3\\xa9m\\xc3\\xa1ban. Pl. PhD-sk\\xc3\\xa9nt k\\xc3\\xa9s\\xc5\\x91 szakkol\\xc3\\xa9giumba jelentkezni?\">\\n<meta name=\"keywords\" content=\"szakkoll\\xc3\\xa9gium, k\\xc3\\xa9rd\\xc3\\xa9sek, v\\xc3\\xa1laszok\">\\n<meta property=\"og:title\" content=\"Szakkoll\\xc3\\xa9gium - Gyakori k\\xc3\\xa9rd\\xc3\\xa9sek\">\\n<meta property=\"og:description\" content=\"Szakkoll\\xc3\\xa9gium - K\\xc3\\xa9rd\\xc3\\xa9sek a t\\xc3\\xa9m\\xc3\\xa1ban. Pl. PhD-sk\\xc3\\xa9nt k\\xc3\\xa9s\\xc5\\x91 szakkol\\xc3\\xa9giumba jelentkezni?\">\\n<meta property=\"og:type\" content=\"website\">\\n<meta property=\"og:image\" content=\"//static.gyakorikerdesek.hu/p/logo.jpg\">\\n<link rel=\"shortcut icon\" href=\"//static.gyakorikerdesek.hu/favicon.ico\">\\n<link rel=\"apple-touch-icon\" sizes=\"144x144\" href=\"//static.gyakorikerdesek.hu/apple-touch-icon-144x144.png\">\\n<meta name=\"msapplication-TileColor\" content=\"#FFFFFF\">\\n<meta name=\"msapplication-TileImage\" content=\"//static.gyakorikerdesek.hu/mstile-144x144.png\">\\n<style>\\nBODY{ font-size: 100%; margin: 0; padding: 0; text-align: center; width: 100%; font-family: sans-serif;} #main{ margin: 0 auto; text-align: left; border: 0; width: 980px;} .flex{ display: flex; flex-wrap: wrap;} .menu1{ margin-bottom: 15px; padding-top: 3px;} .menu1 A{ display: inline-block; height: 35px;} .menu1 INPUT, .menu1 SELECT{ height: 20px; padding: 0;} .menu2{ width: 200px; line-height: 24px; margin-bottom: 20px; padding: 10px 0 10px 0;} .menu{ padding: 0 6px 0 6px;} .menu A{ text-decoration: none;} .menu A:hover{ text-decoration: underline;} #main1{ width: 200px; margin-right: 20px;} #main2{ width: 760px; padding-top: 5px;} A{ cursor: pointer; text-decoration: none;} A:hover{ text-decoration: underline;} #siteinfo{ width: 100%; text-align: center; font-size: 90%; margin-top: 50px; padding-top: 5px;} .betoltesikon{ background-image: url(\"//static.gyakorikerdesek.hu/p/betoltes.gif\"); width: 37px; height: 37px; display: block; margin: 10px auto 10px auto;} BUTTON{ padding: 5px 10px 5px 10px;} BUTTON:hover{ cursor: pointer;} H1{ font-size: 125%; text-align: center;} H2{ font-size: 115%; text-align: center;} H3{ font-size: 105%;} .morzsamenu{ font-size: 85%; padding: 0 4px 5px 0;} .hiba{ font-size: 110%; font-weight: bold; text-align: center; padding: 5px; margin: 10px auto 10px auto;} .ok{ font-weight: bold; width: 90%; padding: 15px; margin: 10px auto 10px auto; text-align: center;} UL{ text-align: left;} #main{ background-color: #dcdcdc;} BODY{ background-color: #dcdcdc;} @media only screen and (min-width: 1081px){ HTML{ background-color: #464646;} BODY{ background-color: #464646; margin: 0 auto;} #main{ padding: 0 35px;}} .menu1{ background-color: #fafafa; box-shadow: 0 4px 2px -2px darkgray;} .menu1 A:hover{ background-color: #f7f7f7; box-shadow: 1px 1px 1px #cccccc;} .menu1 INPUT, .menu1 SELECT{ border: solid #bfbfbf 1px;} .menu2{ background-color: #efefef; box-shadow: 3px 3px 3px #aaaaaa;} A{ color: #084a94;} #siteinfo{ border-top: solid #aaaaaa 1px;} BUTTON{ border: solid #888888 1px; background-color: #cad8e8; box-shadow: 2px 2px 2px #cdcdcd;} BUTTON:hover{ border: solid black 1px; background-color: #cdcdcd;} .morzsamenu{ color: #464646;} .morzsamenu A{ color: #084a94;} .hiba{ color: #880000;} .hiba A{ color: #440000;} .ok{ border: solid #8888dd 1px; box-shadow: 2px 4px 4px #464646;} .kulcsszo_lista{ width: 100%;} .kulcsszo_lista DIV{ width: 25%; margin: 5px 0 5px 0;} .kulcsszo_lista SPAN{ color: #666666;} .oldalszamok{ margin: 20px 0 20px 0; text-align: center;} .oldalszamok A, .oldalszamok SPAN{ display: inline-block; border: solid gray 1px; padding: 3px; background-color: white; min-width: 15px; font-weight: bold; border-radius: 5px;}.oldalszamok A:hover:not(.active){ background-color: #ddd;} .kerdes_normal{ background-image: url(\"//static.gyakorikerdesek.hu/p/kerdes_normal.png\"); background-size: auto; width: 20px; height: 20px; min-width: 20px; max-width: 20px; margin: 1px 8px 1px 4px; padding: 0;} .kerdeslista{ background-color: white; text-align: left; border: solid #dddddd 1px; border-right: solid #aaaaaa 2px; border-bottom: solid #aaaaaa 2px; margin: 3px 0 3px 0; padding: 3px 0 3px 0; align-items: center; min-height: 40px;} .kerdeslista_szoveg{ word-break: break-word; max-width: 630px;} .kerdeslista_valasz{ margin: 0 5px 0 auto; border-radius: 50%; background-color: #dcdcdc; width: 25px; height: 25px; line-height: 25px; min-width: 25px; max-width: 25px; text-align: center; font-size: 11px;} .sor{ background-color: #efefef;} .kerdes_alatt{ font-size: 95%; color: #808080;} .kerdeslista_szavazas{ background-image: url(\"//static.gyakorikerdesek.hu/p/szavazas.png\"); width: 20px; height: 20px; min-width: 20px; max-width: 20px; margin-left: auto;} #cookiealert{ position: fixed; height: 100vh; margin: 0; padding: 0; background-color: rgba(0,0,0,0.3); font-size: 16px;}\\n#cookiealert A{ color: #27c;}\\n#cookiealert BUTTON{ display: inline-block; width: auto; padding: 8px 15px; margin: 3px 0; text-transform: uppercase; background-color: #fff; color: #000;}\\n#cookiealert #cookiediv{ position: relative; width: 800px; max-width: 78%; max-height: 80%; padding: 20px; background-color: #ddd; border: solid #888888 1px; border-radius: 6px; box-shadow: 5px 30px 30px #888888; text-align: center; overflow-x: hidden; overflow-y: auto;}\\n#cookiealert SPAN{ white-space: nowrap;}\\n#cookiealert .cookie_valasztas{ display: flex; justify-content: space-between; margin: 10px 0;}\\n</style>\\n<script>\\nfunction e(s){ return(document.getElementById(s));}\\nfunction cookienemok(){ if(confirm(\"Ehhez a m\\xc5\\xb1velethez sz\\xc3\\xbcks\\xc3\\xa9g van a cookie-k haszn\\xc3\\xa1lat\\xc3\\xa1ra. Enged\\xc3\\xa9lyezed ezt a weboldal sz\\xc3\\xa1m\\xc3\\xa1ra?\")){ ccookie(\"cookieok\",new Date().getTime(),0,94608000); return false;} else return true;}\\nfunction gcookie(s){ var re=new RegExp(s+\"=([^;]+)\"); var value=re.exec(document.cookie); return(value!=null ? unescape(value[1]):null);}\\nfunction ccookie(nev,ertek,uzenet,exp){\\n uzenet=(typeof uzenet!==\"undefined\" ? uzenet:1); exp=(typeof exp!==\"undefined\" ? exp:(ertek==\"\" ? -1:0));\\n if(nev!=\"cookieok\" && !gcookie(\"cookieok\")){ if(uzenet==0 || cookienemok()) return(0);}\\n if(exp!=0){ var t=new Date().getTime()+(exp*1000),d=new Date(); d.setTime(t);}\\n document.cookie=encodeURIComponent(nev)+\"=\"+encodeURIComponent(ertek)+\"; path=/; \"+(exp!=\"\" ? \"expires=\"+d.toGMTString()+\"; \":\"\")+\"domain=gyakorikerdesek.hu\"; return(1);\\n}\\nfunction displayset(s,n){ if(e(s)!==null) e(s).style.display=(n==2 ? \"flex\": (n==1 ? \"block\":\"none\"));}\\nvar betoltesalatt=0;\\nfunction betoltes(res,mode){\\n if(mode==0){ betoltesalatt=1; displayset(res,0); e(res).innerHTML=\"<span class=\\\\\"betoltesikon\\\\\"></span>\"; setTimeout(function(){ betoltes(res,1);},300);}\\n else if(mode==1 && betoltesalatt==1) displayset(res,1);\\n}\\nfunction classdel(c){ var x=document.getElementsByClassName(c); for(var i=0;i<x.length;i++) x[i].innerHTML=\"\";}\\nfunction ugras(el){\\n el=e(el); etop=el.offsetTop; wtop=window.scrollY; wbottom=wtop+window.innerHeight;\\n if(etop>=wbottom || etop<=wtop) window.scrollTo(0,Math.max(etop-50,0));\\n}\\nvoltres=[];\\nfunction getscript(js,res){\\n if(res!=\"\"){\\n  if(this.className!=e(res).className){ if(e(res).innerHTML!=\"\" && voltres[res]==js){ e(res).innerHTML=\"\"; return;} classdel(e(res).className);}\\n  if(res!=\"res\"){ displayset(res,1); ugras(res); betoltes(res,0);}\\n }\\n voltres[res]=js;\\n var jss=document.createElement(\"script\"); jss.type=\"text/javascript\"; jss.src=js; jss.async=true;\\n document.getElementsByTagName(\"head\")[0].appendChild(jss);\\n}\\nfunction cookie_allitas(n,ertek){ document.getElementById(n).innerHTML=document.getElementById(n).innerHTML.replace((ertek==\"BE\" ? \"BE\":\"KI\"),(ertek==\"BE\" ? \"KI\":\"BE\"));}\\nfunction cookie_meret(){\\n dd=document.getElementById(\"cookiediv\"); dd.style.left=((o.offsetWidth-dd.offsetWidth)/2)+\"px\"; dd.style.top=((o.offsetHeight-dd.offsetHeight)/2)+\"px\";\\n}\\nfunction cookiealert(){\\n d=document;\\n if(document.getElementById(\"cookiealert\")) return(null);\\n o=d.getElementsByTagName(\"html\")[0].appendChild(d.createElement(\"div\")); o.id=\"cookiealert\";\\n d.body.style.position=\"absolute\"; o.style.width=d.body.offsetWidth+\"px\";\\n o.innerHTML=\"<div id=\\\\\"cookiediv\\\\\"><p><b>Adataid v\\xc3\\xa9delme fontos sz\\xc3\\xa1munkra!</b></p><p>Mint a weboldalak t\\xc3\\xb6bbs\\xc3\\xa9ge az interneten, honlapunk m\\xc5\\xb1k\\xc3\\xb6d\\xc3\\xa9s\\xc3\\xa9hez \\xc3\\xa9s c\\xc3\\xa9lzott hirdet\\xc3\\xa9sek megjelen\\xc3\\xadt\\xc3\\xa9s\\xc3\\xa9hez mi \\xc3\\xa9s hirdet\\xc3\\xa9si partnereink is cookie-kat t\\xc3\\xa1rolunk az \\xc3\\xa1ltalad haszn\\xc3\\xa1lt eszk\\xc3\\xb6z\\xc3\\xb6n. Ahhoz, hogy ezt megtehess\\xc3\\xbck, a hozz\\xc3\\xa1j\\xc3\\xa1rul\\xc3\\xa1sod sz\\xc3\\xbcks\\xc3\\xa9ges. Err\\xc5\\x91l az <a href=\\\\\"/adatvedelem\\\\\">adatv\\xc3\\xa9delmi t\\xc3\\xa1j\\xc3\\xa9koztat\\xc3\\xb3nkban</a> r\\xc3\\xa9szletes inform\\xc3\\xa1ci\\xc3\\xb3khoz juthatsz, illetve bizonyos cookie-k haszn\\xc3\\xa1lat\\xc3\\xa1val kapcsolatban tov\\xc3\\xa1bbi lehet\\xc5\\x91s\\xc3\\xa9geid vannak.</p><p><button onclick=\\'cookie_lehetosegek();\\'>Tov\\xc3\\xa1bbi lehet\\xc5\\x91s\\xc3\\xa9gek</button> &nbsp; <button onclick=\\'cookie_mentes();\\' style=\\\\\"background-color: #27c; color: #fff;\\\\\">Elfogadom</button></p></div>\";\\n cookie_meret();\\n}\\nfunction cookie_kiir(n){\\n if(n==\"\") be=1; else if(cookie_ertek!=-1) be=2; else be=0;\\n return(\"<span\"+(be!=1 ? \" style=\\\\\"cursor: pointer; color: #27c;\\\\\" onclick=\\'cookie_allitas(\\\\\"\"+n+\"\\\\\",this.innerHTML);\\'\":\"\")+\">\"+(be>0 ? \"BE\":\"KI\")+\"</span>\");\\n}\\nfunction cookie_valasztas(t,r,n){\\n return(\"<div class=\\\\\"cookie_valasztas\\\\\"><div style=\\\\\"text-align: left;\\\\\"><b>\"+t+\":</b>\"+(n==\"\" ? \" (nem kikapcsolhat\\xc3\\xb3)\":\"\")+\"<br><small>\"+r+\"</small></div><div id=\\'\"+n+\"\\'>\"+cookie_kiir(n)+\"</div></div>\");\\n}\\nfunction cookie_lehetosegek(){\\n document.getElementById(\"cookiediv\").innerHTML=\"<p>A weboldalunk \\xc3\\xa9s hirdet\\xc3\\xa9si partnereink \\xc3\\xa1ltal haszn\\xc3\\xa1lt cookie-kat k\\xc3\\xa9t r\\xc3\\xa9szre bontottuk. A m\\xc5\\xb1k\\xc3\\xb6d\\xc3\\xa9shez felt\\xc3\\xa9tlen sz\\xc3\\xbcks\\xc3\\xa9gesek kikapcsol\\xc3\\xa1s\\xc3\\xa1ra nincs lehet\\xc5\\x91s\\xc3\\xa9ged. A szem\\xc3\\xa9lyre szabottabb hirdet\\xc3\\xa9sekkel sz\\xc3\\xa1modra \\xc3\\xa9rdekesebb rekl\\xc3\\xa1mok jelenhetnek meg. Amennyiben ezt nem szeretn\\xc3\\xa9d, elutas\\xc3\\xadthatod. Tov\\xc3\\xa1bbi inform\\xc3\\xa1ci\\xc3\\xb3kat az <a href=\\\\\"/adatvedelem\\\\\">adatv\\xc3\\xa9delmi t\\xc3\\xa1j\\xc3\\xa9koztat\\xc3\\xb3nkban</a> olvashatsz.</b></p>\"+cookie_valasztas(\"Az oldal m\\xc5\\xb1k\\xc3\\xb6d\\xc3\\xa9s\\xc3\\xa9hez sz\\xc3\\xbcks\\xc3\\xa9ges cookie-k\",\"Sz\\xc3\\xbcks\\xc3\\xa9gesek a bel\\xc3\\xa9p\\xc3\\xa9s/regisztr\\xc3\\xa1ci\\xc3\\xb3 eset\\xc3\\xa9n t\\xc3\\xb6rt\\xc3\\xa9n\\xc5\\x91 azonos\\xc3\\xadt\\xc3\\xa1shoz<br>Sz\\xc3\\xbcks\\xc3\\xa9gesek a hirdet\\xc3\\xa9sekkel kapcsolatos gyakoris\\xc3\\xa1gkorl\\xc3\\xa1toz\\xc3\\xa1shoz, \\xc3\\xb6sszes\\xc3\\xadtett jelent\\xc3\\xa9sekhez \\xc3\\xa9s vissza\\xc3\\xa9l\\xc3\\xa9sek elleni int\\xc3\\xa9zked\\xc3\\xa9sek c\\xc3\\xa9lj\\xc3\\xa1b\\xc3\\xb3l\",\"\")+cookie_valasztas(\"Szem\\xc3\\xa9lyre szabott hirdet\\xc3\\xa9sek megjelen\\xc3\\xadt\\xc3\\xa9s\\xc3\\xa9hez sz\\xc3\\xbcks\\xc3\\xa9ges cookie-k\",\"A c\\xc3\\xa9lzott hirdet\\xc3\\xa9sek kor\\xc3\\xa1bban gy\\xc5\\xb1jt\\xc3\\xb6tt adatokon alapulnak, illetve adatokat gy\\xc5\\xb1jthetnek a hirdet\\xc3\\xa9s c\\xc3\\xa9lz\\xc3\\xa1s\\xc3\\xa1hoz\",\"cookieok\")+(cookie_ertek!=null ? \"<div class=\\\\\"cookie_valasztas\\\\\"><div style=\\\\\"text-align: left;\\\\\"><a onclick=\\'cookie_visszavonas();\\' style=\\\\\"cursor: pointer;\\\\\">Kor\\xc3\\xa1bbi hozz\\xc3\\xa1j\\xc3\\xa1rul\\xc3\\xa1s visszavon\\xc3\\xa1sa</a><br><small>Ha visszavonod a kor\\xc3\\xa1bbi nyilatkozatod, ezt \\xc3\\xbagy tekintj\\xc3\\xbck, hogy a weboldalunk m\\xc5\\xb1k\\xc3\\xb6d\\xc3\\xa9s\\xc3\\xa9hez sz\\xc3\\xbcks\\xc3\\xa9ges cookie-k haszn\\xc3\\xa1lat\\xc3\\xa1t sem enged\\xc3\\xa9lyezed. En\\xc3\\xa9lk\\xc3\\xbcl viszont a honlapunk tartalm\\xc3\\xa1t sem fogod el\\xc3\\xa9rni.</small></div></div>\":\"\")+\"<p><button onclick=\\'cookie_mentes();\\'>Be\\xc3\\xa1ll\\xc3\\xadt\\xc3\\xa1sok ment\\xc3\\xa9se</button></p>\";\\n cookie_meret();\\n}\\nfunction cookie_mentes(){\\n c=document.getElementById(\"cookieok\");\\n t=new Date().getTime(); d=new Date(); d.setTime(t+31536000000); if(c && c.innerHTML.indexOf(\">KI<\")!==-1) t=-1;\\n document.cookie=encodeURIComponent(\"cookieok\")+\"=\"+encodeURIComponent(t)+\"; path=/; expires=\"+d.toGMTString()+\"; domain=\"+window.location.hostname.replace(\"www.\",\"\");\\n if(cookie_ertek!=null && (cookie_ertek==t || (cookie_ertek>-1 && t>-1))){ document.getElementsByTagName(\"html\")[0].removeChild(document.getElementById(\"cookiealert\")); cookie_ertek=t;} else window.location.reload(false);\\n}\\nfunction cookie_visszavonas(){\\n t=new Date().getTime(); d=new Date(); d.setTime(t-1);\\n document.cookie=encodeURIComponent(\"cookieok\")+\"=\"+encodeURIComponent(t)+\"; path=/; expires=\"+d.toGMTString()+\"; domain=\"+window.location.hostname.replace(\"www.\",\"\");\\n document.getElementById(\"cookiediv\").innerHTML=\"<p><b>Visszavontad a cookie-k haszn\\xc3\\xa1lat\\xc3\\xa1t lehet\\xc5\\x91v\\xc3\\xa9 tev\\xc5\\x91 hozz\\xc3\\xa1j\\xc3\\xa1rul\\xc3\\xa1sodat.</b></p><p>A weboldalunk haszn\\xc3\\xa1lat\\xc3\\xa1hoz felt\\xc3\\xa9tlen\\xc3\\xbcl sz\\xc3\\xbcks\\xc3\\xa9ges cookie-k n\\xc3\\xa9lk\\xc3\\xbcl a honlapunk tartalm\\xc3\\xa1t nem \\xc3\\xa9red el. Ha a k\\xc3\\xa9s\\xc5\\x91bbiekben meggondoln\\xc3\\xa1d magad, a honlap \\xc3\\xbajb\\xc3\\xb3li megl\\xc3\\xa1togat\\xc3\\xa1sakor \\xc3\\xbajra d\\xc3\\xb6nthetsz a cookie-kr\\xc3\\xb3l.</p>\";\\n}\\nvar re=new RegExp(\"cookieok=([^;]+)\"); var cookie_ertek=re.exec(document.cookie); cookie_ertek=(cookie_ertek!=null ? unescape(cookie_ertek[1]):null);\\n\\n</script>\\n\\n\\n</head>\\n<body>\\n\\n<div id=\"main\">\\n<div class=\"flex menu1\" style=\"align-items: center; flex-wrap: nowrap;\">\\n<div><img src=\"//static.gyakorikerdesek.hu/p/fejlec_desktop.png\" alt=\"fejl\\xc3\\xa9c\" style=\"width: 250px; height: 50px; margin-right: 10px; cursor: pointer;\" onclick=\\'location.href=\"/\";\\'></div>\\n<div>\\n<a href=\"/\" title=\"Gyakorik\\xc3\\xa9rd\\xc3\\xa9sek kezd\\xc5\\x91oldal\"><img src=\"//static.gyakorikerdesek.hu/p/desktopmenu_kezdooldal.png\" alt=\"Gyakori k\\xc3\\xa9rd\\xc3\\xa9sek\" style=\"width: 30px; height: 30px;\"></a>\\n <a href=\"/belepes\"><img src=\\'//static.gyakorikerdesek.hu/p/desktopmenu_sajat.png\\' alt=\\'Bel\\xc3\\xa9p\\xc3\\xa9s\\' title=\"Bel\\xc3\\xa9p\\xc3\\xa9s - Regisztr\\xc3\\xa1ci\\xc3\\xb3\"></a> <a href=\"/belepes\"><img src=\"//static.gyakorikerdesek.hu/p/desktopmenu_uj.png\" alt=\"\\xc3\\x9aj k\\xc3\\xa9rd\\xc3\\xa9s\" title=\"\\xc3\\x9aj k\\xc3\\xa9rd\\xc3\\xa9s\"></a> <a href=\"/egy_veletlen_kerdes\" title=\"Egy v\\xc3\\xa9letlen k\\xc3\\xa9rd\\xc3\\xa9s\"><img src=\"//static.gyakorikerdesek.hu/p/desktopmenu_veletlen.png\" alt=\"V\\xc3\\xa9letlen k\\xc3\\xa9rd\\xc3\\xa9s\" style=\"width: 84px; height: 30px;\"></a>\\n</div>\\n<form id=\"keresesform\" action=\"/kereses.php\" method=\"get\" onsubmit=\\'if(e(\"keres\").value.trim()!=\"\") window.open(\"/kereses.php?keres=\"+e(\"keres\").value.trim()+(e(\"kategoria\") && e(\"kategoria\").value!=\"0\" ? \"&kategoria=\"+e(\"kategoria\").value:\"\"),\"_self\"); return false;\\' style=\"margin-left: auto;\">\\n<div class=\"flex\" style=\"align-items: center;\">\\n<div><input type=\"text\" id=\"keres\" name=\"keres\" value=\\'szakkoll\\xc3\\xa9gium\\' size=\"20\" maxlength=\"50\" title=\"Keresett sz\\xc3\\xb3\"></div>\\n<div style=\"margin: 0 5px 0 10px;\"><img src=\"//static.gyakorikerdesek.hu/p/mobilmenu_kereses.png\" alt=\"Keres\\xc3\\xa9s\" onclick=\\'e(\"keresesform\").onsubmit();\\' style=\"cursor: pointer; width: 30px; height: 30px;\"></div>\\n</div></form>\\n</div>\\n<div class=\"flex\" style=\"flex-wrap: nowrap;\">\\n<div id=\"main1\">\\n\\n<div class=\"menu2\"><div id=\"alkategoria\" class=\"menu\"><div><i><a href=\\'/\\'>Kezd\\xc5\\x91oldal</a></i></div><div><a href=\\'/allatok\\'>\\xc3\\x81llatok</a></div><div><a href=\\'/csaladi-kapcsolatok\\'>Csal\\xc3\\xa1di kapcsolatok</a></div><div><a href=\\'/egeszseg\\'>Eg\\xc3\\xa9szs\\xc3\\xa9g</a></div><div><a href=\\'/elektronikus-eszkozok\\'>Elektronikus eszk\\xc3\\xb6z\\xc3\\xb6k</a></div><div><a href=\\'/emberek\\'>Emberek</a></div><div><a href=\\'/etelek-italok\\'>\\xc3\\x89telek, italok</a></div><div><a href=\\'/ezoteria\\'>Ezot\\xc3\\xa9ria</a></div><div><a href=\\'/felnott-parkapcsolatok\\'>Feln\\xc5\\x91tt p\\xc3\\xa1rkapcsolatok</a></div><div><a href=\\'/fogyokurak\\'>Fogy\\xc3\\xb3k\\xc3\\xbar\\xc3\\xa1k</a></div><div><a href=\\'/gyerekvallalas-neveles\\'>Gyerekv\\xc3\\xa1llal\\xc3\\xa1s, nevel\\xc3\\xa9s</a></div><div><a href=\\'/ismerkedes\\'>Ismerked\\xc3\\xa9s</a></div><div><a href=\\'/kozlekedes\\'>K\\xc3\\xb6zleked\\xc3\\xa9s</a></div><div><a href=\\'/kozoktatas-tanfolyamok\\'>K\\xc3\\xb6zoktat\\xc3\\xa1s, tanfolyamok</a></div><div><a href=\\'/kultura-es-kozosseg\\'>Kult\\xc3\\xbara \\xc3\\xa9s k\\xc3\\xb6z\\xc3\\xb6ss\\xc3\\xa9g</a></div><div><a href=\\'/otthon\\'>Otthon</a></div><div><a href=\\'/politika\\'>Politika</a></div><div><a href=\\'/sport-mozgas\\'>Sport, mozg\\xc3\\xa1s</a></div><div><a href=\\'/szamitastechnika\\'>Sz\\xc3\\xa1m\\xc3\\xadt\\xc3\\xa1stechnika</a></div><div><a href=\\'/szepseg-es-divat\\'>Sz\\xc3\\xa9ps\\xc3\\xa9g \\xc3\\xa9s divat</a></div><div><a href=\\'/szexualitas\\'>Szexualit\\xc3\\xa1s</a></div><div><a href=\\'/szorakozas\\'>Sz\\xc3\\xb3rakoz\\xc3\\xa1s</a></div><div><a href=\\'/tini-parkapcsolatok\\'>Tini p\\xc3\\xa1rkapcsolatok</a></div><div><a href=\\'/tudomanyok\\'>Tudom\\xc3\\xa1nyok</a></div><div><a href=\\'/utazas\\'>Utaz\\xc3\\xa1s</a></div><div><a href=\\'/unnepek\\'>\\xc3\\x9cnnepek</a></div><div><a href=\\'/uzlet-es-penzugyek\\'>\\xc3\\x9czlet \\xc3\\xa9s p\\xc3\\xa9nz\\xc3\\xbcgyek</a></div><div><a href=\\'/egyeb-kerdesek\\'>Egy\\xc3\\xa9b k\\xc3\\xa9rd\\xc3\\xa9sek</a></div></div></div><br></div><div id=\"main2\"><div class=\"morzsamenu\"><a href=\\'/\\' title=\"Gyakorikerdesek\">Kezd\\xc5\\x91oldal</a> &raquo; <b>Keres\\xc3\\xa9s</b></div>\\n<h1>Szakkoll\\xc3\\xa9gium - Gyakori k\\xc3\\xa9rd\\xc3\\xa9sek</h1>\\n<h2>Tal\\xc3\\xa1lt kulcsszavak:</h2><div class=\"flex kulcsszo_lista\"><div><input type=\"checkbox\" id=\"chkb106826\" onclick=\\'alert(\"A kulcssz\\xc3\\xb3 figyel\\xc3\\xa9s be\\xc3\\xa1ll\\xc3\\xadt\\xc3\\xa1s\\xc3\\xa1hoz be kell jelentkezned!\"); location.href=\"/belepes\";\\' class=\"check\"> <a href=\\'/kereses.php?keres=szakkoll%C3%A9gium\\'>szakkoll\\xc3\\xa9gium</a></div><div><input type=\"checkbox\" id=\"chkb358583\" onclick=\\'alert(\"A kulcssz\\xc3\\xb3 figyel\\xc3\\xa9s be\\xc3\\xa1ll\\xc3\\xadt\\xc3\\xa1s\\xc3\\xa1hoz be kell jelentkezned!\"); location.href=\"/belepes\";\\' class=\"check\"> <a href=\\'/kereses.php?keres=M%C3%A1rton+%C3%81ron+Szakkoll%C3%A9gium\\'>M\\xc3\\xa1rton \\xc3\\x81ron Szakkoll\\xc3\\xa9gium</a></div><div><input type=\"checkbox\" id=\"chkb1557150\" onclick=\\'alert(\"A kulcssz\\xc3\\xb3 figyel\\xc3\\xa9s be\\xc3\\xa1ll\\xc3\\xadt\\xc3\\xa1s\\xc3\\xa1hoz be kell jelentkezned!\"); location.href=\"/belepes\";\\' class=\"check\"> <a href=\\'/kereses.php?keres=Szent+Ign%C3%A1c+Jezsuita+Szakkoll%C3%A9gium\\'>Szent Ign\\xc3\\xa1c Jezsuita Szakkoll\\xc3\\xa9gium</a></div></div><br><h2>Tal\\xc3\\xa1lt k\\xc3\\xa9rd\\xc3\\xa9sek:</h2><div class=\"oldalszamok\" style=\"text-align: center;\"> <span style=\\'background-color: #efefef; padding: 5px; font-weight: bold;\\'>1</span> <a href=\\'/kereses.php?keres=szakkoll%C3%A9gium&oldal=2\\' title=\"szakkoll\\xc3\\xa9gium 2.\">2</a>  <a href=\\'/kereses.php?keres=szakkoll%C3%A9gium&oldal=3\\' title=\"szakkoll\\xc3\\xa9gium 3.\">3</a>  <a href=\\'/kereses.php?keres=szakkoll%C3%A9gium&oldal=4\\' title=\"szakkoll\\xc3\\xa9gium 4.\">4</a>  <a href=\\'/kereses.php?keres=szakkoll%C3%A9gium&oldal=5\\' title=\"szakkoll\\xc3\\xa9gium 5.\">5</a>  <a href=\\'/kereses.php?keres=szakkoll%C3%A9gium&oldal=6\\' title=\"szakkoll\\xc3\\xa9gium 6.\">6</a>  <a href=\\'/kereses.php?keres=szakkoll%C3%A9gium&oldal=7\\' title=\"szakkoll\\xc3\\xa9gium 7.\">7</a>  <a href=\\'/kereses.php?keres=szakkoll%C3%A9gium&oldal=8\\' title=\"szakkoll\\xc3\\xa9gium 8.\">8</a>  <a href=\\'/kereses.php?keres=szakkoll%C3%A9gium&oldal=9\\' title=\"szakkoll\\xc3\\xa9gium 9.\">9</a>  <a href=\\'/kereses.php?keres=szakkoll%C3%A9gium&oldal=10\\' title=\"szakkoll\\xc3\\xa9gium 10.\">10</a> <a href=\\'/kereses.php?keres=szakkoll%C3%A9gium&oldal=2\\' title=\"szakkoll\\xc3\\xa9gium 2.\">&#10095;</a> <a href=\\'/kereses.php?keres=szakkoll%C3%A9gium&oldal=10\\' title=\"szakkoll\\xc3\\xa9gium 10.\">&#10095;&#10095;</a> </div>\\n<div class=\"flex kerdeslista\" style=\"flex-wrap: nowrap;\" id=\"k11913351\"><div class=\"kerdes_normal\"></div><div class=\"kerdeslista_szoveg\"><a href=\\'/kozoktatas-tanfolyamok__magyar-iskolak__11913351-phd-skent-keso-szakkolegiumba-jelentkezni\\'>PhD-sk\\xc3\\xa9nt k\\xc3\\xa9s\\xc5\\x91 szakkol\\xc3\\xa9giumba jelentkezni?</a><br><span class=\"kerdes_alatt\"><a href=\\'/kozoktatas-tanfolyamok__magyar-iskolak\\' class=\\'kerdes_alatt\\'>K\\xc3\\xb6zoktat\\xc3\\xa1s, tanfolyamok &raquo; Magyar iskol\\xc3\\xa1k</a></span></div><div class=\"kerdeslista_valasz\">0</div></div><div class=\"flex kerdeslista sor\" style=\"flex-wrap: nowrap;\" id=\"k11894807\"><div class=\"kerdes_normal\"></div><div class=\"kerdeslista_szoveg\"><a href=\\'/kozoktatas-tanfolyamok__magyar-iskolak__11894807-miert-epp-a-harkaly-szerepel-az-elte-bibo-istvan-szakkollegium-logojabanbannere\\'>Mi\\xc3\\xa9rt \\xc3\\xa9pp a hark\\xc3\\xa1ly szerepel az ELTE Bib\\xc3\\xb3 Istv\\xc3\\xa1n Szakkoll\\xc3\\xa9gium log\\xc3\\xb3j\\xc3\\xa1ban/banner\\xc3\\xa9ben?</a><br><span class=\"kerdes_alatt\"><a href=\\'/kozoktatas-tanfolyamok__magyar-iskolak\\' class=\\'kerdes_alatt\\'>K\\xc3\\xb6zoktat\\xc3\\xa1s, tanfolyamok &raquo; Magyar iskol\\xc3\\xa1k</a></span></div><div class=\"kerdeslista_valasz\">0</div></div><div class=\"flex kerdeslista\" style=\"flex-wrap: nowrap;\" id=\"k11888739\"><div class=\"kerdes_normal\"></div><div class=\"kerdeslista_szoveg\"><a href=\\'/kozoktatas-tanfolyamok__magyar-iskolak__11888739-a-benda-kalman-szakkollegium-felveteli-elbeszelgetesen-mi-varhato-milyen-kerdes\\'>A Benda K\\xc3\\xa1lm\\xc3\\xa1n Szakkoll\\xc3\\xa9gium felv\\xc3\\xa9teli elbesz\\xc3\\xa9lget\\xc3\\xa9s\\xc3\\xa9n mi v\\xc3\\xa1rhat\\xc3\\xb3? Milyen k\\xc3\\xa9rd\\xc3\\xa9sek? Milyen t\\xc3\\xa9m\\xc3\\xa1k?</a><br><span class=\"kerdes_alatt\"><a href=\\'/kozoktatas-tanfolyamok__magyar-iskolak\\' class=\\'kerdes_alatt\\'>K\\xc3\\xb6zoktat\\xc3\\xa1s, tanfolyamok &raquo; Magyar iskol\\xc3\\xa1k</a></span></div><div class=\"kerdeslista_valasz\">0</div></div><div class=\"flex kerdeslista sor\" style=\"flex-wrap: nowrap;\" id=\"k11854503\"><div class=\"kerdes_normal\"></div><div class=\"kerdeslista_szoveg\"><a href=\\'/kozoktatas-tanfolyamok__magyar-iskolak__11854503-mcc-mathias-corvinus-collegiumrol-velemeny\\'>MCC (mathias corvinus coll\\xc3\\xa9gium)r\\xc3\\xb3l v\\xc3\\xa9lem\\xc3\\xa9ny?</a><br><span class=\"kerdes_alatt\"><a href=\\'/kozoktatas-tanfolyamok__magyar-iskolak\\' class=\\'kerdes_alatt\\'>K\\xc3\\xb6zoktat\\xc3\\xa1s, tanfolyamok &raquo; Magyar iskol\\xc3\\xa1k</a></span></div><div class=\"kerdeslista_valasz\">1</div></div><div class=\"flex kerdeslista\" style=\"flex-wrap: nowrap;\" id=\"k11853338\"><div class=\"kerdes_normal\"></div><div class=\"kerdeslista_szoveg\"><a href=\\'/kozoktatas-tanfolyamok__specialis-tanfolyamok__11853338-lenne-eselyem-szakkollegiumba\\'>Lenne es\\xc3\\xa9lyem szakkoll\\xc3\\xa9giumba?</a><br><span class=\"kerdes_alatt\"><a href=\\'/kozoktatas-tanfolyamok__specialis-tanfolyamok\\' class=\\'kerdes_alatt\\'>K\\xc3\\xb6zoktat\\xc3\\xa1s, tanfolyamok &raquo; Speci\\xc3\\xa1lis tanfolyamok</a></span></div><div class=\"kerdeslista_valasz\">3</div></div><div class=\"flex kerdeslista sor\" style=\"flex-wrap: nowrap;\" id=\"k11851503\"><div class=\"kerdes_normal\"></div><div class=\"kerdeslista_szoveg\"><a href=\\'/kozoktatas-tanfolyamok__magyar-iskolak__11851503-az-eotvos-jozsef-szakkollegiumra-kinek-van-eselye-bekerulni\\'>Az E\\xc3\\xb6tv\\xc3\\xb6s J\\xc3\\xb3zsef Szakkoll\\xc3\\xa9giumra kinek van es\\xc3\\xa9lye beker\\xc3\\xbclni?</a><br><span class=\"kerdes_alatt\"><a href=\\'/kozoktatas-tanfolyamok__magyar-iskolak\\' class=\\'kerdes_alatt\\'>K\\xc3\\xb6zoktat\\xc3\\xa1s, tanfolyamok &raquo; Magyar iskol\\xc3\\xa1k</a></span></div><div class=\"kerdeslista_valasz\">1</div></div><div class=\"flex kerdeslista\" style=\"flex-wrap: nowrap;\" id=\"k11837483\"><div class=\"kerdes_normal\"></div><div class=\"kerdeslista_szoveg\"><a href=\\'/kozoktatas-tanfolyamok__magyar-iskolak__11837483-elte-szakkollegiumokrol-mit-lehet-tudni-hogyan-kell-jelentkezni\\'>ELTE szakkoll\\xc3\\xa9giumokr\\xc3\\xb3l mit lehet tudni? Hogyan kell jelentkezni?</a><br><span class=\"kerdes_alatt\"><a href=\\'/kozoktatas-tanfolyamok__magyar-iskolak\\' class=\\'kerdes_alatt\\'>K\\xc3\\xb6zoktat\\xc3\\xa1s, tanfolyamok &raquo; Magyar iskol\\xc3\\xa1k</a></span></div><div class=\"kerdeslista_valasz\">3</div></div><div class=\"flex kerdeslista sor\" style=\"flex-wrap: nowrap;\" id=\"k11832490\"><div class=\"kerdes_normal\"></div><div class=\"kerdeslista_szoveg\"><a href=\\'/kozoktatas-tanfolyamok__egyeb-kerdesek__11832490-melyiket-ajanlanatok-inkabb-az-elte-marton-aron-szakkollegiumot-vagy-az-erdos\\'>Melyiket aj\\xc3\\xa1nlan\\xc3\\xa1tok ink\\xc3\\xa1bb, az ELTE M\\xc3\\xa1rton \\xc3\\x81ron Szakkoll\\xc3\\xa9giumot, vagy az Erd\\xc5\\x91s P\\xc3\\xa1l Koll\\xc3\\xa9giumot?</a><br><span class=\"kerdes_alatt\"><a href=\\'/kozoktatas-tanfolyamok__egyeb-kerdesek\\' class=\\'kerdes_alatt\\'>K\\xc3\\xb6zoktat\\xc3\\xa1s, tanfolyamok &raquo; Egy\\xc3\\xa9b k\\xc3\\xa9rd\\xc3\\xa9sek</a></span></div><div class=\"kerdeslista_valasz\">1</div></div><div class=\"flex kerdeslista\" style=\"flex-wrap: nowrap;\" id=\"k11800923\"><div class=\"kerdes_normal\"></div><div class=\"kerdeslista_szoveg\"><a href=\\'/kozoktatas-tanfolyamok__magyar-iskolak__11800923-az-elte-illyes-sandor-szakkollegiumaba-mennyire-nehez-bekerulni-golyakent\\'>Az ELTE Illy\\xc3\\xa9s S\\xc3\\xa1ndor Szakkoll\\xc3\\xa9gium\\xc3\\xa1ba mennyire neh\\xc3\\xa9z beker\\xc3\\xbclni g\\xc3\\xb3lyak\\xc3\\xa9nt?</a><br><span class=\"kerdes_alatt\"><a href=\\'/kozoktatas-tanfolyamok__magyar-iskolak\\' class=\\'kerdes_alatt\\'>K\\xc3\\xb6zoktat\\xc3\\xa1s, tanfolyamok &raquo; Magyar iskol\\xc3\\xa1k</a></span></div><div class=\"kerdeslista_valasz\">1</div></div><div class=\"flex kerdeslista sor\" style=\"flex-wrap: nowrap;\" id=\"k11792228\"><div class=\"kerdes_normal\"></div><div class=\"kerdeslista_szoveg\"><a href=\\'/kozoktatas-tanfolyamok__tanulasi-lehetosegek__11792228-elte-ik-programtervezo-informatikus-msc-velemenyek\\'>ELTE IK programtervez\\xc5\\x91 informatikus MSc v\\xc3\\xa9lem\\xc3\\xa9nyek?</a><br><span class=\"kerdes_alatt\"><a href=\\'/kozoktatas-tanfolyamok__tanulasi-lehetosegek\\' class=\\'kerdes_alatt\\'>K\\xc3\\xb6zoktat\\xc3\\xa1s, tanfolyamok &raquo; Tanul\\xc3\\xa1si lehet\\xc5\\x91s\\xc3\\xa9gek</a></span></div><div class=\"kerdeslista_szavazas\" title=\"Szavaz\\xc3\\xa1ssal b\\xc5\\x91v\\xc3\\xadtett k\\xc3\\xa9rd\\xc3\\xa9s\"></div><div class=\"kerdeslista_valasz\" style=\"margin-left: 8px;\">2</div></div><div class=\"flex kerdeslista\" style=\"flex-wrap: nowrap;\" id=\"k11763442\"><div class=\"kerdes_normal\"></div><div class=\"kerdeslista_szoveg\"><a href=\\'/kozoktatas-tanfolyamok__egyeb-kerdesek__11763442-elso-eves-egyetemistakent-is-jelentkezhetek-szakkoliba\\'>Els\\xc5\\x91 \\xc3\\xa9ves egyetemistak\\xc3\\xa9nt is jelentkezhetek szakkoliba?</a><br><span class=\"kerdes_alatt\"><a href=\\'/kozoktatas-tanfolyamok__egyeb-kerdesek\\' class=\\'kerdes_alatt\\'>K\\xc3\\xb6zoktat\\xc3\\xa1s, tanfolyamok &raquo; Egy\\xc3\\xa9b k\\xc3\\xa9rd\\xc3\\xa9sek</a></span></div><div class=\"kerdeslista_valasz\">2</div></div><div class=\"flex kerdeslista sor\" style=\"flex-wrap: nowrap;\" id=\"k11699696\"><div class=\"kerdes_normal\"></div><div class=\"kerdeslista_szoveg\"><a href=\\'/kozoktatas-tanfolyamok__egyeb-kerdesek__11699696-milyen-mindenkinek-elerheto-szakkolik-vannak-pesten\\'>Milyen mindenkinek el\\xc3\\xa9rhet\\xc5\\x91 szakkolik vannak Pesten?</a><br><span class=\"kerdes_alatt\"><a href=\\'/kozoktatas-tanfolyamok__egyeb-kerdesek\\' class=\\'kerdes_alatt\\'>K\\xc3\\xb6zoktat\\xc3\\xa1s, tanfolyamok &raquo; Egy\\xc3\\xa9b k\\xc3\\xa9rd\\xc3\\xa9sek</a></span></div><div class=\"kerdeslista_valasz\">2</div></div><div class=\"flex kerdeslista\" style=\"flex-wrap: nowrap;\" id=\"k11589033\"><div class=\"kerdes_normal\"></div><div class=\"kerdeslista_szoveg\"><a href=\\'/kozoktatas-tanfolyamok__magyar-iskolak__11589033-mit-tudtok-a-navratil-akos-szakkollegiumrol\\'>Mit tudtok a Navratil \\xc3\\x81kos szakkoll\\xc3\\xa9giumr\\xc3\\xb3l?</a><br><span class=\"kerdes_alatt\"><a href=\\'/kozoktatas-tanfolyamok__magyar-iskolak\\' class=\\'kerdes_alatt\\'>K\\xc3\\xb6zoktat\\xc3\\xa1s, tanfolyamok &raquo; Magyar iskol\\xc3\\xa1k</a></span></div><div class=\"kerdeslista_valasz\">2</div></div><div class=\"flex kerdeslista sor\" style=\"flex-wrap: nowrap;\" id=\"k11554175\"><div class=\"kerdes_normal\"></div><div class=\"kerdeslista_szoveg\"><a href=\\'/uzlet-es-penzugyek__karrier-fizetes__11554175-egyetem-mellett-minel-elobb-gyakornoki-munka-vagy-tanulni-amennyit-csak-lehet\\'>Egyetem mellett min\\xc3\\xa9l el\\xc5\\x91bb gyakornoki munka, vagy tanulni, amennyit csak lehet?</a><br><span class=\"kerdes_alatt\"><a href=\\'/uzlet-es-penzugyek__karrier-fizetes\\' class=\\'kerdes_alatt\\'>\\xc3\\x9czlet \\xc3\\xa9s p\\xc3\\xa9nz\\xc3\\xbcgyek &raquo; Karrier, fizet\\xc3\\xa9s</a></span></div><div class=\"kerdeslista_szavazas\" title=\"Szavaz\\xc3\\xa1ssal b\\xc5\\x91v\\xc3\\xadtett k\\xc3\\xa9rd\\xc3\\xa9s\"></div><div class=\"kerdeslista_valasz\" style=\"margin-left: 8px;\">14</div></div><div class=\"flex kerdeslista\" style=\"flex-wrap: nowrap;\" id=\"k11553419\"><div class=\"kerdes_normal\"></div><div class=\"kerdeslista_szoveg\"><a href=\\'/kozoktatas-tanfolyamok__tanulasi-lehetosegek__11553419-szakkolegiumi-felvetel-hogy-mukodik-ha-valaki-csak-bejaros-es-nem-bentlakos-aka\\'>Szakkol\\xc3\\xa9giumi felv\\xc3\\xa9tel hogy m\\xc5\\xb1k\\xc3\\xb6dik, ha valaki csak bej\\xc3\\xa1r\\xc3\\xb3s \\xc3\\xa9s nem bentlak\\xc3\\xb3s akar lenni?</a><br><span class=\"kerdes_alatt\"><a href=\\'/kozoktatas-tanfolyamok__tanulasi-lehetosegek\\' class=\\'kerdes_alatt\\'>K\\xc3\\xb6zoktat\\xc3\\xa1s, tanfolyamok &raquo; Tanul\\xc3\\xa1si lehet\\xc5\\x91s\\xc3\\xa9gek</a></span></div><div class=\"kerdeslista_valasz\">2</div></div><div class=\"flex kerdeslista sor\" style=\"flex-wrap: nowrap;\" id=\"k11541072\"><div class=\"kerdes_normal\"></div><div class=\"kerdeslista_szoveg\"><a href=\\'/kozoktatas-tanfolyamok__egyeb-kerdesek__11541072-ha-nagyon-jo-erettsegit-irok-de-nincsenek-versenyeredmenyeim-akkormeg-van-esel\\'>Ha nagyon j\\xc3\\xb3 \\xc3\\xa9retts\\xc3\\xa9git \\xc3\\xadrok, de nincsenek versenyeredm\\xc3\\xa9nyeim, akkorm\\xc3\\xa9g van es\\xc3\\xa9ly arra, hogy felvegyenek a Bolyai Koll\\xc3\\xa9giumba (ELTE)?</a><br><span class=\"kerdes_alatt\"><a href=\\'/kozoktatas-tanfolyamok__egyeb-kerdesek\\' class=\\'kerdes_alatt\\'>K\\xc3\\xb6zoktat\\xc3\\xa1s, tanfolyamok &raquo; Egy\\xc3\\xa9b k\\xc3\\xa9rd\\xc3\\xa9sek</a></span></div><div class=\"kerdeslista_valasz\">3</div></div><div class=\"flex kerdeslista\" style=\"flex-wrap: nowrap;\" id=\"k11540555\"><div class=\"kerdes_normal\"></div><div class=\"kerdeslista_szoveg\"><a href=\\'/kozoktatas-tanfolyamok__tanulasi-lehetosegek__11540555-velemenyek-az-elte-illyes-sandor-szakkollegiumarol\\'>V\\xc3\\xa9lem\\xc3\\xa9nyek az ELTE Illy\\xc3\\xa9s S\\xc3\\xa1ndor Szakkoll\\xc3\\xa9gium\\xc3\\xa1r\\xc3\\xb3l?</a><br><span class=\"kerdes_alatt\"><a href=\\'/kozoktatas-tanfolyamok__tanulasi-lehetosegek\\' class=\\'kerdes_alatt\\'>K\\xc3\\xb6zoktat\\xc3\\xa1s, tanfolyamok &raquo; Tanul\\xc3\\xa1si lehet\\xc5\\x91s\\xc3\\xa9gek</a></span></div><div class=\"kerdeslista_valasz\">2</div></div><div class=\"flex kerdeslista sor\" style=\"flex-wrap: nowrap;\" id=\"k11507308\"><div class=\"kerdes_normal\"></div><div class=\"kerdeslista_szoveg\"><a href=\\'/kozoktatas-tanfolyamok__tanulasi-lehetosegek__11507308-velemenyek-az-eotvos-jozsef-collegiumrol\\'>V\\xc3\\xa9lem\\xc3\\xa9nyek az E\\xc3\\xb6tv\\xc3\\xb6s J\\xc3\\xb3zsef Collegiumr\\xc3\\xb3l?</a><br><span class=\"kerdes_alatt\"><a href=\\'/kozoktatas-tanfolyamok__tanulasi-lehetosegek\\' class=\\'kerdes_alatt\\'>K\\xc3\\xb6zoktat\\xc3\\xa1s, tanfolyamok &raquo; Tanul\\xc3\\xa1si lehet\\xc5\\x91s\\xc3\\xa9gek</a></span></div><div class=\"kerdeslista_valasz\">1</div></div><div class=\"flex kerdeslista\" style=\"flex-wrap: nowrap;\" id=\"k11340462\"><div class=\"kerdes_normal\"></div><div class=\"kerdeslista_szoveg\"><a href=\\'/kozoktatas-tanfolyamok__tanulasi-lehetosegek__11340462-milyen-szakkollegiumokat-ismertek-ahova-nem-csak-1-2-evben-lehet-jelentkezni-j\\'>Milyen szakkoll\\xc3\\xa9giumokat ismertek, ahova nem csak 1-2. \\xc3\\xa9vben lehet jelentkezni jog\\xc3\\xa1sz szakos hallgat\\xc3\\xb3k\\xc3\\xa9nt?</a><br><span class=\"kerdes_alatt\"><a href=\\'/kozoktatas-tanfolyamok__tanulasi-lehetosegek\\' class=\\'kerdes_alatt\\'>K\\xc3\\xb6zoktat\\xc3\\xa1s, tanfolyamok &raquo; Tanul\\xc3\\xa1si lehet\\xc5\\x91s\\xc3\\xa9gek</a></span></div><div class=\"kerdeslista_valasz\">0</div></div><div class=\"flex kerdeslista sor\" style=\"flex-wrap: nowrap;\" id=\"k11327958\"><div class=\"kerdes_normal\"></div><div class=\"kerdeslista_szoveg\"><a href=\\'/kozoktatas-tanfolyamok__tanulasi-lehetosegek__11327958-szerintetek-melyik-corvinusos-szakkoli-a-legjobb\\'>Szerintetek melyik Corvinusos szakkoli a legjobb?</a><br><span class=\"kerdes_alatt\"><a href=\\'/kozoktatas-tanfolyamok__tanulasi-lehetosegek\\' class=\\'kerdes_alatt\\'>K\\xc3\\xb6zoktat\\xc3\\xa1s, tanfolyamok &raquo; Tanul\\xc3\\xa1si lehet\\xc5\\x91s\\xc3\\xa9gek</a></span></div><div class=\"kerdeslista_szavazas\" title=\"Szavaz\\xc3\\xa1ssal b\\xc5\\x91v\\xc3\\xadtett k\\xc3\\xa9rd\\xc3\\xa9s\"></div><div class=\"kerdeslista_valasz\" style=\"margin-left: 8px;\">1</div></div><div class=\"flex kerdeslista\" style=\"flex-wrap: nowrap;\" id=\"k11318961\"><div class=\"kerdes_normal\"></div><div class=\"kerdeslista_szoveg\"><a href=\\'/kozoktatas-tanfolyamok__magyar-iskolak__11318961-szegedi-marton-aron-szakkollegium-velemenyek\\'>Szegedi M\\xc3\\xa1rton \\xc3\\x81ron szakkoll\\xc3\\xa9gium v\\xc3\\xa9lem\\xc3\\xa9nyek?</a><br><span class=\"kerdes_alatt\"><a href=\\'/kozoktatas-tanfolyamok__magyar-iskolak\\' class=\\'kerdes_alatt\\'>K\\xc3\\xb6zoktat\\xc3\\xa1s, tanfolyamok &raquo; Magyar iskol\\xc3\\xa1k</a></span></div><div class=\"kerdeslista_valasz\">0</div></div><div class=\"flex kerdeslista sor\" style=\"flex-wrap: nowrap;\" id=\"k11257662\"><div class=\"kerdes_normal\"></div><div class=\"kerdeslista_szoveg\"><a href=\\'/kozoktatas-tanfolyamok__magyar-iskolak__11257662-mennyire-lehetetlen-vallalkozas-elsoskent-elte-ttk-n-szakkollegiumba-bekerulni\\'>Mennyire lehetetlen v\\xc3\\xa1llalkoz\\xc3\\xa1s els\\xc5\\x91sk\\xc3\\xa9nt ELTE TTK-n szakkoll\\xc3\\xa9giumba beker\\xc3\\xbclni?</a><br><span class=\"kerdes_alatt\"><a href=\\'/kozoktatas-tanfolyamok__magyar-iskolak\\' class=\\'kerdes_alatt\\'>K\\xc3\\xb6zoktat\\xc3\\xa1s, tanfolyamok &raquo; Magyar iskol\\xc3\\xa1k</a></span></div><div class=\"kerdeslista_valasz\">1</div></div><div class=\"flex kerdeslista\" style=\"flex-wrap: nowrap;\" id=\"k11191861\"><div class=\"kerdes_normal\"></div><div class=\"kerdeslista_szoveg\"><a href=\\'/kozoktatas-tanfolyamok__tanulasi-lehetosegek__11191861-corvinuson-elsoevesnek-hol-erdemes-lakni\\'>Corvinuson els\\xc5\\x91\\xc3\\xa9vesnek hol \\xc3\\xa9rdemes lakni?</a><br><span class=\"kerdes_alatt\"><a href=\\'/kozoktatas-tanfolyamok__tanulasi-lehetosegek\\' class=\\'kerdes_alatt\\'>K\\xc3\\xb6zoktat\\xc3\\xa1s, tanfolyamok &raquo; Tanul\\xc3\\xa1si lehet\\xc5\\x91s\\xc3\\xa9gek</a></span></div><div class=\"kerdeslista_valasz\">2</div></div><div class=\"flex kerdeslista sor\" style=\"flex-wrap: nowrap;\" id=\"k11190550\"><div class=\"kerdes_normal\"></div><div class=\"kerdeslista_szoveg\"><a href=\\'/kozoktatas-tanfolyamok__magyar-iskolak__11190550-luther-otthon-szakkollegiumrol-tudnatok-par-szot-meselni-nekem\\'>Luther otthon szakkoll\\xc3\\xa9giumr\\xc3\\xb3l tudnatok p\\xc3\\xa1r sz\\xc3\\xb3t mes\\xc3\\xa9lni nekem?</a><br><span class=\"kerdes_alatt\"><a href=\\'/kozoktatas-tanfolyamok__magyar-iskolak\\' class=\\'kerdes_alatt\\'>K\\xc3\\xb6zoktat\\xc3\\xa1s, tanfolyamok &raquo; Magyar iskol\\xc3\\xa1k</a></span></div><div class=\"kerdeslista_valasz\">0</div></div><div class=\"oldalszamok\" style=\"text-align: center;\"> <span style=\\'background-color: #efefef; padding: 5px; font-weight: bold;\\'>1</span> <a href=\\'/kereses.php?keres=szakkoll%C3%A9gium&oldal=2\\' title=\"szakkoll\\xc3\\xa9gium 2.\">2</a>  <a href=\\'/kereses.php?keres=szakkoll%C3%A9gium&oldal=3\\' title=\"szakkoll\\xc3\\xa9gium 3.\">3</a>  <a href=\\'/kereses.php?keres=szakkoll%C3%A9gium&oldal=4\\' title=\"szakkoll\\xc3\\xa9gium 4.\">4</a>  <a href=\\'/kereses.php?keres=szakkoll%C3%A9gium&oldal=5\\' title=\"szakkoll\\xc3\\xa9gium 5.\">5</a>  <a href=\\'/kereses.php?keres=szakkoll%C3%A9gium&oldal=6\\' title=\"szakkoll\\xc3\\xa9gium 6.\">6</a>  <a href=\\'/kereses.php?keres=szakkoll%C3%A9gium&oldal=7\\' title=\"szakkoll\\xc3\\xa9gium 7.\">7</a>  <a href=\\'/kereses.php?keres=szakkoll%C3%A9gium&oldal=8\\' title=\"szakkoll\\xc3\\xa9gium 8.\">8</a>  <a href=\\'/kereses.php?keres=szakkoll%C3%A9gium&oldal=9\\' title=\"szakkoll\\xc3\\xa9gium 9.\">9</a>  <a href=\\'/kereses.php?keres=szakkoll%C3%A9gium&oldal=10\\' title=\"szakkoll\\xc3\\xa9gium 10.\">10</a> <a href=\\'/kereses.php?keres=szakkoll%C3%A9gium&oldal=2\\' title=\"szakkoll\\xc3\\xa9gium 2.\">&#10095;</a> <a href=\\'/kereses.php?keres=szakkoll%C3%A9gium&oldal=10\\' title=\"szakkoll\\xc3\\xa9gium 10.\">&#10095;&#10095;</a> </div>\\n</div></div><br><div id=\"widgettaboola\"></div>\\n<div id=\"siteinfo\">\\n<button onclick=\\'if(!gcookie(\"cookieok\") && cookienemok()) return false; ccookie(\"sotet_mod\",\"1669715508\",1209600); location.reload(false);\\'>S\\xc3\\xb6t\\xc3\\xa9t m\\xc3\\xb3d bekapcsol\\xc3\\xa1sa</button><br><br>\\n\\nMinden jog fenntartva &#169; 2022, www.gyakorikerdesek.hu<br>\\n<a href=\"/help\">GYIK</a> |\\n<a href=\"/felhasznaloi_szabalyzat\">Szab\\xc3\\xa1lyzat</a> |\\n<a href=\"/jogi_nyilatkozat\">Jogi nyilatkozat</a> |\\n<a href=\"/adatvedelem\">Adatv\\xc3\\xa9delem</a> | <a href=\"#\" onclick=\\'cookiealert(); cookie_lehetosegek();\\'>Cookie be\\xc3\\xa1ll\\xc3\\xadt\\xc3\\xa1sok</a> |\\n<a href=\"//www.webminute.hu/\" target=\"_blank\">WebMinute Kft.</a> |\\n<a href=\"/facebook\" target=\"_blank\">Facebook</a> |\\nKapcsolat: <span style=\"white-space: nowrap;\">info(kukac)gyakorikerdesek.hu</span>\\n<br><br>\\n<div style=\"text-align: center;\">A weboldalon megjelen\\xc5\\x91 anyagok nem min\\xc5\\x91s\\xc3\\xbclnek szerkeszt\\xc5\\x91i tartalomnak, el\\xc5\\x91zetes ellen\\xc5\\x91rz\\xc3\\xa9sen nem esnek \\xc3\\xa1t, az \\xc3\\xbczemeltet\\xc5\\x91 v\\xc3\\xa9lem\\xc3\\xa9ny\\xc3\\xa9t nem t\\xc3\\xbckr\\xc3\\xb6zik.<br>Ha kifog\\xc3\\xa1ssal szeretne \\xc3\\xa9lni valamely tartalommal kapcsolatban, k\\xc3\\xa9rj\\xc3\\xbck jelezze e-mailes el\\xc3\\xa9rhet\\xc5\\x91s\\xc3\\xa9g\\xc3\\xbcnk\\xc3\\xb6n!</div>\\n</div>\\n</div>\\n<div id=\"res\"></div>\\n<script>cookiealert();</script></body>\\n</html>\\n'"
      ]
     },
     "execution_count": 18,
     "metadata": {},
     "output_type": "execute_result"
    }
   ],
   "source": [
    "resp.content"
   ]
  },
  {
   "cell_type": "markdown",
   "id": "aaac91cb",
   "metadata": {},
   "source": [
    "Nem túl informatív. `bytes` típusú objektum.\n",
    "\n",
    "Jó lenne valamilyen értelmezhetőbb formára hozni. Erre való a `Beautifulsoup` parser."
   ]
  },
  {
   "cell_type": "code",
   "execution_count": 11,
   "id": "5f16cd54",
   "metadata": {
    "ExecuteTime": {
     "end_time": "2022-12-06T17:44:07.113034Z",
     "start_time": "2022-12-06T17:44:06.968454Z"
    }
   },
   "outputs": [],
   "source": [
    "soup = BeautifulSoup(resp.content, \"html5lib\")"
   ]
  },
  {
   "cell_type": "code",
   "execution_count": 12,
   "id": "e26cf2b1",
   "metadata": {
    "ExecuteTime": {
     "end_time": "2022-12-06T17:44:18.223649Z",
     "start_time": "2022-12-06T17:44:18.150825Z"
    }
   },
   "outputs": [
    {
     "data": {
      "text/plain": [
       "<!DOCTYPE html>\n",
       "<html lang=\"hu\"><head>\n",
       "<meta content=\"width=device-width, initial-scale=1\" name=\"viewport\"/>\n",
       "<meta charset=\"utf-8\"/>\n",
       "<title>Szakkollégium - Gyakori kérdések</title>\n",
       "<meta content=\"Szakkollégium - Kérdések a témában. Pl. PhD-sként késő szakkolégiumba jelentkezni?\" name=\"description\"/>\n",
       "<meta content=\"szakkollégium, kérdések, válaszok\" name=\"keywords\"/>\n",
       "<meta content=\"Szakkollégium - Gyakori kérdések\" property=\"og:title\"/>\n",
       "<meta content=\"Szakkollégium - Kérdések a témában. Pl. PhD-sként késő szakkolégiumba jelentkezni?\" property=\"og:description\"/>\n",
       "<meta content=\"website\" property=\"og:type\"/>\n",
       "<meta content=\"//static.gyakorikerdesek.hu/p/logo.jpg\" property=\"og:image\"/>\n",
       "<link href=\"//static.gyakorikerdesek.hu/favicon.ico\" rel=\"shortcut icon\"/>\n",
       "<link href=\"//static.gyakorikerdesek.hu/apple-touch-icon-144x144.png\" rel=\"apple-touch-icon\" sizes=\"144x144\"/>\n",
       "<meta content=\"#FFFFFF\" name=\"msapplication-TileColor\"/>\n",
       "<meta content=\"//static.gyakorikerdesek.hu/mstile-144x144.png\" name=\"msapplication-TileImage\"/>\n",
       "<style>\n",
       "BODY{ font-size: 100%; margin: 0; padding: 0; text-align: center; width: 100%; font-family: sans-serif;} #main{ margin: 0 auto; text-align: left; border: 0; width: 980px;} .flex{ display: flex; flex-wrap: wrap;} .menu1{ margin-bottom: 15px; padding-top: 3px;} .menu1 A{ display: inline-block; height: 35px;} .menu1 INPUT, .menu1 SELECT{ height: 20px; padding: 0;} .menu2{ width: 200px; line-height: 24px; margin-bottom: 20px; padding: 10px 0 10px 0;} .menu{ padding: 0 6px 0 6px;} .menu A{ text-decoration: none;} .menu A:hover{ text-decoration: underline;} #main1{ width: 200px; margin-right: 20px;} #main2{ width: 760px; padding-top: 5px;} A{ cursor: pointer; text-decoration: none;} A:hover{ text-decoration: underline;} #siteinfo{ width: 100%; text-align: center; font-size: 90%; margin-top: 50px; padding-top: 5px;} .betoltesikon{ background-image: url(\"//static.gyakorikerdesek.hu/p/betoltes.gif\"); width: 37px; height: 37px; display: block; margin: 10px auto 10px auto;} BUTTON{ padding: 5px 10px 5px 10px;} BUTTON:hover{ cursor: pointer;} H1{ font-size: 125%; text-align: center;} H2{ font-size: 115%; text-align: center;} H3{ font-size: 105%;} .morzsamenu{ font-size: 85%; padding: 0 4px 5px 0;} .hiba{ font-size: 110%; font-weight: bold; text-align: center; padding: 5px; margin: 10px auto 10px auto;} .ok{ font-weight: bold; width: 90%; padding: 15px; margin: 10px auto 10px auto; text-align: center;} UL{ text-align: left;} #main{ background-color: #dcdcdc;} BODY{ background-color: #dcdcdc;} @media only screen and (min-width: 1081px){ HTML{ background-color: #464646;} BODY{ background-color: #464646; margin: 0 auto;} #main{ padding: 0 35px;}} .menu1{ background-color: #fafafa; box-shadow: 0 4px 2px -2px darkgray;} .menu1 A:hover{ background-color: #f7f7f7; box-shadow: 1px 1px 1px #cccccc;} .menu1 INPUT, .menu1 SELECT{ border: solid #bfbfbf 1px;} .menu2{ background-color: #efefef; box-shadow: 3px 3px 3px #aaaaaa;} A{ color: #084a94;} #siteinfo{ border-top: solid #aaaaaa 1px;} BUTTON{ border: solid #888888 1px; background-color: #cad8e8; box-shadow: 2px 2px 2px #cdcdcd;} BUTTON:hover{ border: solid black 1px; background-color: #cdcdcd;} .morzsamenu{ color: #464646;} .morzsamenu A{ color: #084a94;} .hiba{ color: #880000;} .hiba A{ color: #440000;} .ok{ border: solid #8888dd 1px; box-shadow: 2px 4px 4px #464646;} .kulcsszo_lista{ width: 100%;} .kulcsszo_lista DIV{ width: 25%; margin: 5px 0 5px 0;} .kulcsszo_lista SPAN{ color: #666666;} .oldalszamok{ margin: 20px 0 20px 0; text-align: center;} .oldalszamok A, .oldalszamok SPAN{ display: inline-block; border: solid gray 1px; padding: 3px; background-color: white; min-width: 15px; font-weight: bold; border-radius: 5px;}.oldalszamok A:hover:not(.active){ background-color: #ddd;} .kerdes_normal{ background-image: url(\"//static.gyakorikerdesek.hu/p/kerdes_normal.png\"); background-size: auto; width: 20px; height: 20px; min-width: 20px; max-width: 20px; margin: 1px 8px 1px 4px; padding: 0;} .kerdeslista{ background-color: white; text-align: left; border: solid #dddddd 1px; border-right: solid #aaaaaa 2px; border-bottom: solid #aaaaaa 2px; margin: 3px 0 3px 0; padding: 3px 0 3px 0; align-items: center; min-height: 40px;} .kerdeslista_szoveg{ word-break: break-word; max-width: 630px;} .kerdeslista_valasz{ margin: 0 5px 0 auto; border-radius: 50%; background-color: #dcdcdc; width: 25px; height: 25px; line-height: 25px; min-width: 25px; max-width: 25px; text-align: center; font-size: 11px;} .sor{ background-color: #efefef;} .kerdes_alatt{ font-size: 95%; color: #808080;} .kerdeslista_szavazas{ background-image: url(\"//static.gyakorikerdesek.hu/p/szavazas.png\"); width: 20px; height: 20px; min-width: 20px; max-width: 20px; margin-left: auto;} #cookiealert{ position: fixed; height: 100vh; margin: 0; padding: 0; background-color: rgba(0,0,0,0.3); font-size: 16px;}\n",
       "#cookiealert A{ color: #27c;}\n",
       "#cookiealert BUTTON{ display: inline-block; width: auto; padding: 8px 15px; margin: 3px 0; text-transform: uppercase; background-color: #fff; color: #000;}\n",
       "#cookiealert #cookiediv{ position: relative; width: 800px; max-width: 78%; max-height: 80%; padding: 20px; background-color: #ddd; border: solid #888888 1px; border-radius: 6px; box-shadow: 5px 30px 30px #888888; text-align: center; overflow-x: hidden; overflow-y: auto;}\n",
       "#cookiealert SPAN{ white-space: nowrap;}\n",
       "#cookiealert .cookie_valasztas{ display: flex; justify-content: space-between; margin: 10px 0;}\n",
       "</style>\n",
       "<script>\n",
       "function e(s){ return(document.getElementById(s));}\n",
       "function cookienemok(){ if(confirm(\"Ehhez a művelethez szükség van a cookie-k használatára. Engedélyezed ezt a weboldal számára?\")){ ccookie(\"cookieok\",new Date().getTime(),0,94608000); return false;} else return true;}\n",
       "function gcookie(s){ var re=new RegExp(s+\"=([^;]+)\"); var value=re.exec(document.cookie); return(value!=null ? unescape(value[1]):null);}\n",
       "function ccookie(nev,ertek,uzenet,exp){\n",
       " uzenet=(typeof uzenet!==\"undefined\" ? uzenet:1); exp=(typeof exp!==\"undefined\" ? exp:(ertek==\"\" ? -1:0));\n",
       " if(nev!=\"cookieok\" && !gcookie(\"cookieok\")){ if(uzenet==0 || cookienemok()) return(0);}\n",
       " if(exp!=0){ var t=new Date().getTime()+(exp*1000),d=new Date(); d.setTime(t);}\n",
       " document.cookie=encodeURIComponent(nev)+\"=\"+encodeURIComponent(ertek)+\"; path=/; \"+(exp!=\"\" ? \"expires=\"+d.toGMTString()+\"; \":\"\")+\"domain=gyakorikerdesek.hu\"; return(1);\n",
       "}\n",
       "function displayset(s,n){ if(e(s)!==null) e(s).style.display=(n==2 ? \"flex\": (n==1 ? \"block\":\"none\"));}\n",
       "var betoltesalatt=0;\n",
       "function betoltes(res,mode){\n",
       " if(mode==0){ betoltesalatt=1; displayset(res,0); e(res).innerHTML=\"<span class=\\\"betoltesikon\\\"></span>\"; setTimeout(function(){ betoltes(res,1);},300);}\n",
       " else if(mode==1 && betoltesalatt==1) displayset(res,1);\n",
       "}\n",
       "function classdel(c){ var x=document.getElementsByClassName(c); for(var i=0;i<x.length;i++) x[i].innerHTML=\"\";}\n",
       "function ugras(el){\n",
       " el=e(el); etop=el.offsetTop; wtop=window.scrollY; wbottom=wtop+window.innerHeight;\n",
       " if(etop>=wbottom || etop<=wtop) window.scrollTo(0,Math.max(etop-50,0));\n",
       "}\n",
       "voltres=[];\n",
       "function getscript(js,res){\n",
       " if(res!=\"\"){\n",
       "  if(this.className!=e(res).className){ if(e(res).innerHTML!=\"\" && voltres[res]==js){ e(res).innerHTML=\"\"; return;} classdel(e(res).className);}\n",
       "  if(res!=\"res\"){ displayset(res,1); ugras(res); betoltes(res,0);}\n",
       " }\n",
       " voltres[res]=js;\n",
       " var jss=document.createElement(\"script\"); jss.type=\"text/javascript\"; jss.src=js; jss.async=true;\n",
       " document.getElementsByTagName(\"head\")[0].appendChild(jss);\n",
       "}\n",
       "function cookie_allitas(n,ertek){ document.getElementById(n).innerHTML=document.getElementById(n).innerHTML.replace((ertek==\"BE\" ? \"BE\":\"KI\"),(ertek==\"BE\" ? \"KI\":\"BE\"));}\n",
       "function cookie_meret(){\n",
       " dd=document.getElementById(\"cookiediv\"); dd.style.left=((o.offsetWidth-dd.offsetWidth)/2)+\"px\"; dd.style.top=((o.offsetHeight-dd.offsetHeight)/2)+\"px\";\n",
       "}\n",
       "function cookiealert(){\n",
       " d=document;\n",
       " if(document.getElementById(\"cookiealert\")) return(null);\n",
       " o=d.getElementsByTagName(\"html\")[0].appendChild(d.createElement(\"div\")); o.id=\"cookiealert\";\n",
       " d.body.style.position=\"absolute\"; o.style.width=d.body.offsetWidth+\"px\";\n",
       " o.innerHTML=\"<div id=\\\"cookiediv\\\"><p><b>Adataid védelme fontos számunkra!</b></p><p>Mint a weboldalak többsége az interneten, honlapunk működéséhez és célzott hirdetések megjelenítéséhez mi és hirdetési partnereink is cookie-kat tárolunk az általad használt eszközön. Ahhoz, hogy ezt megtehessük, a hozzájárulásod szükséges. Erről az <a href=\\\"/adatvedelem\\\">adatvédelmi tájékoztatónkban</a> részletes információkhoz juthatsz, illetve bizonyos cookie-k használatával kapcsolatban további lehetőségeid vannak.</p><p><button onclick='cookie_lehetosegek();'>További lehetőségek</button> &nbsp; <button onclick='cookie_mentes();' style=\\\"background-color: #27c; color: #fff;\\\">Elfogadom</button></p></div>\";\n",
       " cookie_meret();\n",
       "}\n",
       "function cookie_kiir(n){\n",
       " if(n==\"\") be=1; else if(cookie_ertek!=-1) be=2; else be=0;\n",
       " return(\"<span\"+(be!=1 ? \" style=\\\"cursor: pointer; color: #27c;\\\" onclick='cookie_allitas(\\\"\"+n+\"\\\",this.innerHTML);'\":\"\")+\">\"+(be>0 ? \"BE\":\"KI\")+\"</span>\");\n",
       "}\n",
       "function cookie_valasztas(t,r,n){\n",
       " return(\"<div class=\\\"cookie_valasztas\\\"><div style=\\\"text-align: left;\\\"><b>\"+t+\":</b>\"+(n==\"\" ? \" (nem kikapcsolható)\":\"\")+\"<br><small>\"+r+\"</small></div><div id='\"+n+\"'>\"+cookie_kiir(n)+\"</div></div>\");\n",
       "}\n",
       "function cookie_lehetosegek(){\n",
       " document.getElementById(\"cookiediv\").innerHTML=\"<p>A weboldalunk és hirdetési partnereink által használt cookie-kat két részre bontottuk. A működéshez feltétlen szükségesek kikapcsolására nincs lehetőséged. A személyre szabottabb hirdetésekkel számodra érdekesebb reklámok jelenhetnek meg. Amennyiben ezt nem szeretnéd, elutasíthatod. További információkat az <a href=\\\"/adatvedelem\\\">adatvédelmi tájékoztatónkban</a> olvashatsz.</b></p>\"+cookie_valasztas(\"Az oldal működéséhez szükséges cookie-k\",\"Szükségesek a belépés/regisztráció esetén történő azonosításhoz<br>Szükségesek a hirdetésekkel kapcsolatos gyakoriságkorlátozáshoz, összesített jelentésekhez és visszaélések elleni intézkedések céljából\",\"\")+cookie_valasztas(\"Személyre szabott hirdetések megjelenítéséhez szükséges cookie-k\",\"A célzott hirdetések korábban gyűjtött adatokon alapulnak, illetve adatokat gyűjthetnek a hirdetés célzásához\",\"cookieok\")+(cookie_ertek!=null ? \"<div class=\\\"cookie_valasztas\\\"><div style=\\\"text-align: left;\\\"><a onclick='cookie_visszavonas();' style=\\\"cursor: pointer;\\\">Korábbi hozzájárulás visszavonása</a><br><small>Ha visszavonod a korábbi nyilatkozatod, ezt úgy tekintjük, hogy a weboldalunk működéséhez szükséges cookie-k használatát sem engedélyezed. Enélkül viszont a honlapunk tartalmát sem fogod elérni.</small></div></div>\":\"\")+\"<p><button onclick='cookie_mentes();'>Beállítások mentése</button></p>\";\n",
       " cookie_meret();\n",
       "}\n",
       "function cookie_mentes(){\n",
       " c=document.getElementById(\"cookieok\");\n",
       " t=new Date().getTime(); d=new Date(); d.setTime(t+31536000000); if(c && c.innerHTML.indexOf(\">KI<\")!==-1) t=-1;\n",
       " document.cookie=encodeURIComponent(\"cookieok\")+\"=\"+encodeURIComponent(t)+\"; path=/; expires=\"+d.toGMTString()+\"; domain=\"+window.location.hostname.replace(\"www.\",\"\");\n",
       " if(cookie_ertek!=null && (cookie_ertek==t || (cookie_ertek>-1 && t>-1))){ document.getElementsByTagName(\"html\")[0].removeChild(document.getElementById(\"cookiealert\")); cookie_ertek=t;} else window.location.reload(false);\n",
       "}\n",
       "function cookie_visszavonas(){\n",
       " t=new Date().getTime(); d=new Date(); d.setTime(t-1);\n",
       " document.cookie=encodeURIComponent(\"cookieok\")+\"=\"+encodeURIComponent(t)+\"; path=/; expires=\"+d.toGMTString()+\"; domain=\"+window.location.hostname.replace(\"www.\",\"\");\n",
       " document.getElementById(\"cookiediv\").innerHTML=\"<p><b>Visszavontad a cookie-k használatát lehetővé tevő hozzájárulásodat.</b></p><p>A weboldalunk használatához feltétlenül szükséges cookie-k nélkül a honlapunk tartalmát nem éred el. Ha a későbbiekben meggondolnád magad, a honlap újbóli meglátogatásakor újra dönthetsz a cookie-król.</p>\";\n",
       "}\n",
       "var re=new RegExp(\"cookieok=([^;]+)\"); var cookie_ertek=re.exec(document.cookie); cookie_ertek=(cookie_ertek!=null ? unescape(cookie_ertek[1]):null);\n",
       "\n",
       "</script>\n",
       "\n",
       "\n",
       "</head>\n",
       "<body>\n",
       "\n",
       "<div id=\"main\">\n",
       "<div class=\"flex menu1\" style=\"align-items: center; flex-wrap: nowrap;\">\n",
       "<div><img alt=\"fejléc\" onclick='location.href=\"/\";' src=\"//static.gyakorikerdesek.hu/p/fejlec_desktop.png\" style=\"width: 250px; height: 50px; margin-right: 10px; cursor: pointer;\"/></div>\n",
       "<div>\n",
       "<a href=\"/\" title=\"Gyakorikérdések kezdőoldal\"><img alt=\"Gyakori kérdések\" src=\"//static.gyakorikerdesek.hu/p/desktopmenu_kezdooldal.png\" style=\"width: 30px; height: 30px;\"/></a>\n",
       " <a href=\"/belepes\"><img alt=\"Belépés\" src=\"//static.gyakorikerdesek.hu/p/desktopmenu_sajat.png\" title=\"Belépés - Regisztráció\"/></a> <a href=\"/belepes\"><img alt=\"Új kérdés\" src=\"//static.gyakorikerdesek.hu/p/desktopmenu_uj.png\" title=\"Új kérdés\"/></a> <a href=\"/egy_veletlen_kerdes\" title=\"Egy véletlen kérdés\"><img alt=\"Véletlen kérdés\" src=\"//static.gyakorikerdesek.hu/p/desktopmenu_veletlen.png\" style=\"width: 84px; height: 30px;\"/></a>\n",
       "</div>\n",
       "<form action=\"/kereses.php\" id=\"keresesform\" method=\"get\" onsubmit='if(e(\"keres\").value.trim()!=\"\") window.open(\"/kereses.php?keres=\"+e(\"keres\").value.trim()+(e(\"kategoria\") &amp;&amp; e(\"kategoria\").value!=\"0\" ? \"&amp;kategoria=\"+e(\"kategoria\").value:\"\"),\"_self\"); return false;' style=\"margin-left: auto;\">\n",
       "<div class=\"flex\" style=\"align-items: center;\">\n",
       "<div><input id=\"keres\" maxlength=\"50\" name=\"keres\" size=\"20\" title=\"Keresett szó\" type=\"text\" value=\"szakkollégium\"/></div>\n",
       "<div style=\"margin: 0 5px 0 10px;\"><img alt=\"Keresés\" onclick='e(\"keresesform\").onsubmit();' src=\"//static.gyakorikerdesek.hu/p/mobilmenu_kereses.png\" style=\"cursor: pointer; width: 30px; height: 30px;\"/></div>\n",
       "</div></form>\n",
       "</div>\n",
       "<div class=\"flex\" style=\"flex-wrap: nowrap;\">\n",
       "<div id=\"main1\">\n",
       "\n",
       "<div class=\"menu2\"><div class=\"menu\" id=\"alkategoria\"><div><i><a href=\"/\">Kezdőoldal</a></i></div><div><a href=\"/allatok\">Állatok</a></div><div><a href=\"/csaladi-kapcsolatok\">Családi kapcsolatok</a></div><div><a href=\"/egeszseg\">Egészség</a></div><div><a href=\"/elektronikus-eszkozok\">Elektronikus eszközök</a></div><div><a href=\"/emberek\">Emberek</a></div><div><a href=\"/etelek-italok\">Ételek, italok</a></div><div><a href=\"/ezoteria\">Ezotéria</a></div><div><a href=\"/felnott-parkapcsolatok\">Felnőtt párkapcsolatok</a></div><div><a href=\"/fogyokurak\">Fogyókúrák</a></div><div><a href=\"/gyerekvallalas-neveles\">Gyerekvállalás, nevelés</a></div><div><a href=\"/ismerkedes\">Ismerkedés</a></div><div><a href=\"/kozlekedes\">Közlekedés</a></div><div><a href=\"/kozoktatas-tanfolyamok\">Közoktatás, tanfolyamok</a></div><div><a href=\"/kultura-es-kozosseg\">Kultúra és közösség</a></div><div><a href=\"/otthon\">Otthon</a></div><div><a href=\"/politika\">Politika</a></div><div><a href=\"/sport-mozgas\">Sport, mozgás</a></div><div><a href=\"/szamitastechnika\">Számítástechnika</a></div><div><a href=\"/szepseg-es-divat\">Szépség és divat</a></div><div><a href=\"/szexualitas\">Szexualitás</a></div><div><a href=\"/szorakozas\">Szórakozás</a></div><div><a href=\"/tini-parkapcsolatok\">Tini párkapcsolatok</a></div><div><a href=\"/tudomanyok\">Tudományok</a></div><div><a href=\"/utazas\">Utazás</a></div><div><a href=\"/unnepek\">Ünnepek</a></div><div><a href=\"/uzlet-es-penzugyek\">Üzlet és pénzügyek</a></div><div><a href=\"/egyeb-kerdesek\">Egyéb kérdések</a></div></div></div><br/></div><div id=\"main2\"><div class=\"morzsamenu\"><a href=\"/\" title=\"Gyakorikerdesek\">Kezdőoldal</a> » <b>Keresés</b></div>\n",
       "<h1>Szakkollégium - Gyakori kérdések</h1>\n",
       "<h2>Talált kulcsszavak:</h2><div class=\"flex kulcsszo_lista\"><div><input class=\"check\" id=\"chkb106826\" onclick='alert(\"A kulcsszó figyelés beállításához be kell jelentkezned!\"); location.href=\"/belepes\";' type=\"checkbox\"/> <a href=\"/kereses.php?keres=szakkoll%C3%A9gium\">szakkollégium</a></div><div><input class=\"check\" id=\"chkb358583\" onclick='alert(\"A kulcsszó figyelés beállításához be kell jelentkezned!\"); location.href=\"/belepes\";' type=\"checkbox\"/> <a href=\"/kereses.php?keres=M%C3%A1rton+%C3%81ron+Szakkoll%C3%A9gium\">Márton Áron Szakkollégium</a></div><div><input class=\"check\" id=\"chkb1557150\" onclick='alert(\"A kulcsszó figyelés beállításához be kell jelentkezned!\"); location.href=\"/belepes\";' type=\"checkbox\"/> <a href=\"/kereses.php?keres=Szent+Ign%C3%A1c+Jezsuita+Szakkoll%C3%A9gium\">Szent Ignác Jezsuita Szakkollégium</a></div></div><br/><h2>Talált kérdések:</h2><div class=\"oldalszamok\" style=\"text-align: center;\"> <span style=\"background-color: #efefef; padding: 5px; font-weight: bold;\">1</span> <a href=\"/kereses.php?keres=szakkoll%C3%A9gium&amp;oldal=2\" title=\"szakkollégium 2.\">2</a>  <a href=\"/kereses.php?keres=szakkoll%C3%A9gium&amp;oldal=3\" title=\"szakkollégium 3.\">3</a>  <a href=\"/kereses.php?keres=szakkoll%C3%A9gium&amp;oldal=4\" title=\"szakkollégium 4.\">4</a>  <a href=\"/kereses.php?keres=szakkoll%C3%A9gium&amp;oldal=5\" title=\"szakkollégium 5.\">5</a>  <a href=\"/kereses.php?keres=szakkoll%C3%A9gium&amp;oldal=6\" title=\"szakkollégium 6.\">6</a>  <a href=\"/kereses.php?keres=szakkoll%C3%A9gium&amp;oldal=7\" title=\"szakkollégium 7.\">7</a>  <a href=\"/kereses.php?keres=szakkoll%C3%A9gium&amp;oldal=8\" title=\"szakkollégium 8.\">8</a>  <a href=\"/kereses.php?keres=szakkoll%C3%A9gium&amp;oldal=9\" title=\"szakkollégium 9.\">9</a>  <a href=\"/kereses.php?keres=szakkoll%C3%A9gium&amp;oldal=10\" title=\"szakkollégium 10.\">10</a> <a href=\"/kereses.php?keres=szakkoll%C3%A9gium&amp;oldal=2\" title=\"szakkollégium 2.\">❯</a> <a href=\"/kereses.php?keres=szakkoll%C3%A9gium&amp;oldal=10\" title=\"szakkollégium 10.\">❯❯</a> </div>\n",
       "<div class=\"flex kerdeslista\" id=\"k11913351\" style=\"flex-wrap: nowrap;\"><div class=\"kerdes_normal\"></div><div class=\"kerdeslista_szoveg\"><a href=\"/kozoktatas-tanfolyamok__magyar-iskolak__11913351-phd-skent-keso-szakkolegiumba-jelentkezni\">PhD-sként késő szakkolégiumba jelentkezni?</a><br/><span class=\"kerdes_alatt\"><a class=\"kerdes_alatt\" href=\"/kozoktatas-tanfolyamok__magyar-iskolak\">Közoktatás, tanfolyamok » Magyar iskolák</a></span></div><div class=\"kerdeslista_valasz\">0</div></div><div class=\"flex kerdeslista sor\" id=\"k11894807\" style=\"flex-wrap: nowrap;\"><div class=\"kerdes_normal\"></div><div class=\"kerdeslista_szoveg\"><a href=\"/kozoktatas-tanfolyamok__magyar-iskolak__11894807-miert-epp-a-harkaly-szerepel-az-elte-bibo-istvan-szakkollegium-logojabanbannere\">Miért épp a harkály szerepel az ELTE Bibó István Szakkollégium logójában/bannerében?</a><br/><span class=\"kerdes_alatt\"><a class=\"kerdes_alatt\" href=\"/kozoktatas-tanfolyamok__magyar-iskolak\">Közoktatás, tanfolyamok » Magyar iskolák</a></span></div><div class=\"kerdeslista_valasz\">0</div></div><div class=\"flex kerdeslista\" id=\"k11888739\" style=\"flex-wrap: nowrap;\"><div class=\"kerdes_normal\"></div><div class=\"kerdeslista_szoveg\"><a href=\"/kozoktatas-tanfolyamok__magyar-iskolak__11888739-a-benda-kalman-szakkollegium-felveteli-elbeszelgetesen-mi-varhato-milyen-kerdes\">A Benda Kálmán Szakkollégium felvételi elbeszélgetésén mi várható? Milyen kérdések? Milyen témák?</a><br/><span class=\"kerdes_alatt\"><a class=\"kerdes_alatt\" href=\"/kozoktatas-tanfolyamok__magyar-iskolak\">Közoktatás, tanfolyamok » Magyar iskolák</a></span></div><div class=\"kerdeslista_valasz\">0</div></div><div class=\"flex kerdeslista sor\" id=\"k11854503\" style=\"flex-wrap: nowrap;\"><div class=\"kerdes_normal\"></div><div class=\"kerdeslista_szoveg\"><a href=\"/kozoktatas-tanfolyamok__magyar-iskolak__11854503-mcc-mathias-corvinus-collegiumrol-velemeny\">MCC (mathias corvinus collégium)ról vélemény?</a><br/><span class=\"kerdes_alatt\"><a class=\"kerdes_alatt\" href=\"/kozoktatas-tanfolyamok__magyar-iskolak\">Közoktatás, tanfolyamok » Magyar iskolák</a></span></div><div class=\"kerdeslista_valasz\">1</div></div><div class=\"flex kerdeslista\" id=\"k11853338\" style=\"flex-wrap: nowrap;\"><div class=\"kerdes_normal\"></div><div class=\"kerdeslista_szoveg\"><a href=\"/kozoktatas-tanfolyamok__specialis-tanfolyamok__11853338-lenne-eselyem-szakkollegiumba\">Lenne esélyem szakkollégiumba?</a><br/><span class=\"kerdes_alatt\"><a class=\"kerdes_alatt\" href=\"/kozoktatas-tanfolyamok__specialis-tanfolyamok\">Közoktatás, tanfolyamok » Speciális tanfolyamok</a></span></div><div class=\"kerdeslista_valasz\">3</div></div><div class=\"flex kerdeslista sor\" id=\"k11851503\" style=\"flex-wrap: nowrap;\"><div class=\"kerdes_normal\"></div><div class=\"kerdeslista_szoveg\"><a href=\"/kozoktatas-tanfolyamok__magyar-iskolak__11851503-az-eotvos-jozsef-szakkollegiumra-kinek-van-eselye-bekerulni\">Az Eötvös József Szakkollégiumra kinek van esélye bekerülni?</a><br/><span class=\"kerdes_alatt\"><a class=\"kerdes_alatt\" href=\"/kozoktatas-tanfolyamok__magyar-iskolak\">Közoktatás, tanfolyamok » Magyar iskolák</a></span></div><div class=\"kerdeslista_valasz\">1</div></div><div class=\"flex kerdeslista\" id=\"k11837483\" style=\"flex-wrap: nowrap;\"><div class=\"kerdes_normal\"></div><div class=\"kerdeslista_szoveg\"><a href=\"/kozoktatas-tanfolyamok__magyar-iskolak__11837483-elte-szakkollegiumokrol-mit-lehet-tudni-hogyan-kell-jelentkezni\">ELTE szakkollégiumokról mit lehet tudni? Hogyan kell jelentkezni?</a><br/><span class=\"kerdes_alatt\"><a class=\"kerdes_alatt\" href=\"/kozoktatas-tanfolyamok__magyar-iskolak\">Közoktatás, tanfolyamok » Magyar iskolák</a></span></div><div class=\"kerdeslista_valasz\">3</div></div><div class=\"flex kerdeslista sor\" id=\"k11832490\" style=\"flex-wrap: nowrap;\"><div class=\"kerdes_normal\"></div><div class=\"kerdeslista_szoveg\"><a href=\"/kozoktatas-tanfolyamok__egyeb-kerdesek__11832490-melyiket-ajanlanatok-inkabb-az-elte-marton-aron-szakkollegiumot-vagy-az-erdos\">Melyiket ajánlanátok inkább, az ELTE Márton Áron Szakkollégiumot, vagy az Erdős Pál Kollégiumot?</a><br/><span class=\"kerdes_alatt\"><a class=\"kerdes_alatt\" href=\"/kozoktatas-tanfolyamok__egyeb-kerdesek\">Közoktatás, tanfolyamok » Egyéb kérdések</a></span></div><div class=\"kerdeslista_valasz\">1</div></div><div class=\"flex kerdeslista\" id=\"k11800923\" style=\"flex-wrap: nowrap;\"><div class=\"kerdes_normal\"></div><div class=\"kerdeslista_szoveg\"><a href=\"/kozoktatas-tanfolyamok__magyar-iskolak__11800923-az-elte-illyes-sandor-szakkollegiumaba-mennyire-nehez-bekerulni-golyakent\">Az ELTE Illyés Sándor Szakkollégiumába mennyire nehéz bekerülni gólyaként?</a><br/><span class=\"kerdes_alatt\"><a class=\"kerdes_alatt\" href=\"/kozoktatas-tanfolyamok__magyar-iskolak\">Közoktatás, tanfolyamok » Magyar iskolák</a></span></div><div class=\"kerdeslista_valasz\">1</div></div><div class=\"flex kerdeslista sor\" id=\"k11792228\" style=\"flex-wrap: nowrap;\"><div class=\"kerdes_normal\"></div><div class=\"kerdeslista_szoveg\"><a href=\"/kozoktatas-tanfolyamok__tanulasi-lehetosegek__11792228-elte-ik-programtervezo-informatikus-msc-velemenyek\">ELTE IK programtervező informatikus MSc vélemények?</a><br/><span class=\"kerdes_alatt\"><a class=\"kerdes_alatt\" href=\"/kozoktatas-tanfolyamok__tanulasi-lehetosegek\">Közoktatás, tanfolyamok » Tanulási lehetőségek</a></span></div><div class=\"kerdeslista_szavazas\" title=\"Szavazással bővített kérdés\"></div><div class=\"kerdeslista_valasz\" style=\"margin-left: 8px;\">2</div></div><div class=\"flex kerdeslista\" id=\"k11763442\" style=\"flex-wrap: nowrap;\"><div class=\"kerdes_normal\"></div><div class=\"kerdeslista_szoveg\"><a href=\"/kozoktatas-tanfolyamok__egyeb-kerdesek__11763442-elso-eves-egyetemistakent-is-jelentkezhetek-szakkoliba\">Első éves egyetemistaként is jelentkezhetek szakkoliba?</a><br/><span class=\"kerdes_alatt\"><a class=\"kerdes_alatt\" href=\"/kozoktatas-tanfolyamok__egyeb-kerdesek\">Közoktatás, tanfolyamok » Egyéb kérdések</a></span></div><div class=\"kerdeslista_valasz\">2</div></div><div class=\"flex kerdeslista sor\" id=\"k11699696\" style=\"flex-wrap: nowrap;\"><div class=\"kerdes_normal\"></div><div class=\"kerdeslista_szoveg\"><a href=\"/kozoktatas-tanfolyamok__egyeb-kerdesek__11699696-milyen-mindenkinek-elerheto-szakkolik-vannak-pesten\">Milyen mindenkinek elérhető szakkolik vannak Pesten?</a><br/><span class=\"kerdes_alatt\"><a class=\"kerdes_alatt\" href=\"/kozoktatas-tanfolyamok__egyeb-kerdesek\">Közoktatás, tanfolyamok » Egyéb kérdések</a></span></div><div class=\"kerdeslista_valasz\">2</div></div><div class=\"flex kerdeslista\" id=\"k11589033\" style=\"flex-wrap: nowrap;\"><div class=\"kerdes_normal\"></div><div class=\"kerdeslista_szoveg\"><a href=\"/kozoktatas-tanfolyamok__magyar-iskolak__11589033-mit-tudtok-a-navratil-akos-szakkollegiumrol\">Mit tudtok a Navratil Ákos szakkollégiumról?</a><br/><span class=\"kerdes_alatt\"><a class=\"kerdes_alatt\" href=\"/kozoktatas-tanfolyamok__magyar-iskolak\">Közoktatás, tanfolyamok » Magyar iskolák</a></span></div><div class=\"kerdeslista_valasz\">2</div></div><div class=\"flex kerdeslista sor\" id=\"k11554175\" style=\"flex-wrap: nowrap;\"><div class=\"kerdes_normal\"></div><div class=\"kerdeslista_szoveg\"><a href=\"/uzlet-es-penzugyek__karrier-fizetes__11554175-egyetem-mellett-minel-elobb-gyakornoki-munka-vagy-tanulni-amennyit-csak-lehet\">Egyetem mellett minél előbb gyakornoki munka, vagy tanulni, amennyit csak lehet?</a><br/><span class=\"kerdes_alatt\"><a class=\"kerdes_alatt\" href=\"/uzlet-es-penzugyek__karrier-fizetes\">Üzlet és pénzügyek » Karrier, fizetés</a></span></div><div class=\"kerdeslista_szavazas\" title=\"Szavazással bővített kérdés\"></div><div class=\"kerdeslista_valasz\" style=\"margin-left: 8px;\">14</div></div><div class=\"flex kerdeslista\" id=\"k11553419\" style=\"flex-wrap: nowrap;\"><div class=\"kerdes_normal\"></div><div class=\"kerdeslista_szoveg\"><a href=\"/kozoktatas-tanfolyamok__tanulasi-lehetosegek__11553419-szakkolegiumi-felvetel-hogy-mukodik-ha-valaki-csak-bejaros-es-nem-bentlakos-aka\">Szakkolégiumi felvétel hogy működik, ha valaki csak bejárós és nem bentlakós akar lenni?</a><br/><span class=\"kerdes_alatt\"><a class=\"kerdes_alatt\" href=\"/kozoktatas-tanfolyamok__tanulasi-lehetosegek\">Közoktatás, tanfolyamok » Tanulási lehetőségek</a></span></div><div class=\"kerdeslista_valasz\">2</div></div><div class=\"flex kerdeslista sor\" id=\"k11541072\" style=\"flex-wrap: nowrap;\"><div class=\"kerdes_normal\"></div><div class=\"kerdeslista_szoveg\"><a href=\"/kozoktatas-tanfolyamok__egyeb-kerdesek__11541072-ha-nagyon-jo-erettsegit-irok-de-nincsenek-versenyeredmenyeim-akkormeg-van-esel\">Ha nagyon jó érettségit írok, de nincsenek versenyeredményeim, akkormég van esély arra, hogy felvegyenek a Bolyai Kollégiumba (ELTE)?</a><br/><span class=\"kerdes_alatt\"><a class=\"kerdes_alatt\" href=\"/kozoktatas-tanfolyamok__egyeb-kerdesek\">Közoktatás, tanfolyamok » Egyéb kérdések</a></span></div><div class=\"kerdeslista_valasz\">3</div></div><div class=\"flex kerdeslista\" id=\"k11540555\" style=\"flex-wrap: nowrap;\"><div class=\"kerdes_normal\"></div><div class=\"kerdeslista_szoveg\"><a href=\"/kozoktatas-tanfolyamok__tanulasi-lehetosegek__11540555-velemenyek-az-elte-illyes-sandor-szakkollegiumarol\">Vélemények az ELTE Illyés Sándor Szakkollégiumáról?</a><br/><span class=\"kerdes_alatt\"><a class=\"kerdes_alatt\" href=\"/kozoktatas-tanfolyamok__tanulasi-lehetosegek\">Közoktatás, tanfolyamok » Tanulási lehetőségek</a></span></div><div class=\"kerdeslista_valasz\">2</div></div><div class=\"flex kerdeslista sor\" id=\"k11507308\" style=\"flex-wrap: nowrap;\"><div class=\"kerdes_normal\"></div><div class=\"kerdeslista_szoveg\"><a href=\"/kozoktatas-tanfolyamok__tanulasi-lehetosegek__11507308-velemenyek-az-eotvos-jozsef-collegiumrol\">Vélemények az Eötvös József Collegiumról?</a><br/><span class=\"kerdes_alatt\"><a class=\"kerdes_alatt\" href=\"/kozoktatas-tanfolyamok__tanulasi-lehetosegek\">Közoktatás, tanfolyamok » Tanulási lehetőségek</a></span></div><div class=\"kerdeslista_valasz\">1</div></div><div class=\"flex kerdeslista\" id=\"k11340462\" style=\"flex-wrap: nowrap;\"><div class=\"kerdes_normal\"></div><div class=\"kerdeslista_szoveg\"><a href=\"/kozoktatas-tanfolyamok__tanulasi-lehetosegek__11340462-milyen-szakkollegiumokat-ismertek-ahova-nem-csak-1-2-evben-lehet-jelentkezni-j\">Milyen szakkollégiumokat ismertek, ahova nem csak 1-2. évben lehet jelentkezni jogász szakos hallgatóként?</a><br/><span class=\"kerdes_alatt\"><a class=\"kerdes_alatt\" href=\"/kozoktatas-tanfolyamok__tanulasi-lehetosegek\">Közoktatás, tanfolyamok » Tanulási lehetőségek</a></span></div><div class=\"kerdeslista_valasz\">0</div></div><div class=\"flex kerdeslista sor\" id=\"k11327958\" style=\"flex-wrap: nowrap;\"><div class=\"kerdes_normal\"></div><div class=\"kerdeslista_szoveg\"><a href=\"/kozoktatas-tanfolyamok__tanulasi-lehetosegek__11327958-szerintetek-melyik-corvinusos-szakkoli-a-legjobb\">Szerintetek melyik Corvinusos szakkoli a legjobb?</a><br/><span class=\"kerdes_alatt\"><a class=\"kerdes_alatt\" href=\"/kozoktatas-tanfolyamok__tanulasi-lehetosegek\">Közoktatás, tanfolyamok » Tanulási lehetőségek</a></span></div><div class=\"kerdeslista_szavazas\" title=\"Szavazással bővített kérdés\"></div><div class=\"kerdeslista_valasz\" style=\"margin-left: 8px;\">1</div></div><div class=\"flex kerdeslista\" id=\"k11318961\" style=\"flex-wrap: nowrap;\"><div class=\"kerdes_normal\"></div><div class=\"kerdeslista_szoveg\"><a href=\"/kozoktatas-tanfolyamok__magyar-iskolak__11318961-szegedi-marton-aron-szakkollegium-velemenyek\">Szegedi Márton Áron szakkollégium vélemények?</a><br/><span class=\"kerdes_alatt\"><a class=\"kerdes_alatt\" href=\"/kozoktatas-tanfolyamok__magyar-iskolak\">Közoktatás, tanfolyamok » Magyar iskolák</a></span></div><div class=\"kerdeslista_valasz\">0</div></div><div class=\"flex kerdeslista sor\" id=\"k11257662\" style=\"flex-wrap: nowrap;\"><div class=\"kerdes_normal\"></div><div class=\"kerdeslista_szoveg\"><a href=\"/kozoktatas-tanfolyamok__magyar-iskolak__11257662-mennyire-lehetetlen-vallalkozas-elsoskent-elte-ttk-n-szakkollegiumba-bekerulni\">Mennyire lehetetlen vállalkozás elsősként ELTE TTK-n szakkollégiumba bekerülni?</a><br/><span class=\"kerdes_alatt\"><a class=\"kerdes_alatt\" href=\"/kozoktatas-tanfolyamok__magyar-iskolak\">Közoktatás, tanfolyamok » Magyar iskolák</a></span></div><div class=\"kerdeslista_valasz\">1</div></div><div class=\"flex kerdeslista\" id=\"k11191861\" style=\"flex-wrap: nowrap;\"><div class=\"kerdes_normal\"></div><div class=\"kerdeslista_szoveg\"><a href=\"/kozoktatas-tanfolyamok__tanulasi-lehetosegek__11191861-corvinuson-elsoevesnek-hol-erdemes-lakni\">Corvinuson elsőévesnek hol érdemes lakni?</a><br/><span class=\"kerdes_alatt\"><a class=\"kerdes_alatt\" href=\"/kozoktatas-tanfolyamok__tanulasi-lehetosegek\">Közoktatás, tanfolyamok » Tanulási lehetőségek</a></span></div><div class=\"kerdeslista_valasz\">2</div></div><div class=\"flex kerdeslista sor\" id=\"k11190550\" style=\"flex-wrap: nowrap;\"><div class=\"kerdes_normal\"></div><div class=\"kerdeslista_szoveg\"><a href=\"/kozoktatas-tanfolyamok__magyar-iskolak__11190550-luther-otthon-szakkollegiumrol-tudnatok-par-szot-meselni-nekem\">Luther otthon szakkollégiumról tudnatok pár szót mesélni nekem?</a><br/><span class=\"kerdes_alatt\"><a class=\"kerdes_alatt\" href=\"/kozoktatas-tanfolyamok__magyar-iskolak\">Közoktatás, tanfolyamok » Magyar iskolák</a></span></div><div class=\"kerdeslista_valasz\">0</div></div><div class=\"oldalszamok\" style=\"text-align: center;\"> <span style=\"background-color: #efefef; padding: 5px; font-weight: bold;\">1</span> <a href=\"/kereses.php?keres=szakkoll%C3%A9gium&amp;oldal=2\" title=\"szakkollégium 2.\">2</a>  <a href=\"/kereses.php?keres=szakkoll%C3%A9gium&amp;oldal=3\" title=\"szakkollégium 3.\">3</a>  <a href=\"/kereses.php?keres=szakkoll%C3%A9gium&amp;oldal=4\" title=\"szakkollégium 4.\">4</a>  <a href=\"/kereses.php?keres=szakkoll%C3%A9gium&amp;oldal=5\" title=\"szakkollégium 5.\">5</a>  <a href=\"/kereses.php?keres=szakkoll%C3%A9gium&amp;oldal=6\" title=\"szakkollégium 6.\">6</a>  <a href=\"/kereses.php?keres=szakkoll%C3%A9gium&amp;oldal=7\" title=\"szakkollégium 7.\">7</a>  <a href=\"/kereses.php?keres=szakkoll%C3%A9gium&amp;oldal=8\" title=\"szakkollégium 8.\">8</a>  <a href=\"/kereses.php?keres=szakkoll%C3%A9gium&amp;oldal=9\" title=\"szakkollégium 9.\">9</a>  <a href=\"/kereses.php?keres=szakkoll%C3%A9gium&amp;oldal=10\" title=\"szakkollégium 10.\">10</a> <a href=\"/kereses.php?keres=szakkoll%C3%A9gium&amp;oldal=2\" title=\"szakkollégium 2.\">❯</a> <a href=\"/kereses.php?keres=szakkoll%C3%A9gium&amp;oldal=10\" title=\"szakkollégium 10.\">❯❯</a> </div>\n",
       "</div></div><br/><div id=\"widgettaboola\"></div>\n",
       "<div id=\"siteinfo\">\n",
       "<button onclick='if(!gcookie(\"cookieok\") &amp;&amp; cookienemok()) return false; ccookie(\"sotet_mod\",\"1670348384\",1209600); location.reload(false);'>Sötét mód bekapcsolása</button><br/><br/>\n",
       "\n",
       "Minden jog fenntartva © 2022, www.gyakorikerdesek.hu<br/>\n",
       "<a href=\"/help\">GYIK</a> |\n",
       "<a href=\"/felhasznaloi_szabalyzat\">Szabályzat</a> |\n",
       "<a href=\"/jogi_nyilatkozat\">Jogi nyilatkozat</a> |\n",
       "<a href=\"/adatvedelem\">Adatvédelem</a> | <a href=\"#\" onclick=\"cookiealert(); cookie_lehetosegek();\">Cookie beállítások</a> |\n",
       "<a href=\"//www.webminute.hu/\" target=\"_blank\">WebMinute Kft.</a> |\n",
       "<a href=\"/facebook\" target=\"_blank\">Facebook</a> |\n",
       "Kapcsolat: <span style=\"white-space: nowrap;\">info(kukac)gyakorikerdesek.hu</span>\n",
       "<br/><br/>\n",
       "<div style=\"text-align: center;\">A weboldalon megjelenő anyagok nem minősülnek szerkesztői tartalomnak, előzetes ellenőrzésen nem esnek át, az üzemeltető véleményét nem tükrözik.<br/>Ha kifogással szeretne élni valamely tartalommal kapcsolatban, kérjük jelezze e-mailes elérhetőségünkön!</div>\n",
       "</div>\n",
       "</div>\n",
       "<div id=\"res\"></div>\n",
       "<script>cookiealert();</script>\n",
       "\n",
       "</body></html>"
      ]
     },
     "execution_count": 12,
     "metadata": {},
     "output_type": "execute_result"
    }
   ],
   "source": [
    "soup"
   ]
  },
  {
   "cell_type": "markdown",
   "id": "8a8e6d71",
   "metadata": {
    "ExecuteTime": {
     "end_time": "2022-11-29T09:56:56.563407Z",
     "start_time": "2022-11-29T09:56:56.542530Z"
    }
   },
   "source": [
    "# Keresés a DOM-ban"
   ]
  },
  {
   "cell_type": "markdown",
   "id": "70fcbf1b",
   "metadata": {},
   "source": [
    "Látjuk hogy vannak `div` típusú elemek `kerdeslista` class-el, amelyek az egyes kérdéseket lehatárolják. \n",
    "\n",
    "*Lásd Chrome inspect funkció.*"
   ]
  },
  {
   "cell_type": "markdown",
   "id": "1f685339",
   "metadata": {},
   "source": [
    "## Egy elem kijelölése"
   ]
  },
  {
   "cell_type": "markdown",
   "id": "abc1eab8",
   "metadata": {},
   "source": [
    "Jelöljük ki az első ilyen elemet"
   ]
  },
  {
   "cell_type": "code",
   "execution_count": 15,
   "id": "58ebed4e",
   "metadata": {
    "ExecuteTime": {
     "end_time": "2022-12-06T17:47:31.328634Z",
     "start_time": "2022-12-06T17:47:31.311789Z"
    }
   },
   "outputs": [],
   "source": [
    "elem = soup.find(\"div\", attrs={\"class\", \"kerdeslista\"})"
   ]
  },
  {
   "cell_type": "markdown",
   "id": "91304d7f",
   "metadata": {},
   "source": [
    "A `prettify` method segít szépen ábrázolni a DOM-ot."
   ]
  },
  {
   "cell_type": "code",
   "execution_count": 21,
   "id": "c7473562",
   "metadata": {
    "ExecuteTime": {
     "end_time": "2022-12-06T17:50:31.766484Z",
     "start_time": "2022-12-06T17:50:31.742168Z"
    }
   },
   "outputs": [],
   "source": [
    "soup.find('div', attrs={'class': 'kerdeslistak'})"
   ]
  },
  {
   "cell_type": "code",
   "execution_count": 17,
   "id": "62e7a163",
   "metadata": {
    "ExecuteTime": {
     "end_time": "2022-12-06T17:47:45.951975Z",
     "start_time": "2022-12-06T17:47:45.919249Z"
    }
   },
   "outputs": [
    {
     "name": "stdout",
     "output_type": "stream",
     "text": [
      "<div class=\"flex kerdeslista\" id=\"k11913351\" style=\"flex-wrap: nowrap;\">\n",
      " <div class=\"kerdes_normal\">\n",
      " </div>\n",
      " <div class=\"kerdeslista_szoveg\">\n",
      "  <a href=\"/kozoktatas-tanfolyamok__magyar-iskolak__11913351-phd-skent-keso-szakkolegiumba-jelentkezni\">\n",
      "   PhD-sként késő szakkolégiumba jelentkezni?\n",
      "  </a>\n",
      "  <br/>\n",
      "  <span class=\"kerdes_alatt\">\n",
      "   <a class=\"kerdes_alatt\" href=\"/kozoktatas-tanfolyamok__magyar-iskolak\">\n",
      "    Közoktatás, tanfolyamok » Magyar iskolák\n",
      "   </a>\n",
      "  </span>\n",
      " </div>\n",
      " <div class=\"kerdeslista_valasz\">\n",
      "  0\n",
      " </div>\n",
      "</div>\n",
      "\n"
     ]
    }
   ],
   "source": [
    "print(elem.prettify())"
   ]
  },
  {
   "cell_type": "markdown",
   "id": "b4b5e5a8",
   "metadata": {},
   "source": [
    "A fenti kijelölést egyébként máshogy is meg lehet csinálni, erre íme pár példa"
   ]
  },
  {
   "cell_type": "code",
   "execution_count": 34,
   "id": "647845b4",
   "metadata": {
    "ExecuteTime": {
     "end_time": "2022-11-29T10:04:02.782972Z",
     "start_time": "2022-11-29T10:04:02.750028Z"
    }
   },
   "outputs": [
    {
     "data": {
      "text/plain": [
       "<div class=\"flex kerdeslista\" id=\"k11913351\" style=\"flex-wrap: nowrap;\"><div class=\"kerdes_normal\"></div><div class=\"kerdeslista_szoveg\"><a href=\"/kozoktatas-tanfolyamok__magyar-iskolak__11913351-phd-skent-keso-szakkolegiumba-jelentkezni\">PhD-sként késő szakkolégiumba jelentkezni?</a><br/><span class=\"kerdes_alatt\"><a class=\"kerdes_alatt\" href=\"/kozoktatas-tanfolyamok__magyar-iskolak\">Közoktatás, tanfolyamok » Magyar iskolák</a></span></div><div class=\"kerdeslista_valasz\">0</div></div>"
      ]
     },
     "execution_count": 34,
     "metadata": {},
     "output_type": "execute_result"
    }
   ],
   "source": [
    "soup.find(\"div\", class_=\"kerdeslista\")"
   ]
  },
  {
   "cell_type": "code",
   "execution_count": 25,
   "id": "5ff168e6",
   "metadata": {
    "ExecuteTime": {
     "end_time": "2022-12-06T17:53:52.430247Z",
     "start_time": "2022-12-06T17:53:52.389891Z"
    }
   },
   "outputs": [
    {
     "data": {
      "text/plain": [
       "<div class=\"flex kerdeslista\" id=\"k11913351\" style=\"flex-wrap: nowrap;\"><div class=\"kerdes_normal\"></div><div class=\"kerdeslista_szoveg\"><a href=\"/kozoktatas-tanfolyamok__magyar-iskolak__11913351-phd-skent-keso-szakkolegiumba-jelentkezni\">PhD-sként késő szakkolégiumba jelentkezni?</a><br/><span class=\"kerdes_alatt\"><a class=\"kerdes_alatt\" href=\"/kozoktatas-tanfolyamok__magyar-iskolak\">Közoktatás, tanfolyamok » Magyar iskolák</a></span></div><div class=\"kerdeslista_valasz\">0</div></div>"
      ]
     },
     "execution_count": 25,
     "metadata": {},
     "output_type": "execute_result"
    }
   ],
   "source": [
    "soup.select_one(\"div.kerdeslista\")"
   ]
  },
  {
   "cell_type": "markdown",
   "id": "6ce8cb69",
   "metadata": {},
   "source": [
    "Ez utóbbi CSS selector alapján keres. Szerintem ez a legjobb módszer egyébként, univerzálisabban használható.\n",
    "\n",
    "Segítség hozzá itt:  \n",
    "https://www.w3schools.com/cssref/css_selectors.php"
   ]
  },
  {
   "cell_type": "markdown",
   "id": "88b29f79",
   "metadata": {},
   "source": [
    "## Több elem kijelölése\n",
    "\n",
    "Hasonló az előzőhöz, csak egy listát kapunk vissza a patternnek megfelelő objektumok alapján."
   ]
  },
  {
   "cell_type": "markdown",
   "id": "59c18b5d",
   "metadata": {},
   "source": [
    "Standard `Beautifulsoup` megoldás"
   ]
  },
  {
   "cell_type": "code",
   "execution_count": 26,
   "id": "93333146",
   "metadata": {
    "ExecuteTime": {
     "end_time": "2022-12-06T17:54:24.018459Z",
     "start_time": "2022-12-06T17:54:23.985493Z"
    }
   },
   "outputs": [],
   "source": [
    "elems = soup.find_all(\"div\", attrs={\"class\", \"kerdeslista\"})"
   ]
  },
  {
   "cell_type": "code",
   "execution_count": 29,
   "id": "5793fbcf",
   "metadata": {
    "ExecuteTime": {
     "end_time": "2022-12-06T17:54:44.652477Z",
     "start_time": "2022-12-06T17:54:44.620581Z"
    }
   },
   "outputs": [
    {
     "data": {
      "text/plain": [
       "<div class=\"flex kerdeslista\" id=\"k11913351\" style=\"flex-wrap: nowrap;\"><div class=\"kerdes_normal\"></div><div class=\"kerdeslista_szoveg\"><a href=\"/kozoktatas-tanfolyamok__magyar-iskolak__11913351-phd-skent-keso-szakkolegiumba-jelentkezni\">PhD-sként késő szakkolégiumba jelentkezni?</a><br/><span class=\"kerdes_alatt\"><a class=\"kerdes_alatt\" href=\"/kozoktatas-tanfolyamok__magyar-iskolak\">Közoktatás, tanfolyamok » Magyar iskolák</a></span></div><div class=\"kerdeslista_valasz\">0</div></div>"
      ]
     },
     "execution_count": 29,
     "metadata": {},
     "output_type": "execute_result"
    }
   ],
   "source": [
    "elems[0]"
   ]
  },
  {
   "cell_type": "code",
   "execution_count": 42,
   "id": "1fd68664",
   "metadata": {
    "ExecuteTime": {
     "end_time": "2022-11-29T10:08:36.075745Z",
     "start_time": "2022-11-29T10:08:36.046588Z"
    }
   },
   "outputs": [
    {
     "data": {
      "text/plain": [
       "24"
      ]
     },
     "execution_count": 42,
     "metadata": {},
     "output_type": "execute_result"
    }
   ],
   "source": [
    "len(elems)"
   ]
  },
  {
   "cell_type": "markdown",
   "id": "72dd79c8",
   "metadata": {},
   "source": [
    "CSS selectorral"
   ]
  },
  {
   "cell_type": "code",
   "execution_count": 30,
   "id": "a9184d93",
   "metadata": {
    "ExecuteTime": {
     "end_time": "2022-12-06T17:55:07.291250Z",
     "start_time": "2022-12-06T17:55:07.258544Z"
    }
   },
   "outputs": [
    {
     "data": {
      "text/plain": [
       "[<div class=\"flex kerdeslista\" id=\"k11913351\" style=\"flex-wrap: nowrap;\"><div class=\"kerdes_normal\"></div><div class=\"kerdeslista_szoveg\"><a href=\"/kozoktatas-tanfolyamok__magyar-iskolak__11913351-phd-skent-keso-szakkolegiumba-jelentkezni\">PhD-sként késő szakkolégiumba jelentkezni?</a><br/><span class=\"kerdes_alatt\"><a class=\"kerdes_alatt\" href=\"/kozoktatas-tanfolyamok__magyar-iskolak\">Közoktatás, tanfolyamok » Magyar iskolák</a></span></div><div class=\"kerdeslista_valasz\">0</div></div>,\n",
       " <div class=\"flex kerdeslista sor\" id=\"k11894807\" style=\"flex-wrap: nowrap;\"><div class=\"kerdes_normal\"></div><div class=\"kerdeslista_szoveg\"><a href=\"/kozoktatas-tanfolyamok__magyar-iskolak__11894807-miert-epp-a-harkaly-szerepel-az-elte-bibo-istvan-szakkollegium-logojabanbannere\">Miért épp a harkály szerepel az ELTE Bibó István Szakkollégium logójában/bannerében?</a><br/><span class=\"kerdes_alatt\"><a class=\"kerdes_alatt\" href=\"/kozoktatas-tanfolyamok__magyar-iskolak\">Közoktatás, tanfolyamok » Magyar iskolák</a></span></div><div class=\"kerdeslista_valasz\">0</div></div>,\n",
       " <div class=\"flex kerdeslista\" id=\"k11888739\" style=\"flex-wrap: nowrap;\"><div class=\"kerdes_normal\"></div><div class=\"kerdeslista_szoveg\"><a href=\"/kozoktatas-tanfolyamok__magyar-iskolak__11888739-a-benda-kalman-szakkollegium-felveteli-elbeszelgetesen-mi-varhato-milyen-kerdes\">A Benda Kálmán Szakkollégium felvételi elbeszélgetésén mi várható? Milyen kérdések? Milyen témák?</a><br/><span class=\"kerdes_alatt\"><a class=\"kerdes_alatt\" href=\"/kozoktatas-tanfolyamok__magyar-iskolak\">Közoktatás, tanfolyamok » Magyar iskolák</a></span></div><div class=\"kerdeslista_valasz\">0</div></div>,\n",
       " <div class=\"flex kerdeslista sor\" id=\"k11854503\" style=\"flex-wrap: nowrap;\"><div class=\"kerdes_normal\"></div><div class=\"kerdeslista_szoveg\"><a href=\"/kozoktatas-tanfolyamok__magyar-iskolak__11854503-mcc-mathias-corvinus-collegiumrol-velemeny\">MCC (mathias corvinus collégium)ról vélemény?</a><br/><span class=\"kerdes_alatt\"><a class=\"kerdes_alatt\" href=\"/kozoktatas-tanfolyamok__magyar-iskolak\">Közoktatás, tanfolyamok » Magyar iskolák</a></span></div><div class=\"kerdeslista_valasz\">1</div></div>,\n",
       " <div class=\"flex kerdeslista\" id=\"k11853338\" style=\"flex-wrap: nowrap;\"><div class=\"kerdes_normal\"></div><div class=\"kerdeslista_szoveg\"><a href=\"/kozoktatas-tanfolyamok__specialis-tanfolyamok__11853338-lenne-eselyem-szakkollegiumba\">Lenne esélyem szakkollégiumba?</a><br/><span class=\"kerdes_alatt\"><a class=\"kerdes_alatt\" href=\"/kozoktatas-tanfolyamok__specialis-tanfolyamok\">Közoktatás, tanfolyamok » Speciális tanfolyamok</a></span></div><div class=\"kerdeslista_valasz\">3</div></div>,\n",
       " <div class=\"flex kerdeslista sor\" id=\"k11851503\" style=\"flex-wrap: nowrap;\"><div class=\"kerdes_normal\"></div><div class=\"kerdeslista_szoveg\"><a href=\"/kozoktatas-tanfolyamok__magyar-iskolak__11851503-az-eotvos-jozsef-szakkollegiumra-kinek-van-eselye-bekerulni\">Az Eötvös József Szakkollégiumra kinek van esélye bekerülni?</a><br/><span class=\"kerdes_alatt\"><a class=\"kerdes_alatt\" href=\"/kozoktatas-tanfolyamok__magyar-iskolak\">Közoktatás, tanfolyamok » Magyar iskolák</a></span></div><div class=\"kerdeslista_valasz\">1</div></div>,\n",
       " <div class=\"flex kerdeslista\" id=\"k11837483\" style=\"flex-wrap: nowrap;\"><div class=\"kerdes_normal\"></div><div class=\"kerdeslista_szoveg\"><a href=\"/kozoktatas-tanfolyamok__magyar-iskolak__11837483-elte-szakkollegiumokrol-mit-lehet-tudni-hogyan-kell-jelentkezni\">ELTE szakkollégiumokról mit lehet tudni? Hogyan kell jelentkezni?</a><br/><span class=\"kerdes_alatt\"><a class=\"kerdes_alatt\" href=\"/kozoktatas-tanfolyamok__magyar-iskolak\">Közoktatás, tanfolyamok » Magyar iskolák</a></span></div><div class=\"kerdeslista_valasz\">3</div></div>,\n",
       " <div class=\"flex kerdeslista sor\" id=\"k11832490\" style=\"flex-wrap: nowrap;\"><div class=\"kerdes_normal\"></div><div class=\"kerdeslista_szoveg\"><a href=\"/kozoktatas-tanfolyamok__egyeb-kerdesek__11832490-melyiket-ajanlanatok-inkabb-az-elte-marton-aron-szakkollegiumot-vagy-az-erdos\">Melyiket ajánlanátok inkább, az ELTE Márton Áron Szakkollégiumot, vagy az Erdős Pál Kollégiumot?</a><br/><span class=\"kerdes_alatt\"><a class=\"kerdes_alatt\" href=\"/kozoktatas-tanfolyamok__egyeb-kerdesek\">Közoktatás, tanfolyamok » Egyéb kérdések</a></span></div><div class=\"kerdeslista_valasz\">1</div></div>,\n",
       " <div class=\"flex kerdeslista\" id=\"k11800923\" style=\"flex-wrap: nowrap;\"><div class=\"kerdes_normal\"></div><div class=\"kerdeslista_szoveg\"><a href=\"/kozoktatas-tanfolyamok__magyar-iskolak__11800923-az-elte-illyes-sandor-szakkollegiumaba-mennyire-nehez-bekerulni-golyakent\">Az ELTE Illyés Sándor Szakkollégiumába mennyire nehéz bekerülni gólyaként?</a><br/><span class=\"kerdes_alatt\"><a class=\"kerdes_alatt\" href=\"/kozoktatas-tanfolyamok__magyar-iskolak\">Közoktatás, tanfolyamok » Magyar iskolák</a></span></div><div class=\"kerdeslista_valasz\">1</div></div>,\n",
       " <div class=\"flex kerdeslista sor\" id=\"k11792228\" style=\"flex-wrap: nowrap;\"><div class=\"kerdes_normal\"></div><div class=\"kerdeslista_szoveg\"><a href=\"/kozoktatas-tanfolyamok__tanulasi-lehetosegek__11792228-elte-ik-programtervezo-informatikus-msc-velemenyek\">ELTE IK programtervező informatikus MSc vélemények?</a><br/><span class=\"kerdes_alatt\"><a class=\"kerdes_alatt\" href=\"/kozoktatas-tanfolyamok__tanulasi-lehetosegek\">Közoktatás, tanfolyamok » Tanulási lehetőségek</a></span></div><div class=\"kerdeslista_szavazas\" title=\"Szavazással bővített kérdés\"></div><div class=\"kerdeslista_valasz\" style=\"margin-left: 8px;\">2</div></div>,\n",
       " <div class=\"flex kerdeslista\" id=\"k11763442\" style=\"flex-wrap: nowrap;\"><div class=\"kerdes_normal\"></div><div class=\"kerdeslista_szoveg\"><a href=\"/kozoktatas-tanfolyamok__egyeb-kerdesek__11763442-elso-eves-egyetemistakent-is-jelentkezhetek-szakkoliba\">Első éves egyetemistaként is jelentkezhetek szakkoliba?</a><br/><span class=\"kerdes_alatt\"><a class=\"kerdes_alatt\" href=\"/kozoktatas-tanfolyamok__egyeb-kerdesek\">Közoktatás, tanfolyamok » Egyéb kérdések</a></span></div><div class=\"kerdeslista_valasz\">2</div></div>,\n",
       " <div class=\"flex kerdeslista sor\" id=\"k11699696\" style=\"flex-wrap: nowrap;\"><div class=\"kerdes_normal\"></div><div class=\"kerdeslista_szoveg\"><a href=\"/kozoktatas-tanfolyamok__egyeb-kerdesek__11699696-milyen-mindenkinek-elerheto-szakkolik-vannak-pesten\">Milyen mindenkinek elérhető szakkolik vannak Pesten?</a><br/><span class=\"kerdes_alatt\"><a class=\"kerdes_alatt\" href=\"/kozoktatas-tanfolyamok__egyeb-kerdesek\">Közoktatás, tanfolyamok » Egyéb kérdések</a></span></div><div class=\"kerdeslista_valasz\">2</div></div>,\n",
       " <div class=\"flex kerdeslista\" id=\"k11589033\" style=\"flex-wrap: nowrap;\"><div class=\"kerdes_normal\"></div><div class=\"kerdeslista_szoveg\"><a href=\"/kozoktatas-tanfolyamok__magyar-iskolak__11589033-mit-tudtok-a-navratil-akos-szakkollegiumrol\">Mit tudtok a Navratil Ákos szakkollégiumról?</a><br/><span class=\"kerdes_alatt\"><a class=\"kerdes_alatt\" href=\"/kozoktatas-tanfolyamok__magyar-iskolak\">Közoktatás, tanfolyamok » Magyar iskolák</a></span></div><div class=\"kerdeslista_valasz\">2</div></div>,\n",
       " <div class=\"flex kerdeslista sor\" id=\"k11554175\" style=\"flex-wrap: nowrap;\"><div class=\"kerdes_normal\"></div><div class=\"kerdeslista_szoveg\"><a href=\"/uzlet-es-penzugyek__karrier-fizetes__11554175-egyetem-mellett-minel-elobb-gyakornoki-munka-vagy-tanulni-amennyit-csak-lehet\">Egyetem mellett minél előbb gyakornoki munka, vagy tanulni, amennyit csak lehet?</a><br/><span class=\"kerdes_alatt\"><a class=\"kerdes_alatt\" href=\"/uzlet-es-penzugyek__karrier-fizetes\">Üzlet és pénzügyek » Karrier, fizetés</a></span></div><div class=\"kerdeslista_szavazas\" title=\"Szavazással bővített kérdés\"></div><div class=\"kerdeslista_valasz\" style=\"margin-left: 8px;\">14</div></div>,\n",
       " <div class=\"flex kerdeslista\" id=\"k11553419\" style=\"flex-wrap: nowrap;\"><div class=\"kerdes_normal\"></div><div class=\"kerdeslista_szoveg\"><a href=\"/kozoktatas-tanfolyamok__tanulasi-lehetosegek__11553419-szakkolegiumi-felvetel-hogy-mukodik-ha-valaki-csak-bejaros-es-nem-bentlakos-aka\">Szakkolégiumi felvétel hogy működik, ha valaki csak bejárós és nem bentlakós akar lenni?</a><br/><span class=\"kerdes_alatt\"><a class=\"kerdes_alatt\" href=\"/kozoktatas-tanfolyamok__tanulasi-lehetosegek\">Közoktatás, tanfolyamok » Tanulási lehetőségek</a></span></div><div class=\"kerdeslista_valasz\">2</div></div>,\n",
       " <div class=\"flex kerdeslista sor\" id=\"k11541072\" style=\"flex-wrap: nowrap;\"><div class=\"kerdes_normal\"></div><div class=\"kerdeslista_szoveg\"><a href=\"/kozoktatas-tanfolyamok__egyeb-kerdesek__11541072-ha-nagyon-jo-erettsegit-irok-de-nincsenek-versenyeredmenyeim-akkormeg-van-esel\">Ha nagyon jó érettségit írok, de nincsenek versenyeredményeim, akkormég van esély arra, hogy felvegyenek a Bolyai Kollégiumba (ELTE)?</a><br/><span class=\"kerdes_alatt\"><a class=\"kerdes_alatt\" href=\"/kozoktatas-tanfolyamok__egyeb-kerdesek\">Közoktatás, tanfolyamok » Egyéb kérdések</a></span></div><div class=\"kerdeslista_valasz\">3</div></div>,\n",
       " <div class=\"flex kerdeslista\" id=\"k11540555\" style=\"flex-wrap: nowrap;\"><div class=\"kerdes_normal\"></div><div class=\"kerdeslista_szoveg\"><a href=\"/kozoktatas-tanfolyamok__tanulasi-lehetosegek__11540555-velemenyek-az-elte-illyes-sandor-szakkollegiumarol\">Vélemények az ELTE Illyés Sándor Szakkollégiumáról?</a><br/><span class=\"kerdes_alatt\"><a class=\"kerdes_alatt\" href=\"/kozoktatas-tanfolyamok__tanulasi-lehetosegek\">Közoktatás, tanfolyamok » Tanulási lehetőségek</a></span></div><div class=\"kerdeslista_valasz\">2</div></div>,\n",
       " <div class=\"flex kerdeslista sor\" id=\"k11507308\" style=\"flex-wrap: nowrap;\"><div class=\"kerdes_normal\"></div><div class=\"kerdeslista_szoveg\"><a href=\"/kozoktatas-tanfolyamok__tanulasi-lehetosegek__11507308-velemenyek-az-eotvos-jozsef-collegiumrol\">Vélemények az Eötvös József Collegiumról?</a><br/><span class=\"kerdes_alatt\"><a class=\"kerdes_alatt\" href=\"/kozoktatas-tanfolyamok__tanulasi-lehetosegek\">Közoktatás, tanfolyamok » Tanulási lehetőségek</a></span></div><div class=\"kerdeslista_valasz\">1</div></div>,\n",
       " <div class=\"flex kerdeslista\" id=\"k11340462\" style=\"flex-wrap: nowrap;\"><div class=\"kerdes_normal\"></div><div class=\"kerdeslista_szoveg\"><a href=\"/kozoktatas-tanfolyamok__tanulasi-lehetosegek__11340462-milyen-szakkollegiumokat-ismertek-ahova-nem-csak-1-2-evben-lehet-jelentkezni-j\">Milyen szakkollégiumokat ismertek, ahova nem csak 1-2. évben lehet jelentkezni jogász szakos hallgatóként?</a><br/><span class=\"kerdes_alatt\"><a class=\"kerdes_alatt\" href=\"/kozoktatas-tanfolyamok__tanulasi-lehetosegek\">Közoktatás, tanfolyamok » Tanulási lehetőségek</a></span></div><div class=\"kerdeslista_valasz\">0</div></div>,\n",
       " <div class=\"flex kerdeslista sor\" id=\"k11327958\" style=\"flex-wrap: nowrap;\"><div class=\"kerdes_normal\"></div><div class=\"kerdeslista_szoveg\"><a href=\"/kozoktatas-tanfolyamok__tanulasi-lehetosegek__11327958-szerintetek-melyik-corvinusos-szakkoli-a-legjobb\">Szerintetek melyik Corvinusos szakkoli a legjobb?</a><br/><span class=\"kerdes_alatt\"><a class=\"kerdes_alatt\" href=\"/kozoktatas-tanfolyamok__tanulasi-lehetosegek\">Közoktatás, tanfolyamok » Tanulási lehetőségek</a></span></div><div class=\"kerdeslista_szavazas\" title=\"Szavazással bővített kérdés\"></div><div class=\"kerdeslista_valasz\" style=\"margin-left: 8px;\">1</div></div>,\n",
       " <div class=\"flex kerdeslista\" id=\"k11318961\" style=\"flex-wrap: nowrap;\"><div class=\"kerdes_normal\"></div><div class=\"kerdeslista_szoveg\"><a href=\"/kozoktatas-tanfolyamok__magyar-iskolak__11318961-szegedi-marton-aron-szakkollegium-velemenyek\">Szegedi Márton Áron szakkollégium vélemények?</a><br/><span class=\"kerdes_alatt\"><a class=\"kerdes_alatt\" href=\"/kozoktatas-tanfolyamok__magyar-iskolak\">Közoktatás, tanfolyamok » Magyar iskolák</a></span></div><div class=\"kerdeslista_valasz\">0</div></div>,\n",
       " <div class=\"flex kerdeslista sor\" id=\"k11257662\" style=\"flex-wrap: nowrap;\"><div class=\"kerdes_normal\"></div><div class=\"kerdeslista_szoveg\"><a href=\"/kozoktatas-tanfolyamok__magyar-iskolak__11257662-mennyire-lehetetlen-vallalkozas-elsoskent-elte-ttk-n-szakkollegiumba-bekerulni\">Mennyire lehetetlen vállalkozás elsősként ELTE TTK-n szakkollégiumba bekerülni?</a><br/><span class=\"kerdes_alatt\"><a class=\"kerdes_alatt\" href=\"/kozoktatas-tanfolyamok__magyar-iskolak\">Közoktatás, tanfolyamok » Magyar iskolák</a></span></div><div class=\"kerdeslista_valasz\">1</div></div>,\n",
       " <div class=\"flex kerdeslista\" id=\"k11191861\" style=\"flex-wrap: nowrap;\"><div class=\"kerdes_normal\"></div><div class=\"kerdeslista_szoveg\"><a href=\"/kozoktatas-tanfolyamok__tanulasi-lehetosegek__11191861-corvinuson-elsoevesnek-hol-erdemes-lakni\">Corvinuson elsőévesnek hol érdemes lakni?</a><br/><span class=\"kerdes_alatt\"><a class=\"kerdes_alatt\" href=\"/kozoktatas-tanfolyamok__tanulasi-lehetosegek\">Közoktatás, tanfolyamok » Tanulási lehetőségek</a></span></div><div class=\"kerdeslista_valasz\">2</div></div>,\n",
       " <div class=\"flex kerdeslista sor\" id=\"k11190550\" style=\"flex-wrap: nowrap;\"><div class=\"kerdes_normal\"></div><div class=\"kerdeslista_szoveg\"><a href=\"/kozoktatas-tanfolyamok__magyar-iskolak__11190550-luther-otthon-szakkollegiumrol-tudnatok-par-szot-meselni-nekem\">Luther otthon szakkollégiumról tudnatok pár szót mesélni nekem?</a><br/><span class=\"kerdes_alatt\"><a class=\"kerdes_alatt\" href=\"/kozoktatas-tanfolyamok__magyar-iskolak\">Közoktatás, tanfolyamok » Magyar iskolák</a></span></div><div class=\"kerdeslista_valasz\">0</div></div>]"
      ]
     },
     "execution_count": 30,
     "metadata": {},
     "output_type": "execute_result"
    }
   ],
   "source": [
    "soup.select(\"div.kerdeslista\")"
   ]
  },
  {
   "cell_type": "markdown",
   "id": "b0f83789",
   "metadata": {},
   "source": [
    "# Linkek begyűjtése\n",
    "\n",
    "Ahhoz hogy be tudjuk gyűjteni a hozzászólásokat, először meg kéne tudni mondani, hogy pontosan hány ilyen kérdés volt és azokat milyen linken lehet elérni.\n",
    "\n",
    "**Segítség:**  \n",
    "Ilyenkor elég végig iterálni az oldalakon és begyűjteni minden linket!"
   ]
  },
  {
   "cell_type": "markdown",
   "id": "eef36812",
   "metadata": {},
   "source": [
    "Ha megnyitod a második oldalt, akkor látszik, hogy az URL az alábbira változik:  \n",
    "https://www.gyakorikerdesek.hu/kereses.php?keres=szakkoll%C3%A9gium&oldal=2\n",
    "\n",
    "Tehát ebből már sejthető, hogy az URL végén az `oldal=2` mondja majd meg, hogy hanyadik oldalon vagyunk jelenleg. Ez egyébként gyakorta így van, mivel az úgynevezett [query stringet](https://en.wikipedia.org/wiki/Query_string) hasznják a legtöbbször."
   ]
  },
  {
   "cell_type": "markdown",
   "id": "dcbff7fa",
   "metadata": {},
   "source": [
    "A query stringek a `request.get` methodnál könnyen megadhatóak egy dictionary-vel:"
   ]
  },
  {
   "cell_type": "code",
   "execution_count": 31,
   "id": "6ae7282a",
   "metadata": {
    "ExecuteTime": {
     "end_time": "2022-12-06T17:57:58.102900Z",
     "start_time": "2022-12-06T17:57:57.974739Z"
    }
   },
   "outputs": [],
   "source": [
    "resp = requests.get(url=URL, params={\"oldal\": 2})"
   ]
  },
  {
   "cell_type": "code",
   "execution_count": 32,
   "id": "17ee33d2",
   "metadata": {
    "ExecuteTime": {
     "end_time": "2022-12-06T17:58:00.248581Z",
     "start_time": "2022-12-06T17:58:00.223164Z"
    }
   },
   "outputs": [
    {
     "data": {
      "text/plain": [
       "'https://www.gyakorikerdesek.hu/kereses.php?keres=szakkoll%C3%A9gium&oldal=2'"
      ]
     },
     "execution_count": 32,
     "metadata": {},
     "output_type": "execute_result"
    }
   ],
   "source": [
    "resp.url"
   ]
  },
  {
   "cell_type": "markdown",
   "id": "dba1279a",
   "metadata": {},
   "source": [
    "Az egyszerűség kedvéért itt egy függvényt, ami a requestet és a parseolást egyben elvégzi."
   ]
  },
  {
   "cell_type": "code",
   "execution_count": 33,
   "id": "d2ac0d6e",
   "metadata": {
    "ExecuteTime": {
     "end_time": "2022-12-06T17:58:38.012775Z",
     "start_time": "2022-12-06T17:58:38.002443Z"
    }
   },
   "outputs": [],
   "source": [
    "def get_soup(url: str, params: dict = None):\n",
    "    resp = requests.get(url=url, params=params)\n",
    "    resp.raise_for_status()\n",
    "    return BeautifulSoup(resp.content, \"html5lib\")"
   ]
  },
  {
   "cell_type": "markdown",
   "id": "1a28924f",
   "metadata": {},
   "source": [
    "## Oldalak száma"
   ]
  },
  {
   "cell_type": "markdown",
   "id": "c184acdd",
   "metadata": {},
   "source": [
    "Már csak azt kéne megtudni, hogy összesen hány oldal lehet.\n",
    "\n",
    "Ha ránézel az oldalra, látod, hogy gombokkal lehet váltani oldalakat. Ez szuper, mert akkor valószínűleg a HTML-ben is nyoma van ennek. Még látványosabb, hogy az utolsó gomb mindig az utolsó oldalra vezet, tehát nekünk erre lesz majd szükségünk."
   ]
  },
  {
   "cell_type": "markdown",
   "id": "9801fd84",
   "metadata": {},
   "source": [
    "Ezt az utolsó elemet egy `div` tárolja, aminek `oldalszamok` a class-e. Ezen belül pedig `a` elemek reprezentálják a gombokat."
   ]
  },
  {
   "cell_type": "code",
   "execution_count": 52,
   "id": "0518a9d4",
   "metadata": {
    "ExecuteTime": {
     "end_time": "2022-11-29T10:23:10.115002Z",
     "start_time": "2022-11-29T10:23:10.059314Z"
    }
   },
   "outputs": [
    {
     "data": {
      "text/plain": [
       "[<a href=\"/kereses.php?keres=szakkoll%C3%A9gium&amp;oldal=2\" title=\"szakkollégium 2.\">2</a>,\n",
       " <a href=\"/kereses.php?keres=szakkoll%C3%A9gium&amp;oldal=3\" title=\"szakkollégium 3.\">3</a>,\n",
       " <a href=\"/kereses.php?keres=szakkoll%C3%A9gium&amp;oldal=4\" title=\"szakkollégium 4.\">4</a>,\n",
       " <a href=\"/kereses.php?keres=szakkoll%C3%A9gium&amp;oldal=5\" title=\"szakkollégium 5.\">5</a>,\n",
       " <a href=\"/kereses.php?keres=szakkoll%C3%A9gium&amp;oldal=6\" title=\"szakkollégium 6.\">6</a>,\n",
       " <a href=\"/kereses.php?keres=szakkoll%C3%A9gium&amp;oldal=7\" title=\"szakkollégium 7.\">7</a>,\n",
       " <a href=\"/kereses.php?keres=szakkoll%C3%A9gium&amp;oldal=8\" title=\"szakkollégium 8.\">8</a>,\n",
       " <a href=\"/kereses.php?keres=szakkoll%C3%A9gium&amp;oldal=9\" title=\"szakkollégium 9.\">9</a>,\n",
       " <a href=\"/kereses.php?keres=szakkoll%C3%A9gium&amp;oldal=10\" title=\"szakkollégium 10.\">10</a>,\n",
       " <a href=\"/kereses.php?keres=szakkoll%C3%A9gium&amp;oldal=2\" title=\"szakkollégium 2.\">❯</a>,\n",
       " <a href=\"/kereses.php?keres=szakkoll%C3%A9gium&amp;oldal=10\" title=\"szakkollégium 10.\">❯❯</a>,\n",
       " <a href=\"/kereses.php?keres=szakkoll%C3%A9gium&amp;oldal=2\" title=\"szakkollégium 2.\">2</a>,\n",
       " <a href=\"/kereses.php?keres=szakkoll%C3%A9gium&amp;oldal=3\" title=\"szakkollégium 3.\">3</a>,\n",
       " <a href=\"/kereses.php?keres=szakkoll%C3%A9gium&amp;oldal=4\" title=\"szakkollégium 4.\">4</a>,\n",
       " <a href=\"/kereses.php?keres=szakkoll%C3%A9gium&amp;oldal=5\" title=\"szakkollégium 5.\">5</a>,\n",
       " <a href=\"/kereses.php?keres=szakkoll%C3%A9gium&amp;oldal=6\" title=\"szakkollégium 6.\">6</a>,\n",
       " <a href=\"/kereses.php?keres=szakkoll%C3%A9gium&amp;oldal=7\" title=\"szakkollégium 7.\">7</a>,\n",
       " <a href=\"/kereses.php?keres=szakkoll%C3%A9gium&amp;oldal=8\" title=\"szakkollégium 8.\">8</a>,\n",
       " <a href=\"/kereses.php?keres=szakkoll%C3%A9gium&amp;oldal=9\" title=\"szakkollégium 9.\">9</a>,\n",
       " <a href=\"/kereses.php?keres=szakkoll%C3%A9gium&amp;oldal=10\" title=\"szakkollégium 10.\">10</a>,\n",
       " <a href=\"/kereses.php?keres=szakkoll%C3%A9gium&amp;oldal=2\" title=\"szakkollégium 2.\">❯</a>,\n",
       " <a href=\"/kereses.php?keres=szakkoll%C3%A9gium&amp;oldal=10\" title=\"szakkollégium 10.\">❯❯</a>]"
      ]
     },
     "execution_count": 52,
     "metadata": {},
     "output_type": "execute_result"
    }
   ],
   "source": [
    "soup.select(\"div.oldalszamok a\")"
   ]
  },
  {
   "cell_type": "markdown",
   "id": "bc8320e1",
   "metadata": {},
   "source": [
    "Látszik, hogy a tetején és az alján is vannak ilyen gombok, de ez nem gond, mert az utolsó elég lesz."
   ]
  },
  {
   "cell_type": "code",
   "execution_count": 35,
   "id": "50d908fa",
   "metadata": {
    "ExecuteTime": {
     "end_time": "2022-12-06T18:01:26.335649Z",
     "start_time": "2022-12-06T18:01:26.286526Z"
    }
   },
   "outputs": [
    {
     "data": {
      "text/plain": [
       "<a href=\"/kereses.php?keres=szakkoll%C3%A9gium&amp;oldal=10\" title=\"szakkollégium 10.\">❯❯</a>"
      ]
     },
     "execution_count": 35,
     "metadata": {},
     "output_type": "execute_result"
    }
   ],
   "source": [
    "elem = soup.select(\"div.oldalszamok a\")[-1]\n",
    "elem"
   ]
  },
  {
   "cell_type": "markdown",
   "id": "12f6910b",
   "metadata": {
    "ExecuteTime": {
     "end_time": "2022-11-29T10:29:05.859788Z",
     "start_time": "2022-11-29T10:29:05.837378Z"
    }
   },
   "source": [
    "Ez az az elem, most szedjük ki belőle a releváns információt. A `href` attribútum fogja ez tárolni egy link formájában.\n",
    "\n",
    "Ezt a `soup.get` methoddal lehet kiszedni."
   ]
  },
  {
   "cell_type": "code",
   "execution_count": 38,
   "id": "361774ec",
   "metadata": {
    "ExecuteTime": {
     "end_time": "2022-12-06T18:02:29.993451Z",
     "start_time": "2022-12-06T18:02:29.974544Z"
    }
   },
   "outputs": [
    {
     "data": {
      "text/plain": [
       "'/kereses.php?keres=szakkoll%C3%A9gium&oldal=10'"
      ]
     },
     "execution_count": 38,
     "metadata": {},
     "output_type": "execute_result"
    }
   ],
   "source": [
    "last_url = elem.get(\"href\")\n",
    "last_url"
   ]
  },
  {
   "cell_type": "markdown",
   "id": "c22529cd",
   "metadata": {},
   "source": [
    "Végül szedjük ki a string végéről a számot"
   ]
  },
  {
   "cell_type": "code",
   "execution_count": 39,
   "id": "ab8c22e4",
   "metadata": {
    "ExecuteTime": {
     "end_time": "2022-12-06T18:02:31.702566Z",
     "start_time": "2022-12-06T18:02:31.681488Z"
    }
   },
   "outputs": [
    {
     "data": {
      "text/plain": [
       "10"
      ]
     },
     "execution_count": 39,
     "metadata": {},
     "output_type": "execute_result"
    }
   ],
   "source": [
    "int(last_url.split(\"=\")[-1])"
   ]
  },
  {
   "cell_type": "markdown",
   "id": "46ab874a",
   "metadata": {},
   "source": [
    "Az egész egy függvényben:"
   ]
  },
  {
   "cell_type": "code",
   "execution_count": 40,
   "id": "dc61683c",
   "metadata": {
    "ExecuteTime": {
     "end_time": "2022-12-06T18:02:48.938659Z",
     "start_time": "2022-12-06T18:02:48.914672Z"
    }
   },
   "outputs": [],
   "source": [
    "def get_last_page(url: str):\n",
    "    soup = get_soup(url=url)\n",
    "    last_elem = elem = soup.select(\"div.oldalszamok a\")[-1]\n",
    "    last_url = last_elem.get(\"href\")\n",
    "    return int(last_url.split(\"=\")[-1])"
   ]
  },
  {
   "cell_type": "code",
   "execution_count": 41,
   "id": "0f9d8f4e",
   "metadata": {
    "ExecuteTime": {
     "end_time": "2022-12-06T18:02:50.055433Z",
     "start_time": "2022-12-06T18:02:49.798197Z"
    }
   },
   "outputs": [
    {
     "data": {
      "text/plain": [
       "10"
      ]
     },
     "execution_count": 41,
     "metadata": {},
     "output_type": "execute_result"
    }
   ],
   "source": [
    "get_last_page(url=URL)"
   ]
  },
  {
   "cell_type": "markdown",
   "id": "ded580d8",
   "metadata": {},
   "source": [
    "## Linkek kigyűjtése"
   ]
  },
  {
   "cell_type": "markdown",
   "id": "5eefbc64",
   "metadata": {},
   "source": [
    "Korábban már láttuk, hogy így néz ki egy kérdés"
   ]
  },
  {
   "cell_type": "code",
   "execution_count": 42,
   "id": "ff5ebbc3",
   "metadata": {
    "ExecuteTime": {
     "end_time": "2022-12-06T18:04:08.242120Z",
     "start_time": "2022-12-06T18:04:08.209230Z"
    }
   },
   "outputs": [
    {
     "name": "stdout",
     "output_type": "stream",
     "text": [
      "<div class=\"flex kerdeslista\" id=\"k11913351\" style=\"flex-wrap: nowrap;\">\n",
      " <div class=\"kerdes_normal\">\n",
      " </div>\n",
      " <div class=\"kerdeslista_szoveg\">\n",
      "  <a href=\"/kozoktatas-tanfolyamok__magyar-iskolak__11913351-phd-skent-keso-szakkolegiumba-jelentkezni\">\n",
      "   PhD-sként késő szakkolégiumba jelentkezni?\n",
      "  </a>\n",
      "  <br/>\n",
      "  <span class=\"kerdes_alatt\">\n",
      "   <a class=\"kerdes_alatt\" href=\"/kozoktatas-tanfolyamok__magyar-iskolak\">\n",
      "    Közoktatás, tanfolyamok » Magyar iskolák\n",
      "   </a>\n",
      "  </span>\n",
      " </div>\n",
      " <div class=\"kerdeslista_valasz\">\n",
      "  0\n",
      " </div>\n",
      "</div>\n",
      "\n"
     ]
    }
   ],
   "source": [
    "elem = soup.select(\"div.kerdeslista\")[0]\n",
    "print(elem.prettify())"
   ]
  },
  {
   "cell_type": "markdown",
   "id": "8d133fe9",
   "metadata": {},
   "source": [
    "Nekünk ebből az **id**, a **szöveg** és az **url** fog kelleni."
   ]
  },
  {
   "cell_type": "code",
   "execution_count": 43,
   "id": "02584c7e",
   "metadata": {
    "ExecuteTime": {
     "end_time": "2022-12-06T18:04:54.960905Z",
     "start_time": "2022-12-06T18:04:54.933879Z"
    }
   },
   "outputs": [
    {
     "data": {
      "text/plain": [
       "'k11913351'"
      ]
     },
     "execution_count": 43,
     "metadata": {},
     "output_type": "execute_result"
    }
   ],
   "source": [
    "elem.get(\"id\")"
   ]
  },
  {
   "cell_type": "code",
   "execution_count": 45,
   "id": "c62915ba",
   "metadata": {
    "ExecuteTime": {
     "end_time": "2022-12-06T18:06:22.277511Z",
     "start_time": "2022-12-06T18:06:22.253169Z"
    }
   },
   "outputs": [
    {
     "data": {
      "text/plain": [
       "'/kozoktatas-tanfolyamok__magyar-iskolak__11913351-phd-skent-keso-szakkolegiumba-jelentkezni'"
      ]
     },
     "execution_count": 45,
     "metadata": {},
     "output_type": "execute_result"
    }
   ],
   "source": [
    "elem.select_one(\"div.kerdeslista_szoveg a\").get(\"href\")"
   ]
  },
  {
   "cell_type": "markdown",
   "id": "1f87eea0",
   "metadata": {
    "ExecuteTime": {
     "end_time": "2022-11-29T10:38:01.650023Z",
     "start_time": "2022-11-29T10:38:01.625533Z"
    }
   },
   "source": [
    "A szöveget a `soup.get_text` methoddal tudjátok kinyerni. A strip paraméter megadja, hogy levágja-e a felesleges karaktereket a string két oldaláról."
   ]
  },
  {
   "cell_type": "code",
   "execution_count": 49,
   "id": "6657bfd5",
   "metadata": {
    "ExecuteTime": {
     "end_time": "2022-12-06T18:07:30.684772Z",
     "start_time": "2022-12-06T18:07:30.660219Z"
    }
   },
   "outputs": [
    {
     "data": {
      "text/plain": [
       "'PhD-sként késő szakkolégiumba jelentkezni?'"
      ]
     },
     "execution_count": 49,
     "metadata": {},
     "output_type": "execute_result"
    }
   ],
   "source": [
    "elem.select_one(\"div.kerdeslista_szoveg a\").get_text(strip=True)"
   ]
  },
  {
   "cell_type": "markdown",
   "id": "348148e5",
   "metadata": {},
   "source": [
    "Egyben az egész egy függvényként"
   ]
  },
  {
   "cell_type": "code",
   "execution_count": 50,
   "id": "62120b74",
   "metadata": {
    "ExecuteTime": {
     "end_time": "2022-12-06T18:08:05.490482Z",
     "start_time": "2022-12-06T18:08:05.457827Z"
    }
   },
   "outputs": [],
   "source": [
    "def _parse_listing_elem(elem):\n",
    "    return {\n",
    "        \"id\": elem.get(\"id\"),\n",
    "        \"url\": elem.select_one(\"div.kerdeslista_szoveg a\").get(\"href\"),\n",
    "        \"question\": elem.select_one(\"div.kerdeslista_szoveg a\").get_text(strip=True),\n",
    "    }"
   ]
  },
  {
   "cell_type": "code",
   "execution_count": 51,
   "id": "78694f9a",
   "metadata": {
    "ExecuteTime": {
     "end_time": "2022-12-06T18:08:06.145661Z",
     "start_time": "2022-12-06T18:08:06.112852Z"
    }
   },
   "outputs": [
    {
     "data": {
      "text/plain": [
       "{'id': 'k11913351',\n",
       " 'url': '/kozoktatas-tanfolyamok__magyar-iskolak__11913351-phd-skent-keso-szakkolegiumba-jelentkezni',\n",
       " 'question': 'PhD-sként késő szakkolégiumba jelentkezni?'}"
      ]
     },
     "execution_count": 51,
     "metadata": {},
     "output_type": "execute_result"
    }
   ],
   "source": [
    "_parse_listing_elem(elem)"
   ]
  },
  {
   "cell_type": "markdown",
   "id": "18bf3a69",
   "metadata": {},
   "source": [
    "Most csináljunk egy függvényt egy oldal összers kérdésének kinyerésére is."
   ]
  },
  {
   "cell_type": "code",
   "execution_count": 52,
   "id": "d6f87b5f",
   "metadata": {
    "ExecuteTime": {
     "end_time": "2022-12-06T18:08:53.150652Z",
     "start_time": "2022-12-06T18:08:53.142649Z"
    }
   },
   "outputs": [],
   "source": [
    "def parse_listing_page(soup):\n",
    "    return [_parse_listing_elem(elem) for elem in soup.select(\"div.kerdeslista\")]"
   ]
  },
  {
   "cell_type": "code",
   "execution_count": 55,
   "id": "e4f3ef48",
   "metadata": {
    "ExecuteTime": {
     "end_time": "2022-12-06T18:09:12.871239Z",
     "start_time": "2022-12-06T18:09:12.814217Z"
    }
   },
   "outputs": [
    {
     "data": {
      "text/plain": [
       "[{'id': 'k11913351',\n",
       "  'url': '/kozoktatas-tanfolyamok__magyar-iskolak__11913351-phd-skent-keso-szakkolegiumba-jelentkezni',\n",
       "  'question': 'PhD-sként késő szakkolégiumba jelentkezni?'},\n",
       " {'id': 'k11894807',\n",
       "  'url': '/kozoktatas-tanfolyamok__magyar-iskolak__11894807-miert-epp-a-harkaly-szerepel-az-elte-bibo-istvan-szakkollegium-logojabanbannere',\n",
       "  'question': 'Miért épp a harkály szerepel az ELTE Bibó István Szakkollégium logójában/bannerében?'},\n",
       " {'id': 'k11888739',\n",
       "  'url': '/kozoktatas-tanfolyamok__magyar-iskolak__11888739-a-benda-kalman-szakkollegium-felveteli-elbeszelgetesen-mi-varhato-milyen-kerdes',\n",
       "  'question': 'A Benda Kálmán Szakkollégium felvételi elbeszélgetésén mi várható? Milyen kérdések? Milyen témák?'},\n",
       " {'id': 'k11854503',\n",
       "  'url': '/kozoktatas-tanfolyamok__magyar-iskolak__11854503-mcc-mathias-corvinus-collegiumrol-velemeny',\n",
       "  'question': 'MCC (mathias corvinus collégium)ról vélemény?'},\n",
       " {'id': 'k11853338',\n",
       "  'url': '/kozoktatas-tanfolyamok__specialis-tanfolyamok__11853338-lenne-eselyem-szakkollegiumba',\n",
       "  'question': 'Lenne esélyem szakkollégiumba?'},\n",
       " {'id': 'k11851503',\n",
       "  'url': '/kozoktatas-tanfolyamok__magyar-iskolak__11851503-az-eotvos-jozsef-szakkollegiumra-kinek-van-eselye-bekerulni',\n",
       "  'question': 'Az Eötvös József Szakkollégiumra kinek van esélye bekerülni?'},\n",
       " {'id': 'k11837483',\n",
       "  'url': '/kozoktatas-tanfolyamok__magyar-iskolak__11837483-elte-szakkollegiumokrol-mit-lehet-tudni-hogyan-kell-jelentkezni',\n",
       "  'question': 'ELTE szakkollégiumokról mit lehet tudni? Hogyan kell jelentkezni?'},\n",
       " {'id': 'k11832490',\n",
       "  'url': '/kozoktatas-tanfolyamok__egyeb-kerdesek__11832490-melyiket-ajanlanatok-inkabb-az-elte-marton-aron-szakkollegiumot-vagy-az-erdos',\n",
       "  'question': 'Melyiket ajánlanátok inkább, az ELTE Márton Áron Szakkollégiumot, vagy az Erdős Pál Kollégiumot?'},\n",
       " {'id': 'k11800923',\n",
       "  'url': '/kozoktatas-tanfolyamok__magyar-iskolak__11800923-az-elte-illyes-sandor-szakkollegiumaba-mennyire-nehez-bekerulni-golyakent',\n",
       "  'question': 'Az ELTE Illyés Sándor Szakkollégiumába mennyire nehéz bekerülni gólyaként?'},\n",
       " {'id': 'k11792228',\n",
       "  'url': '/kozoktatas-tanfolyamok__tanulasi-lehetosegek__11792228-elte-ik-programtervezo-informatikus-msc-velemenyek',\n",
       "  'question': 'ELTE IK programtervező informatikus MSc vélemények?'},\n",
       " {'id': 'k11763442',\n",
       "  'url': '/kozoktatas-tanfolyamok__egyeb-kerdesek__11763442-elso-eves-egyetemistakent-is-jelentkezhetek-szakkoliba',\n",
       "  'question': 'Első éves egyetemistaként is jelentkezhetek szakkoliba?'},\n",
       " {'id': 'k11699696',\n",
       "  'url': '/kozoktatas-tanfolyamok__egyeb-kerdesek__11699696-milyen-mindenkinek-elerheto-szakkolik-vannak-pesten',\n",
       "  'question': 'Milyen mindenkinek elérhető szakkolik vannak Pesten?'},\n",
       " {'id': 'k11589033',\n",
       "  'url': '/kozoktatas-tanfolyamok__magyar-iskolak__11589033-mit-tudtok-a-navratil-akos-szakkollegiumrol',\n",
       "  'question': 'Mit tudtok a Navratil Ákos szakkollégiumról?'},\n",
       " {'id': 'k11554175',\n",
       "  'url': '/uzlet-es-penzugyek__karrier-fizetes__11554175-egyetem-mellett-minel-elobb-gyakornoki-munka-vagy-tanulni-amennyit-csak-lehet',\n",
       "  'question': 'Egyetem mellett minél előbb gyakornoki munka, vagy tanulni, amennyit csak lehet?'},\n",
       " {'id': 'k11553419',\n",
       "  'url': '/kozoktatas-tanfolyamok__tanulasi-lehetosegek__11553419-szakkolegiumi-felvetel-hogy-mukodik-ha-valaki-csak-bejaros-es-nem-bentlakos-aka',\n",
       "  'question': 'Szakkolégiumi felvétel hogy működik, ha valaki csak bejárós és nem bentlakós akar lenni?'},\n",
       " {'id': 'k11541072',\n",
       "  'url': '/kozoktatas-tanfolyamok__egyeb-kerdesek__11541072-ha-nagyon-jo-erettsegit-irok-de-nincsenek-versenyeredmenyeim-akkormeg-van-esel',\n",
       "  'question': 'Ha nagyon jó érettségit írok, de nincsenek versenyeredményeim, akkormég van esély arra, hogy felvegyenek a Bolyai Kollégiumba (ELTE)?'},\n",
       " {'id': 'k11540555',\n",
       "  'url': '/kozoktatas-tanfolyamok__tanulasi-lehetosegek__11540555-velemenyek-az-elte-illyes-sandor-szakkollegiumarol',\n",
       "  'question': 'Vélemények az ELTE Illyés Sándor Szakkollégiumáról?'},\n",
       " {'id': 'k11507308',\n",
       "  'url': '/kozoktatas-tanfolyamok__tanulasi-lehetosegek__11507308-velemenyek-az-eotvos-jozsef-collegiumrol',\n",
       "  'question': 'Vélemények az Eötvös József Collegiumról?'},\n",
       " {'id': 'k11340462',\n",
       "  'url': '/kozoktatas-tanfolyamok__tanulasi-lehetosegek__11340462-milyen-szakkollegiumokat-ismertek-ahova-nem-csak-1-2-evben-lehet-jelentkezni-j',\n",
       "  'question': 'Milyen szakkollégiumokat ismertek, ahova nem csak 1-2. évben lehet jelentkezni jogász szakos hallgatóként?'},\n",
       " {'id': 'k11327958',\n",
       "  'url': '/kozoktatas-tanfolyamok__tanulasi-lehetosegek__11327958-szerintetek-melyik-corvinusos-szakkoli-a-legjobb',\n",
       "  'question': 'Szerintetek melyik Corvinusos szakkoli a legjobb?'},\n",
       " {'id': 'k11318961',\n",
       "  'url': '/kozoktatas-tanfolyamok__magyar-iskolak__11318961-szegedi-marton-aron-szakkollegium-velemenyek',\n",
       "  'question': 'Szegedi Márton Áron szakkollégium vélemények?'},\n",
       " {'id': 'k11257662',\n",
       "  'url': '/kozoktatas-tanfolyamok__magyar-iskolak__11257662-mennyire-lehetetlen-vallalkozas-elsoskent-elte-ttk-n-szakkollegiumba-bekerulni',\n",
       "  'question': 'Mennyire lehetetlen vállalkozás elsősként ELTE TTK-n szakkollégiumba bekerülni?'},\n",
       " {'id': 'k11191861',\n",
       "  'url': '/kozoktatas-tanfolyamok__tanulasi-lehetosegek__11191861-corvinuson-elsoevesnek-hol-erdemes-lakni',\n",
       "  'question': 'Corvinuson elsőévesnek hol érdemes lakni?'},\n",
       " {'id': 'k11190550',\n",
       "  'url': '/kozoktatas-tanfolyamok__magyar-iskolak__11190550-luther-otthon-szakkollegiumrol-tudnatok-par-szot-meselni-nekem',\n",
       "  'question': 'Luther otthon szakkollégiumról tudnatok pár szót mesélni nekem?'}]"
      ]
     },
     "execution_count": 55,
     "metadata": {},
     "output_type": "execute_result"
    }
   ],
   "source": [
    "parse_listing_page(soup)"
   ]
  },
  {
   "cell_type": "markdown",
   "id": "15be42b7",
   "metadata": {},
   "source": [
    "És végül így már végig tudunk iterálni az összes oldalon."
   ]
  },
  {
   "cell_type": "code",
   "execution_count": 56,
   "id": "fbbeff7d",
   "metadata": {
    "ExecuteTime": {
     "end_time": "2022-12-06T18:09:53.520252Z",
     "start_time": "2022-12-06T18:09:53.455246Z"
    }
   },
   "outputs": [],
   "source": [
    "from tqdm import tqdm"
   ]
  },
  {
   "cell_type": "code",
   "execution_count": 57,
   "id": "f60070ed",
   "metadata": {
    "ExecuteTime": {
     "end_time": "2022-12-06T18:10:01.509492Z",
     "start_time": "2022-12-06T18:10:01.269577Z"
    }
   },
   "outputs": [
    {
     "data": {
      "text/plain": [
       "[1, 2, 3, 4, 5, 6, 7, 8, 9, 10]"
      ]
     },
     "execution_count": 57,
     "metadata": {},
     "output_type": "execute_result"
    }
   ],
   "source": [
    "pages = list(range(1, get_last_page(url=URL) + 1))\n",
    "pages"
   ]
  },
  {
   "cell_type": "code",
   "execution_count": 58,
   "id": "8566a089",
   "metadata": {
    "ExecuteTime": {
     "end_time": "2022-12-06T18:10:15.703196Z",
     "start_time": "2022-12-06T18:10:13.782952Z"
    }
   },
   "outputs": [
    {
     "name": "stderr",
     "output_type": "stream",
     "text": [
      "100%|██████████| 10/10 [00:01<00:00,  5.39it/s]\n"
     ]
    }
   ],
   "source": [
    "listing_recs = []\n",
    "for page in tqdm(pages):\n",
    "    soup = get_soup(url=URL, params={\"oldal\": page})\n",
    "    listing_recs.extend(parse_listing_page(soup=soup))"
   ]
  },
  {
   "cell_type": "markdown",
   "id": "65b940e3",
   "metadata": {
    "ExecuteTime": {
     "end_time": "2022-11-29T10:47:03.756165Z",
     "start_time": "2022-11-29T10:47:03.716214Z"
    }
   },
   "source": [
    "Beolvasás `DataFrame`-be."
   ]
  },
  {
   "cell_type": "code",
   "execution_count": 61,
   "id": "870093ee",
   "metadata": {
    "ExecuteTime": {
     "end_time": "2022-12-06T18:10:53.031296Z",
     "start_time": "2022-12-06T18:10:49.558673Z"
    }
   },
   "outputs": [],
   "source": [
    "import pandas as pd"
   ]
  },
  {
   "cell_type": "code",
   "execution_count": 62,
   "id": "3bab3f67",
   "metadata": {
    "ExecuteTime": {
     "end_time": "2022-12-06T18:10:55.148639Z",
     "start_time": "2022-12-06T18:10:55.122728Z"
    }
   },
   "outputs": [],
   "source": [
    "df_listing = pd.DataFrame(listing_recs)"
   ]
  },
  {
   "cell_type": "code",
   "execution_count": 63,
   "id": "d5cf2f29",
   "metadata": {
    "ExecuteTime": {
     "end_time": "2022-12-06T18:10:58.698091Z",
     "start_time": "2022-12-06T18:10:58.641875Z"
    }
   },
   "outputs": [
    {
     "data": {
      "text/html": [
       "<div>\n",
       "<style scoped>\n",
       "    .dataframe tbody tr th:only-of-type {\n",
       "        vertical-align: middle;\n",
       "    }\n",
       "\n",
       "    .dataframe tbody tr th {\n",
       "        vertical-align: top;\n",
       "    }\n",
       "\n",
       "    .dataframe thead th {\n",
       "        text-align: right;\n",
       "    }\n",
       "</style>\n",
       "<table border=\"1\" class=\"dataframe\">\n",
       "  <thead>\n",
       "    <tr style=\"text-align: right;\">\n",
       "      <th></th>\n",
       "      <th>id</th>\n",
       "      <th>url</th>\n",
       "      <th>question</th>\n",
       "    </tr>\n",
       "  </thead>\n",
       "  <tbody>\n",
       "    <tr>\n",
       "      <th>0</th>\n",
       "      <td>k11913351</td>\n",
       "      <td>/kozoktatas-tanfolyamok__magyar-iskolak__11913...</td>\n",
       "      <td>PhD-sként késő szakkolégiumba jelentkezni?</td>\n",
       "    </tr>\n",
       "    <tr>\n",
       "      <th>1</th>\n",
       "      <td>k11894807</td>\n",
       "      <td>/kozoktatas-tanfolyamok__magyar-iskolak__11894...</td>\n",
       "      <td>Miért épp a harkály szerepel az ELTE Bibó Istv...</td>\n",
       "    </tr>\n",
       "    <tr>\n",
       "      <th>2</th>\n",
       "      <td>k11888739</td>\n",
       "      <td>/kozoktatas-tanfolyamok__magyar-iskolak__11888...</td>\n",
       "      <td>A Benda Kálmán Szakkollégium felvételi elbeszé...</td>\n",
       "    </tr>\n",
       "    <tr>\n",
       "      <th>3</th>\n",
       "      <td>k11854503</td>\n",
       "      <td>/kozoktatas-tanfolyamok__magyar-iskolak__11854...</td>\n",
       "      <td>MCC (mathias corvinus collégium)ról vélemény?</td>\n",
       "    </tr>\n",
       "    <tr>\n",
       "      <th>4</th>\n",
       "      <td>k11853338</td>\n",
       "      <td>/kozoktatas-tanfolyamok__specialis-tanfolyamok...</td>\n",
       "      <td>Lenne esélyem szakkollégiumba?</td>\n",
       "    </tr>\n",
       "    <tr>\n",
       "      <th>...</th>\n",
       "      <td>...</td>\n",
       "      <td>...</td>\n",
       "      <td>...</td>\n",
       "    </tr>\n",
       "    <tr>\n",
       "      <th>122</th>\n",
       "      <td>k1123436</td>\n",
       "      <td>/kozoktatas-tanfolyamok__tanulasi-lehetosegek_...</td>\n",
       "      <td>Szakkollégium = NO szabadidő?</td>\n",
       "    </tr>\n",
       "    <tr>\n",
       "      <th>123</th>\n",
       "      <td>k1113072</td>\n",
       "      <td>/kozoktatas-tanfolyamok__egyeb-kerdesek__11130...</td>\n",
       "      <td>Van valami tapasztalatotok a Magyar Protestáns...</td>\n",
       "    </tr>\n",
       "    <tr>\n",
       "      <th>124</th>\n",
       "      <td>k1112838</td>\n",
       "      <td>/kultura-es-kozosseg__vallas__1112838-van-vala...</td>\n",
       "      <td>Van valami tapasztalatotok a Magyar Protestáns...</td>\n",
       "    </tr>\n",
       "    <tr>\n",
       "      <th>125</th>\n",
       "      <td>k1039145</td>\n",
       "      <td>/kozoktatas-tanfolyamok__magyar-iskolak__10391...</td>\n",
       "      <td>PPKE-JÁK-ra jelentkeztem és fel is vettek. Csa...</td>\n",
       "    </tr>\n",
       "    <tr>\n",
       "      <th>126</th>\n",
       "      <td>k327099</td>\n",
       "      <td>/kozoktatas-tanfolyamok__egyeb-kerdesek__32709...</td>\n",
       "      <td>Budapesti Márton Áron Szakkollégium milyen hely?</td>\n",
       "    </tr>\n",
       "  </tbody>\n",
       "</table>\n",
       "<p>127 rows × 3 columns</p>\n",
       "</div>"
      ],
      "text/plain": [
       "            id                                                url  \\\n",
       "0    k11913351  /kozoktatas-tanfolyamok__magyar-iskolak__11913...   \n",
       "1    k11894807  /kozoktatas-tanfolyamok__magyar-iskolak__11894...   \n",
       "2    k11888739  /kozoktatas-tanfolyamok__magyar-iskolak__11888...   \n",
       "3    k11854503  /kozoktatas-tanfolyamok__magyar-iskolak__11854...   \n",
       "4    k11853338  /kozoktatas-tanfolyamok__specialis-tanfolyamok...   \n",
       "..         ...                                                ...   \n",
       "122   k1123436  /kozoktatas-tanfolyamok__tanulasi-lehetosegek_...   \n",
       "123   k1113072  /kozoktatas-tanfolyamok__egyeb-kerdesek__11130...   \n",
       "124   k1112838  /kultura-es-kozosseg__vallas__1112838-van-vala...   \n",
       "125   k1039145  /kozoktatas-tanfolyamok__magyar-iskolak__10391...   \n",
       "126    k327099  /kozoktatas-tanfolyamok__egyeb-kerdesek__32709...   \n",
       "\n",
       "                                              question  \n",
       "0           PhD-sként késő szakkolégiumba jelentkezni?  \n",
       "1    Miért épp a harkály szerepel az ELTE Bibó Istv...  \n",
       "2    A Benda Kálmán Szakkollégium felvételi elbeszé...  \n",
       "3        MCC (mathias corvinus collégium)ról vélemény?  \n",
       "4                       Lenne esélyem szakkollégiumba?  \n",
       "..                                                 ...  \n",
       "122                      Szakkollégium = NO szabadidő?  \n",
       "123  Van valami tapasztalatotok a Magyar Protestáns...  \n",
       "124  Van valami tapasztalatotok a Magyar Protestáns...  \n",
       "125  PPKE-JÁK-ra jelentkeztem és fel is vettek. Csa...  \n",
       "126   Budapesti Márton Áron Szakkollégium milyen hely?  \n",
       "\n",
       "[127 rows x 3 columns]"
      ]
     },
     "execution_count": 63,
     "metadata": {},
     "output_type": "execute_result"
    }
   ],
   "source": [
    "df_listing"
   ]
  },
  {
   "cell_type": "markdown",
   "id": "c0105d12",
   "metadata": {},
   "source": [
    "# Szövegek kiszedése"
   ]
  },
  {
   "cell_type": "code",
   "execution_count": 64,
   "id": "8d0afe7c",
   "metadata": {
    "ExecuteTime": {
     "end_time": "2022-12-06T18:13:54.962555Z",
     "start_time": "2022-12-06T18:13:54.931029Z"
    }
   },
   "outputs": [
    {
     "data": {
      "text/plain": [
       "'/kozoktatas-tanfolyamok__magyar-iskolak__11913351-phd-skent-keso-szakkolegiumba-jelentkezni'"
      ]
     },
     "execution_count": 64,
     "metadata": {},
     "output_type": "execute_result"
    }
   ],
   "source": [
    "listing_recs[0][\"url\"]"
   ]
  },
  {
   "cell_type": "markdown",
   "id": "31cb7e7f",
   "metadata": {},
   "source": [
    "Ilyen URL-eket kaptunk a korábbi lépésben. Ezeket úgy kell értelmezni, hogy az alap URL (https://www.gyakorikerdesek.hu) utáni részt jelölik:\n",
    "https://www.gyakorikerdesek.hu/kozoktatas-tanfolyamok__magyar-iskolak__11913351-phd-skent-keso-szakkolegiumba-jelentkezni"
   ]
  },
  {
   "cell_type": "markdown",
   "id": "738ded7d",
   "metadata": {},
   "source": [
    "Nézzünk meg jobban egy ilyen oldalt. A szövegeket a `kerdes_kerdes` vagy `valasz_valasz` class-el rendelkező `div` elemek tartalmazzák."
   ]
  },
  {
   "cell_type": "code",
   "execution_count": 65,
   "id": "db49eb55",
   "metadata": {
    "ExecuteTime": {
     "end_time": "2022-12-06T18:13:57.128080Z",
     "start_time": "2022-12-06T18:13:57.103362Z"
    }
   },
   "outputs": [
    {
     "data": {
      "text/plain": [
       "'https://www.gyakorikerdesek.hu/kozoktatas-tanfolyamok__magyar-iskolak__11913351-phd-skent-keso-szakkolegiumba-jelentkezni'"
      ]
     },
     "execution_count": 65,
     "metadata": {},
     "output_type": "execute_result"
    }
   ],
   "source": [
    "BASE_URL = \"https://www.gyakorikerdesek.hu\"\n",
    "BASE_URL + listing_recs[0][\"url\"]"
   ]
  },
  {
   "cell_type": "code",
   "execution_count": 66,
   "id": "c994d59b",
   "metadata": {
    "ExecuteTime": {
     "end_time": "2022-12-06T18:14:00.249359Z",
     "start_time": "2022-12-06T18:13:59.969193Z"
    }
   },
   "outputs": [],
   "source": [
    "soup = get_soup(url=BASE_URL + listing_recs[4][\"url\"])"
   ]
  },
  {
   "cell_type": "markdown",
   "id": "8186e6c2",
   "metadata": {},
   "source": [
    "Válasszuk ki a megfelelő elemeket. A CSS selectorban a vessző az uniót jelöli."
   ]
  },
  {
   "cell_type": "code",
   "execution_count": 68,
   "id": "aba8aefe",
   "metadata": {
    "ExecuteTime": {
     "end_time": "2022-12-06T18:14:14.697076Z",
     "start_time": "2022-12-06T18:14:14.671974Z"
    }
   },
   "outputs": [],
   "source": [
    "elems = soup.select(\"div.kerdes_kerdes, div.valasz_valasz\")"
   ]
  },
  {
   "cell_type": "markdown",
   "id": "8a8f1427",
   "metadata": {},
   "source": [
    "Nézzük meg az első két ilyen elemet."
   ]
  },
  {
   "cell_type": "code",
   "execution_count": 355,
   "id": "d51d0466",
   "metadata": {
    "ExecuteTime": {
     "end_time": "2022-11-29T12:14:06.173840Z",
     "start_time": "2022-11-29T12:14:06.141094Z"
    }
   },
   "outputs": [
    {
     "name": "stdout",
     "output_type": "stream",
     "text": [
      "<div class=\"kerdes_kerdes\">\n",
      " <div style=\"width: 100%; margin-bottom: 10px; text-align: right;\">\n",
      "  <input class=\"check\" id=\"chkb\" onclick='location.href=\"/belepes\"; return false;' type=\"checkbox\"/>\n",
      "  Figyelt kérdés\n",
      " </div>\n",
      " <p style=\"margin: 0 0 7px 0;\">\n",
      "  Sziasztok!\n",
      " </p>\n",
      " <p style=\"margin: 7px 0 7px 0;\">\n",
      "  Most fogom az egyetemet kezdeni. Nem voltam kitűnő és versenyekre sem jártam, az érettségim viszont mindenből 90% felett lett.\n",
      " </p>\n",
      " <br/>\n",
      " <p style=\"margin: 7px 0 7px 0;\">\n",
      "  Emellett 1 felső és 2 középfokú nyelvvizsgám van +2 idegen nyelvet b2 szinten beszélek.\n",
      " </p>\n",
      " <br/>\n",
      " <p style=\"margin: 7px 0 7px 0;\">\n",
      "  Inkább a beszéd, mintsem az írás az erősségem.\n",
      " </p>\n",
      " <p style=\"margin: 7px 0 7px 0;\">\n",
      "  Az ELTE szakkollégiumai közül melyiket javasolnátok nekem, ahová lenne is esélyem bekerülni?\n",
      " </p>\n",
      " <p style=\"margin: 7px 0 7px 0;\">\n",
      "  Előre is köszönöm szépen a segítséget.\n",
      " </p>\n",
      " <br/>\n",
      "</div>\n",
      "\n"
     ]
    }
   ],
   "source": [
    "print(elems[0].prettify())"
   ]
  },
  {
   "cell_type": "code",
   "execution_count": 297,
   "id": "d2f1fb71",
   "metadata": {
    "ExecuteTime": {
     "end_time": "2022-11-29T11:56:19.202295Z",
     "start_time": "2022-11-29T11:56:19.177509Z"
    }
   },
   "outputs": [
    {
     "name": "stdout",
     "output_type": "stream",
     "text": [
      "<div class=\"kerdes_kerdes\" style=\"padding-bottom: 10px;\">\n",
      " <div class=\"flex\" style=\"flex-wrap: nowrap;\">\n",
      "  <div id=\"valasz73717835\" style=\"min-width: 740px;\">\n",
      "   <p style=\"margin: 0 0 7px 0;\">\n",
      "    Erre gondolok:\n",
      "   </p>\n",
      "   <p style=\"margin: 7px 0 7px 0;\">\n",
      "    <a onclick='alert(\"A link bejelentkezés után lesz kattintható.\");' title=\"Ha bejelentkezel, a link kattinthatóvá válik\">\n",
      "     [link]\n",
      "    </a>\n",
      "   </p>\n",
      "  </div>\n",
      " </div>\n",
      "</div>\n",
      "\n"
     ]
    }
   ],
   "source": [
    "print(elems[1].prettify())"
   ]
  },
  {
   "cell_type": "code",
   "execution_count": 75,
   "id": "86952c9e",
   "metadata": {
    "ExecuteTime": {
     "end_time": "2022-12-06T18:16:51.227586Z",
     "start_time": "2022-12-06T18:16:51.195484Z"
    }
   },
   "outputs": [],
   "source": [
    "def parse_msg_text(elem):\n",
    "    if elem.select_one(\"div input.check\"):\n",
    "        if elem.select_one(\"p\"):\n",
    "            return \"\\n\".join([p.get_text(strip=True) for p in elem.select(\"p, br\")])\n",
    "        else:\n",
    "            [e.decompose() for e in elem.select(\"div\")]\n",
    "            return elem.get_text(strip=True)\n",
    "    else:\n",
    "        return elem.select(\"div.flex div\")[-1].get_text(strip=True)"
   ]
  },
  {
   "cell_type": "markdown",
   "id": "1ff1700d",
   "metadata": {},
   "source": [
    "Végül írjunk egy függvényt, ami feldolgoz egy kommentet."
   ]
  },
  {
   "cell_type": "code",
   "execution_count": 76,
   "id": "f747cea1",
   "metadata": {
    "ExecuteTime": {
     "end_time": "2022-12-06T18:16:52.290752Z",
     "start_time": "2022-12-06T18:16:52.281674Z"
    }
   },
   "outputs": [],
   "source": [
    "def parse_msg(elem):\n",
    "    return {\"comment\": parse_msg_text(elem)}"
   ]
  },
  {
   "cell_type": "markdown",
   "id": "8fa45f74",
   "metadata": {},
   "source": [
    "És egy olyat is, ami az adott oldal összes kommentjét feldolgozza."
   ]
  },
  {
   "cell_type": "code",
   "execution_count": 77,
   "id": "66f29863",
   "metadata": {
    "ExecuteTime": {
     "end_time": "2022-12-06T18:16:56.542512Z",
     "start_time": "2022-12-06T18:16:56.517113Z"
    }
   },
   "outputs": [],
   "source": [
    "def parse_msg_page(soup):\n",
    "    elems = soup.select(\"div.kerdes_kerdes, div.valasz_valasz\")\n",
    "    return [parse_msg(e) for e in elems]"
   ]
  },
  {
   "cell_type": "code",
   "execution_count": 78,
   "id": "2eb2523f",
   "metadata": {
    "ExecuteTime": {
     "end_time": "2022-12-06T18:16:58.909487Z",
     "start_time": "2022-12-06T18:16:58.861349Z"
    }
   },
   "outputs": [
    {
     "data": {
      "text/plain": [
       "[{'comment': 'Sziasztok!\\nMost fogom az egyetemet kezdeni. Nem voltam kitűnő és versenyekre sem jártam, az érettségim viszont mindenből 90% felett lett.\\n\\nEmellett 1 felső és 2 középfokú nyelvvizsgám van +2 idegen nyelvet b2 szinten beszélek.\\n\\nInkább a beszéd, mintsem az írás az erősségem.\\nAz ELTE szakkollégiumai közül melyiket javasolnátok nekem, ahová lenne is esélyem bekerülni?\\nElőre is köszönöm szépen a segítséget.\\n'},\n",
       " {'comment': 'Melyik szakkolikat nézted vagy egyáltalán milyen szakos vagy? Több szakkoli is van, nem mindegyikbe jelentkezhetnek minden szakról.'},\n",
       " {'comment': 'ELTE Eötvös József Kollégiumot néztem.'},\n",
       " {'comment': 'És milyen szakos vagy?'},\n",
       " {'comment': 'Nemzetközi tanulmányok'},\n",
       " {'comment': 'Navratil Ákos Szakkollégium akkor az igazán neked való, bár lehet az EC-ben is van olyan műhely, ahova tudsz jelentkezni, bár az EC-be nehezebb bekerülni.'}]"
      ]
     },
     "execution_count": 78,
     "metadata": {},
     "output_type": "execute_result"
    }
   ],
   "source": [
    "parse_msg_page(soup)"
   ]
  },
  {
   "cell_type": "markdown",
   "id": "dd90b26a",
   "metadata": {},
   "source": [
    "Végül iteráljunk végig az összes thread-en és szedjük ki a kommenteket."
   ]
  },
  {
   "cell_type": "code",
   "execution_count": 79,
   "id": "4fc58c97",
   "metadata": {
    "ExecuteTime": {
     "end_time": "2022-12-06T18:17:05.106432Z",
     "start_time": "2022-12-06T18:17:05.086872Z"
    }
   },
   "outputs": [
    {
     "data": {
      "text/plain": [
       "{'id': 'k11913351',\n",
       " 'url': '/kozoktatas-tanfolyamok__magyar-iskolak__11913351-phd-skent-keso-szakkolegiumba-jelentkezni',\n",
       " 'question': 'PhD-sként késő szakkolégiumba jelentkezni?'}"
      ]
     },
     "execution_count": 79,
     "metadata": {},
     "output_type": "execute_result"
    }
   ],
   "source": [
    "listing_recs[0]"
   ]
  },
  {
   "cell_type": "markdown",
   "id": "2acf581a",
   "metadata": {},
   "source": [
    "Az id-k miatt `DataFrame`-et használunk. Erről később lesz szó."
   ]
  },
  {
   "cell_type": "code",
   "execution_count": 80,
   "id": "79718364",
   "metadata": {
    "ExecuteTime": {
     "end_time": "2022-12-06T18:17:44.274968Z",
     "start_time": "2022-12-06T18:17:14.155807Z"
    }
   },
   "outputs": [
    {
     "name": "stderr",
     "output_type": "stream",
     "text": [
      "100%|██████████| 127/127 [00:30<00:00,  4.22it/s]\n"
     ]
    }
   ],
   "source": [
    "comments = []\n",
    "for listing in tqdm(listing_recs):\n",
    "    soup = get_soup(url=BASE_URL + listing[\"url\"])\n",
    "    comment_recs = parse_msg_page(soup)\n",
    "    comments.append(pd.DataFrame(comment_recs).assign(thread_id=listing[\"id\"]))"
   ]
  },
  {
   "cell_type": "code",
   "execution_count": 81,
   "id": "99f46957",
   "metadata": {
    "ExecuteTime": {
     "end_time": "2022-12-06T18:17:54.789528Z",
     "start_time": "2022-12-06T18:17:54.733519Z"
    }
   },
   "outputs": [
    {
     "data": {
      "text/html": [
       "<div>\n",
       "<style scoped>\n",
       "    .dataframe tbody tr th:only-of-type {\n",
       "        vertical-align: middle;\n",
       "    }\n",
       "\n",
       "    .dataframe tbody tr th {\n",
       "        vertical-align: top;\n",
       "    }\n",
       "\n",
       "    .dataframe thead th {\n",
       "        text-align: right;\n",
       "    }\n",
       "</style>\n",
       "<table border=\"1\" class=\"dataframe\">\n",
       "  <thead>\n",
       "    <tr style=\"text-align: right;\">\n",
       "      <th></th>\n",
       "      <th>comment</th>\n",
       "      <th>thread_id</th>\n",
       "    </tr>\n",
       "  </thead>\n",
       "  <tbody>\n",
       "    <tr>\n",
       "      <th>0</th>\n",
       "      <td>Amikor alapszakos és mesterszakos voltam, túls...</td>\n",
       "      <td>k11913351</td>\n",
       "    </tr>\n",
       "    <tr>\n",
       "      <th>1</th>\n",
       "      <td>Ja, természetesen most már nem lehet jelentkez...</td>\n",
       "      <td>k11913351</td>\n",
       "    </tr>\n",
       "    <tr>\n",
       "      <th>0</th>\n",
       "      <td>A szakkollégium 2008-ban alapított Harkály-díj...</td>\n",
       "      <td>k11894807</td>\n",
       "    </tr>\n",
       "    <tr>\n",
       "      <th>1</th>\n",
       "      <td>Erre gondolok:[link]</td>\n",
       "      <td>k11894807</td>\n",
       "    </tr>\n",
       "    <tr>\n",
       "      <th>2</th>\n",
       "      <td>Megkaptam a választ máshonnan, ha valakit még ...</td>\n",
       "      <td>k11894807</td>\n",
       "    </tr>\n",
       "    <tr>\n",
       "      <th>...</th>\n",
       "      <td>...</td>\n",
       "      <td>...</td>\n",
       "    </tr>\n",
       "    <tr>\n",
       "      <th>3</th>\n",
       "      <td>annak a szaknak a kimondott kolesza ahova felv...</td>\n",
       "      <td>k1039145</td>\n",
       "    </tr>\n",
       "    <tr>\n",
       "      <th>4</th>\n",
       "      <td>Nem, nem azt jelenti. A szakkollégium név arra...</td>\n",
       "      <td>k1039145</td>\n",
       "    </tr>\n",
       "    <tr>\n",
       "      <th>5</th>\n",
       "      <td>Na de akkor csak abba a koleszba felvételizhet...</td>\n",
       "      <td>k1039145</td>\n",
       "    </tr>\n",
       "    <tr>\n",
       "      <th>0</th>\n",
       "      <td>Lakott már vki ott, és milyen hely? Közösség jó?</td>\n",
       "      <td>k327099</td>\n",
       "    </tr>\n",
       "    <tr>\n",
       "      <th>1</th>\n",
       "      <td>Jó hely, nekem több ismerősöm is lakik ott, eg...</td>\n",
       "      <td>k327099</td>\n",
       "    </tr>\n",
       "  </tbody>\n",
       "</table>\n",
       "<p>368 rows × 2 columns</p>\n",
       "</div>"
      ],
      "text/plain": [
       "                                              comment  thread_id\n",
       "0   Amikor alapszakos és mesterszakos voltam, túls...  k11913351\n",
       "1   Ja, természetesen most már nem lehet jelentkez...  k11913351\n",
       "0   A szakkollégium 2008-ban alapított Harkály-díj...  k11894807\n",
       "1                                Erre gondolok:[link]  k11894807\n",
       "2   Megkaptam a választ máshonnan, ha valakit még ...  k11894807\n",
       "..                                                ...        ...\n",
       "3   annak a szaknak a kimondott kolesza ahova felv...   k1039145\n",
       "4   Nem, nem azt jelenti. A szakkollégium név arra...   k1039145\n",
       "5   Na de akkor csak abba a koleszba felvételizhet...   k1039145\n",
       "0    Lakott már vki ott, és milyen hely? Közösség jó?    k327099\n",
       "1   Jó hely, nekem több ismerősöm is lakik ott, eg...    k327099\n",
       "\n",
       "[368 rows x 2 columns]"
      ]
     },
     "execution_count": 81,
     "metadata": {},
     "output_type": "execute_result"
    }
   ],
   "source": [
    "df_comments = pd.concat(comments)\n",
    "df_comments"
   ]
  },
  {
   "cell_type": "code",
   "execution_count": 370,
   "id": "00a9c826",
   "metadata": {
    "ExecuteTime": {
     "end_time": "2022-11-29T12:16:08.892928Z",
     "start_time": "2022-11-29T12:16:08.852345Z"
    }
   },
   "outputs": [
    {
     "data": {
      "text/html": [
       "<div>\n",
       "<style scoped>\n",
       "    .dataframe tbody tr th:only-of-type {\n",
       "        vertical-align: middle;\n",
       "    }\n",
       "\n",
       "    .dataframe tbody tr th {\n",
       "        vertical-align: top;\n",
       "    }\n",
       "\n",
       "    .dataframe thead th {\n",
       "        text-align: right;\n",
       "    }\n",
       "</style>\n",
       "<table border=\"1\" class=\"dataframe\">\n",
       "  <thead>\n",
       "    <tr style=\"text-align: right;\">\n",
       "      <th></th>\n",
       "      <th>id</th>\n",
       "      <th>url</th>\n",
       "      <th>question</th>\n",
       "    </tr>\n",
       "  </thead>\n",
       "  <tbody>\n",
       "    <tr>\n",
       "      <th>0</th>\n",
       "      <td>k11913351</td>\n",
       "      <td>/kozoktatas-tanfolyamok__magyar-iskolak__11913...</td>\n",
       "      <td>PhD-sként késő szakkolégiumba jelentkezni?</td>\n",
       "    </tr>\n",
       "    <tr>\n",
       "      <th>1</th>\n",
       "      <td>k11894807</td>\n",
       "      <td>/kozoktatas-tanfolyamok__magyar-iskolak__11894...</td>\n",
       "      <td>Miért épp a harkály szerepel az ELTE Bibó Istv...</td>\n",
       "    </tr>\n",
       "    <tr>\n",
       "      <th>2</th>\n",
       "      <td>k11888739</td>\n",
       "      <td>/kozoktatas-tanfolyamok__magyar-iskolak__11888...</td>\n",
       "      <td>A Benda Kálmán Szakkollégium felvételi elbeszé...</td>\n",
       "    </tr>\n",
       "    <tr>\n",
       "      <th>3</th>\n",
       "      <td>k11854503</td>\n",
       "      <td>/kozoktatas-tanfolyamok__magyar-iskolak__11854...</td>\n",
       "      <td>MCC (mathias corvinus collégium)ról vélemény?</td>\n",
       "    </tr>\n",
       "    <tr>\n",
       "      <th>4</th>\n",
       "      <td>k11853338</td>\n",
       "      <td>/kozoktatas-tanfolyamok__specialis-tanfolyamok...</td>\n",
       "      <td>Lenne esélyem szakkollégiumba?</td>\n",
       "    </tr>\n",
       "    <tr>\n",
       "      <th>5</th>\n",
       "      <td>k11851503</td>\n",
       "      <td>/kozoktatas-tanfolyamok__magyar-iskolak__11851...</td>\n",
       "      <td>Az Eötvös József Szakkollégiumra kinek van esé...</td>\n",
       "    </tr>\n",
       "    <tr>\n",
       "      <th>6</th>\n",
       "      <td>k11837483</td>\n",
       "      <td>/kozoktatas-tanfolyamok__magyar-iskolak__11837...</td>\n",
       "      <td>ELTE szakkollégiumokról mit lehet tudni? Hogya...</td>\n",
       "    </tr>\n",
       "    <tr>\n",
       "      <th>7</th>\n",
       "      <td>k11832490</td>\n",
       "      <td>/kozoktatas-tanfolyamok__egyeb-kerdesek__11832...</td>\n",
       "      <td>Melyiket ajánlanátok inkább, az ELTE Márton Ár...</td>\n",
       "    </tr>\n",
       "    <tr>\n",
       "      <th>8</th>\n",
       "      <td>k11800923</td>\n",
       "      <td>/kozoktatas-tanfolyamok__magyar-iskolak__11800...</td>\n",
       "      <td>Az ELTE Illyés Sándor Szakkollégiumába mennyir...</td>\n",
       "    </tr>\n",
       "    <tr>\n",
       "      <th>9</th>\n",
       "      <td>k11792228</td>\n",
       "      <td>/kozoktatas-tanfolyamok__tanulasi-lehetosegek_...</td>\n",
       "      <td>ELTE IK programtervező informatikus MSc vélemé...</td>\n",
       "    </tr>\n",
       "    <tr>\n",
       "      <th>10</th>\n",
       "      <td>k11763442</td>\n",
       "      <td>/kozoktatas-tanfolyamok__egyeb-kerdesek__11763...</td>\n",
       "      <td>Első éves egyetemistaként is jelentkezhetek sz...</td>\n",
       "    </tr>\n",
       "    <tr>\n",
       "      <th>11</th>\n",
       "      <td>k11699696</td>\n",
       "      <td>/kozoktatas-tanfolyamok__egyeb-kerdesek__11699...</td>\n",
       "      <td>Milyen mindenkinek elérhető szakkolik vannak P...</td>\n",
       "    </tr>\n",
       "    <tr>\n",
       "      <th>12</th>\n",
       "      <td>k11589033</td>\n",
       "      <td>/kozoktatas-tanfolyamok__magyar-iskolak__11589...</td>\n",
       "      <td>Mit tudtok a Navratil Ákos szakkollégiumról?</td>\n",
       "    </tr>\n",
       "    <tr>\n",
       "      <th>13</th>\n",
       "      <td>k11554175</td>\n",
       "      <td>/uzlet-es-penzugyek__karrier-fizetes__11554175...</td>\n",
       "      <td>Egyetem mellett minél előbb gyakornoki munka, ...</td>\n",
       "    </tr>\n",
       "    <tr>\n",
       "      <th>14</th>\n",
       "      <td>k11553419</td>\n",
       "      <td>/kozoktatas-tanfolyamok__tanulasi-lehetosegek_...</td>\n",
       "      <td>Szakkolégiumi felvétel hogy működik, ha valaki...</td>\n",
       "    </tr>\n",
       "    <tr>\n",
       "      <th>15</th>\n",
       "      <td>k11541072</td>\n",
       "      <td>/kozoktatas-tanfolyamok__egyeb-kerdesek__11541...</td>\n",
       "      <td>Ha nagyon jó érettségit írok, de nincsenek ver...</td>\n",
       "    </tr>\n",
       "    <tr>\n",
       "      <th>16</th>\n",
       "      <td>k11540555</td>\n",
       "      <td>/kozoktatas-tanfolyamok__tanulasi-lehetosegek_...</td>\n",
       "      <td>Vélemények az ELTE Illyés Sándor Szakkollégium...</td>\n",
       "    </tr>\n",
       "    <tr>\n",
       "      <th>17</th>\n",
       "      <td>k11507308</td>\n",
       "      <td>/kozoktatas-tanfolyamok__tanulasi-lehetosegek_...</td>\n",
       "      <td>Vélemények az Eötvös József Collegiumról?</td>\n",
       "    </tr>\n",
       "    <tr>\n",
       "      <th>18</th>\n",
       "      <td>k11340462</td>\n",
       "      <td>/kozoktatas-tanfolyamok__tanulasi-lehetosegek_...</td>\n",
       "      <td>Milyen szakkollégiumokat ismertek, ahova nem c...</td>\n",
       "    </tr>\n",
       "    <tr>\n",
       "      <th>19</th>\n",
       "      <td>k11327958</td>\n",
       "      <td>/kozoktatas-tanfolyamok__tanulasi-lehetosegek_...</td>\n",
       "      <td>Szerintetek melyik Corvinusos szakkoli a legjobb?</td>\n",
       "    </tr>\n",
       "    <tr>\n",
       "      <th>20</th>\n",
       "      <td>k11318961</td>\n",
       "      <td>/kozoktatas-tanfolyamok__magyar-iskolak__11318...</td>\n",
       "      <td>Szegedi Márton Áron szakkollégium vélemények?</td>\n",
       "    </tr>\n",
       "    <tr>\n",
       "      <th>21</th>\n",
       "      <td>k11257662</td>\n",
       "      <td>/kozoktatas-tanfolyamok__magyar-iskolak__11257...</td>\n",
       "      <td>Mennyire lehetetlen vállalkozás elsősként ELTE...</td>\n",
       "    </tr>\n",
       "    <tr>\n",
       "      <th>22</th>\n",
       "      <td>k11191861</td>\n",
       "      <td>/kozoktatas-tanfolyamok__tanulasi-lehetosegek_...</td>\n",
       "      <td>Corvinuson elsőévesnek hol érdemes lakni?</td>\n",
       "    </tr>\n",
       "    <tr>\n",
       "      <th>23</th>\n",
       "      <td>k11190550</td>\n",
       "      <td>/kozoktatas-tanfolyamok__magyar-iskolak__11190...</td>\n",
       "      <td>Luther otthon szakkollégiumról tudnatok pár sz...</td>\n",
       "    </tr>\n",
       "    <tr>\n",
       "      <th>24</th>\n",
       "      <td>k11171774</td>\n",
       "      <td>/politika__magyar-politika__11171774-orban-vik...</td>\n",
       "      <td>Orbán Viktornak hiányoznak még a Szájerrel töl...</td>\n",
       "    </tr>\n",
       "    <tr>\n",
       "      <th>25</th>\n",
       "      <td>k11130416</td>\n",
       "      <td>/kultura-es-kozosseg__vallas__11130416-van-itt...</td>\n",
       "      <td>Van itt olyan, aki részt vett már az Aquinói S...</td>\n",
       "    </tr>\n",
       "    <tr>\n",
       "      <th>26</th>\n",
       "      <td>k11102354</td>\n",
       "      <td>/kozoktatas-tanfolyamok__magyar-iskolak__11102...</td>\n",
       "      <td>KÁROLISOK! Nehéz bejutni a Benda Kálmán Bölcsé...</td>\n",
       "    </tr>\n",
       "    <tr>\n",
       "      <th>27</th>\n",
       "      <td>k11063695</td>\n",
       "      <td>/kozoktatas-tanfolyamok__egyeb-kerdesek__11063...</td>\n",
       "      <td>Mennyi időm lesz egyetem mellett?</td>\n",
       "    </tr>\n",
       "    <tr>\n",
       "      <th>28</th>\n",
       "      <td>k11037105</td>\n",
       "      <td>/kozoktatas-tanfolyamok__egyeb-kerdesek__11037...</td>\n",
       "      <td>Soproniak, mi a véleményetek a Szent Pál katol...</td>\n",
       "    </tr>\n",
       "    <tr>\n",
       "      <th>29</th>\n",
       "      <td>k11036341</td>\n",
       "      <td>/kozoktatas-tanfolyamok__magyar-iskolak__11036...</td>\n",
       "      <td>Mennyi ponttal kerültetek be a Szegedi Mòra Fe...</td>\n",
       "    </tr>\n",
       "    <tr>\n",
       "      <th>30</th>\n",
       "      <td>k11031492</td>\n",
       "      <td>/kozoktatas-tanfolyamok__egyeb-kerdesek__11031...</td>\n",
       "      <td>Üdv! A szegedi Szent Imre Szakkollégiumról sze...</td>\n",
       "    </tr>\n",
       "    <tr>\n",
       "      <th>31</th>\n",
       "      <td>k10994771</td>\n",
       "      <td>/kozoktatas-tanfolyamok__magyar-iskolak__10994...</td>\n",
       "      <td>Miért nem vesznek fel szakkollégiumba?</td>\n",
       "    </tr>\n",
       "    <tr>\n",
       "      <th>32</th>\n",
       "      <td>k10983477</td>\n",
       "      <td>/kozoktatas-tanfolyamok__tanulasi-lehetosegek_...</td>\n",
       "      <td>Van aki idén jelentkezett a Szent Ignác Jezsui...</td>\n",
       "    </tr>\n",
       "    <tr>\n",
       "      <th>33</th>\n",
       "      <td>k10945600</td>\n",
       "      <td>/kozoktatas-tanfolyamok__magyar-iskolak__10945...</td>\n",
       "      <td>ELTE Illyés Sándor Szakkollégiumról tapasztala...</td>\n",
       "    </tr>\n",
       "    <tr>\n",
       "      <th>34</th>\n",
       "      <td>k10908121</td>\n",
       "      <td>/kozoktatas-tanfolyamok__magyar-iskolak__10908...</td>\n",
       "      <td>Szent Ignác Jezsuita Szakkollégiumról vélemények?</td>\n",
       "    </tr>\n",
       "    <tr>\n",
       "      <th>35</th>\n",
       "      <td>k10839922</td>\n",
       "      <td>/kozoktatas-tanfolyamok__tanulasi-lehetosegek_...</td>\n",
       "      <td>Ki lehet szakkolégista?</td>\n",
       "    </tr>\n",
       "    <tr>\n",
       "      <th>36</th>\n",
       "      <td>k10830694</td>\n",
       "      <td>/kozoktatas-tanfolyamok__magyar-iskolak__10830...</td>\n",
       "      <td>Egyetemen gáz, ha nem veszek részt ezekben?</td>\n",
       "    </tr>\n",
       "    <tr>\n",
       "      <th>37</th>\n",
       "      <td>k10826496</td>\n",
       "      <td>/politika__magyar-politika__10826496-mi-folyt-...</td>\n",
       "      <td>Mi folyt anno a Bibó szakkollégiumban? Nem tud...</td>\n",
       "    </tr>\n",
       "    <tr>\n",
       "      <th>38</th>\n",
       "      <td>k10805435</td>\n",
       "      <td>/kozoktatas-tanfolyamok__magyar-iskolak__10805...</td>\n",
       "      <td>Jogász képzésen szakkollégium érdemes megpróbá...</td>\n",
       "    </tr>\n",
       "    <tr>\n",
       "      <th>39</th>\n",
       "      <td>k10724065</td>\n",
       "      <td>/kozoktatas-tanfolyamok__tanulasi-lehetosegek_...</td>\n",
       "      <td>Szakkollégiumokba második félévtől is lehet je...</td>\n",
       "    </tr>\n",
       "    <tr>\n",
       "      <th>40</th>\n",
       "      <td>k10628949</td>\n",
       "      <td>/kozoktatas-tanfolyamok__egyeb-kerdesek__10628...</td>\n",
       "      <td>Így lehet jelentkezni szakkollégiumba?</td>\n",
       "    </tr>\n",
       "    <tr>\n",
       "      <th>41</th>\n",
       "      <td>k10622896</td>\n",
       "      <td>/egyeb-kerdesek__egyeb-kerdesek__10622896-mi-a...</td>\n",
       "      <td>Mi a véleményetek a Jedlik Ányos Szakkollégium...</td>\n",
       "    </tr>\n",
       "    <tr>\n",
       "      <th>42</th>\n",
       "      <td>k10618580</td>\n",
       "      <td>/kozoktatas-tanfolyamok__egyeb-kerdesek__10618...</td>\n",
       "      <td>Szakkollégiumba való felvételhez önéletrajzot ...</td>\n",
       "    </tr>\n",
       "    <tr>\n",
       "      <th>43</th>\n",
       "      <td>k10618109</td>\n",
       "      <td>/kozoktatas-tanfolyamok__magyar-iskolak__10618...</td>\n",
       "      <td>Miskolcon van roma szakkollégium?</td>\n",
       "    </tr>\n",
       "    <tr>\n",
       "      <th>44</th>\n",
       "      <td>k10608280</td>\n",
       "      <td>/kozoktatas-tanfolyamok__egyeb-kerdesek__10608...</td>\n",
       "      <td>Melyik szakkollégiumba mehetnék nyelv szakos h...</td>\n",
       "    </tr>\n",
       "    <tr>\n",
       "      <th>45</th>\n",
       "      <td>k10604426</td>\n",
       "      <td>/kozoktatas-tanfolyamok__egyeb-kerdesek__10604...</td>\n",
       "      <td>Szakkollégiumba milyen motivációs levelet kell...</td>\n",
       "    </tr>\n",
       "    <tr>\n",
       "      <th>46</th>\n",
       "      <td>k10604373</td>\n",
       "      <td>/kozoktatas-tanfolyamok__egyeb-kerdesek__10604...</td>\n",
       "      <td>Benda Kálmán szakkollégiumba nehéz bejutni?</td>\n",
       "    </tr>\n",
       "    <tr>\n",
       "      <th>47</th>\n",
       "      <td>k10578580</td>\n",
       "      <td>/kozoktatas-tanfolyamok__egyeb-kerdesek__10578...</td>\n",
       "      <td>Jól tanuló egyetemisták! Ismerős a helyzet?</td>\n",
       "    </tr>\n",
       "    <tr>\n",
       "      <th>48</th>\n",
       "      <td>k1597996</td>\n",
       "      <td>/kozoktatas-tanfolyamok__egyeb-kerdesek__15979...</td>\n",
       "      <td>A Márton Áron Szakkollégiumban (BP) csak határ...</td>\n",
       "    </tr>\n",
       "    <tr>\n",
       "      <th>49</th>\n",
       "      <td>k1536169</td>\n",
       "      <td>/kozoktatas-tanfolyamok__egyeb-kerdesek__15361...</td>\n",
       "      <td>Mennyibe kerül A Szent Ignác Jezsuita Szakkoll...</td>\n",
       "    </tr>\n",
       "    <tr>\n",
       "      <th>50</th>\n",
       "      <td>k1461438</td>\n",
       "      <td>/kozoktatas-tanfolyamok__egyeb-kerdesek__14614...</td>\n",
       "      <td>Márton Áron Szakkollégiumba hogyan és kik jele...</td>\n",
       "    </tr>\n",
       "    <tr>\n",
       "      <th>51</th>\n",
       "      <td>k1123436</td>\n",
       "      <td>/kozoktatas-tanfolyamok__tanulasi-lehetosegek_...</td>\n",
       "      <td>Szakkollégium = NO szabadidő?</td>\n",
       "    </tr>\n",
       "    <tr>\n",
       "      <th>52</th>\n",
       "      <td>k1113072</td>\n",
       "      <td>/kozoktatas-tanfolyamok__egyeb-kerdesek__11130...</td>\n",
       "      <td>Van valami tapasztalatotok a Magyar Protestáns...</td>\n",
       "    </tr>\n",
       "    <tr>\n",
       "      <th>53</th>\n",
       "      <td>k1112838</td>\n",
       "      <td>/kultura-es-kozosseg__vallas__1112838-van-vala...</td>\n",
       "      <td>Van valami tapasztalatotok a Magyar Protestáns...</td>\n",
       "    </tr>\n",
       "    <tr>\n",
       "      <th>54</th>\n",
       "      <td>k1039145</td>\n",
       "      <td>/kozoktatas-tanfolyamok__magyar-iskolak__10391...</td>\n",
       "      <td>PPKE-JÁK-ra jelentkeztem és fel is vettek. Csa...</td>\n",
       "    </tr>\n",
       "    <tr>\n",
       "      <th>55</th>\n",
       "      <td>k327099</td>\n",
       "      <td>/kozoktatas-tanfolyamok__egyeb-kerdesek__32709...</td>\n",
       "      <td>Budapesti Márton Áron Szakkollégium milyen hely?</td>\n",
       "    </tr>\n",
       "  </tbody>\n",
       "</table>\n",
       "</div>"
      ],
      "text/plain": [
       "           id                                                url  \\\n",
       "0   k11913351  /kozoktatas-tanfolyamok__magyar-iskolak__11913...   \n",
       "1   k11894807  /kozoktatas-tanfolyamok__magyar-iskolak__11894...   \n",
       "2   k11888739  /kozoktatas-tanfolyamok__magyar-iskolak__11888...   \n",
       "3   k11854503  /kozoktatas-tanfolyamok__magyar-iskolak__11854...   \n",
       "4   k11853338  /kozoktatas-tanfolyamok__specialis-tanfolyamok...   \n",
       "5   k11851503  /kozoktatas-tanfolyamok__magyar-iskolak__11851...   \n",
       "6   k11837483  /kozoktatas-tanfolyamok__magyar-iskolak__11837...   \n",
       "7   k11832490  /kozoktatas-tanfolyamok__egyeb-kerdesek__11832...   \n",
       "8   k11800923  /kozoktatas-tanfolyamok__magyar-iskolak__11800...   \n",
       "9   k11792228  /kozoktatas-tanfolyamok__tanulasi-lehetosegek_...   \n",
       "10  k11763442  /kozoktatas-tanfolyamok__egyeb-kerdesek__11763...   \n",
       "11  k11699696  /kozoktatas-tanfolyamok__egyeb-kerdesek__11699...   \n",
       "12  k11589033  /kozoktatas-tanfolyamok__magyar-iskolak__11589...   \n",
       "13  k11554175  /uzlet-es-penzugyek__karrier-fizetes__11554175...   \n",
       "14  k11553419  /kozoktatas-tanfolyamok__tanulasi-lehetosegek_...   \n",
       "15  k11541072  /kozoktatas-tanfolyamok__egyeb-kerdesek__11541...   \n",
       "16  k11540555  /kozoktatas-tanfolyamok__tanulasi-lehetosegek_...   \n",
       "17  k11507308  /kozoktatas-tanfolyamok__tanulasi-lehetosegek_...   \n",
       "18  k11340462  /kozoktatas-tanfolyamok__tanulasi-lehetosegek_...   \n",
       "19  k11327958  /kozoktatas-tanfolyamok__tanulasi-lehetosegek_...   \n",
       "20  k11318961  /kozoktatas-tanfolyamok__magyar-iskolak__11318...   \n",
       "21  k11257662  /kozoktatas-tanfolyamok__magyar-iskolak__11257...   \n",
       "22  k11191861  /kozoktatas-tanfolyamok__tanulasi-lehetosegek_...   \n",
       "23  k11190550  /kozoktatas-tanfolyamok__magyar-iskolak__11190...   \n",
       "24  k11171774  /politika__magyar-politika__11171774-orban-vik...   \n",
       "25  k11130416  /kultura-es-kozosseg__vallas__11130416-van-itt...   \n",
       "26  k11102354  /kozoktatas-tanfolyamok__magyar-iskolak__11102...   \n",
       "27  k11063695  /kozoktatas-tanfolyamok__egyeb-kerdesek__11063...   \n",
       "28  k11037105  /kozoktatas-tanfolyamok__egyeb-kerdesek__11037...   \n",
       "29  k11036341  /kozoktatas-tanfolyamok__magyar-iskolak__11036...   \n",
       "30  k11031492  /kozoktatas-tanfolyamok__egyeb-kerdesek__11031...   \n",
       "31  k10994771  /kozoktatas-tanfolyamok__magyar-iskolak__10994...   \n",
       "32  k10983477  /kozoktatas-tanfolyamok__tanulasi-lehetosegek_...   \n",
       "33  k10945600  /kozoktatas-tanfolyamok__magyar-iskolak__10945...   \n",
       "34  k10908121  /kozoktatas-tanfolyamok__magyar-iskolak__10908...   \n",
       "35  k10839922  /kozoktatas-tanfolyamok__tanulasi-lehetosegek_...   \n",
       "36  k10830694  /kozoktatas-tanfolyamok__magyar-iskolak__10830...   \n",
       "37  k10826496  /politika__magyar-politika__10826496-mi-folyt-...   \n",
       "38  k10805435  /kozoktatas-tanfolyamok__magyar-iskolak__10805...   \n",
       "39  k10724065  /kozoktatas-tanfolyamok__tanulasi-lehetosegek_...   \n",
       "40  k10628949  /kozoktatas-tanfolyamok__egyeb-kerdesek__10628...   \n",
       "41  k10622896  /egyeb-kerdesek__egyeb-kerdesek__10622896-mi-a...   \n",
       "42  k10618580  /kozoktatas-tanfolyamok__egyeb-kerdesek__10618...   \n",
       "43  k10618109  /kozoktatas-tanfolyamok__magyar-iskolak__10618...   \n",
       "44  k10608280  /kozoktatas-tanfolyamok__egyeb-kerdesek__10608...   \n",
       "45  k10604426  /kozoktatas-tanfolyamok__egyeb-kerdesek__10604...   \n",
       "46  k10604373  /kozoktatas-tanfolyamok__egyeb-kerdesek__10604...   \n",
       "47  k10578580  /kozoktatas-tanfolyamok__egyeb-kerdesek__10578...   \n",
       "48   k1597996  /kozoktatas-tanfolyamok__egyeb-kerdesek__15979...   \n",
       "49   k1536169  /kozoktatas-tanfolyamok__egyeb-kerdesek__15361...   \n",
       "50   k1461438  /kozoktatas-tanfolyamok__egyeb-kerdesek__14614...   \n",
       "51   k1123436  /kozoktatas-tanfolyamok__tanulasi-lehetosegek_...   \n",
       "52   k1113072  /kozoktatas-tanfolyamok__egyeb-kerdesek__11130...   \n",
       "53   k1112838  /kultura-es-kozosseg__vallas__1112838-van-vala...   \n",
       "54   k1039145  /kozoktatas-tanfolyamok__magyar-iskolak__10391...   \n",
       "55    k327099  /kozoktatas-tanfolyamok__egyeb-kerdesek__32709...   \n",
       "\n",
       "                                             question  \n",
       "0          PhD-sként késő szakkolégiumba jelentkezni?  \n",
       "1   Miért épp a harkály szerepel az ELTE Bibó Istv...  \n",
       "2   A Benda Kálmán Szakkollégium felvételi elbeszé...  \n",
       "3       MCC (mathias corvinus collégium)ról vélemény?  \n",
       "4                      Lenne esélyem szakkollégiumba?  \n",
       "5   Az Eötvös József Szakkollégiumra kinek van esé...  \n",
       "6   ELTE szakkollégiumokról mit lehet tudni? Hogya...  \n",
       "7   Melyiket ajánlanátok inkább, az ELTE Márton Ár...  \n",
       "8   Az ELTE Illyés Sándor Szakkollégiumába mennyir...  \n",
       "9   ELTE IK programtervező informatikus MSc vélemé...  \n",
       "10  Első éves egyetemistaként is jelentkezhetek sz...  \n",
       "11  Milyen mindenkinek elérhető szakkolik vannak P...  \n",
       "12       Mit tudtok a Navratil Ákos szakkollégiumról?  \n",
       "13  Egyetem mellett minél előbb gyakornoki munka, ...  \n",
       "14  Szakkolégiumi felvétel hogy működik, ha valaki...  \n",
       "15  Ha nagyon jó érettségit írok, de nincsenek ver...  \n",
       "16  Vélemények az ELTE Illyés Sándor Szakkollégium...  \n",
       "17          Vélemények az Eötvös József Collegiumról?  \n",
       "18  Milyen szakkollégiumokat ismertek, ahova nem c...  \n",
       "19  Szerintetek melyik Corvinusos szakkoli a legjobb?  \n",
       "20      Szegedi Márton Áron szakkollégium vélemények?  \n",
       "21  Mennyire lehetetlen vállalkozás elsősként ELTE...  \n",
       "22          Corvinuson elsőévesnek hol érdemes lakni?  \n",
       "23  Luther otthon szakkollégiumról tudnatok pár sz...  \n",
       "24  Orbán Viktornak hiányoznak még a Szájerrel töl...  \n",
       "25  Van itt olyan, aki részt vett már az Aquinói S...  \n",
       "26  KÁROLISOK! Nehéz bejutni a Benda Kálmán Bölcsé...  \n",
       "27                  Mennyi időm lesz egyetem mellett?  \n",
       "28  Soproniak, mi a véleményetek a Szent Pál katol...  \n",
       "29  Mennyi ponttal kerültetek be a Szegedi Mòra Fe...  \n",
       "30  Üdv! A szegedi Szent Imre Szakkollégiumról sze...  \n",
       "31             Miért nem vesznek fel szakkollégiumba?  \n",
       "32  Van aki idén jelentkezett a Szent Ignác Jezsui...  \n",
       "33  ELTE Illyés Sándor Szakkollégiumról tapasztala...  \n",
       "34  Szent Ignác Jezsuita Szakkollégiumról vélemények?  \n",
       "35                            Ki lehet szakkolégista?  \n",
       "36        Egyetemen gáz, ha nem veszek részt ezekben?  \n",
       "37  Mi folyt anno a Bibó szakkollégiumban? Nem tud...  \n",
       "38  Jogász képzésen szakkollégium érdemes megpróbá...  \n",
       "39  Szakkollégiumokba második félévtől is lehet je...  \n",
       "40             Így lehet jelentkezni szakkollégiumba?  \n",
       "41  Mi a véleményetek a Jedlik Ányos Szakkollégium...  \n",
       "42  Szakkollégiumba való felvételhez önéletrajzot ...  \n",
       "43                  Miskolcon van roma szakkollégium?  \n",
       "44  Melyik szakkollégiumba mehetnék nyelv szakos h...  \n",
       "45  Szakkollégiumba milyen motivációs levelet kell...  \n",
       "46        Benda Kálmán szakkollégiumba nehéz bejutni?  \n",
       "47        Jól tanuló egyetemisták! Ismerős a helyzet?  \n",
       "48  A Márton Áron Szakkollégiumban (BP) csak határ...  \n",
       "49  Mennyibe kerül A Szent Ignác Jezsuita Szakkoll...  \n",
       "50  Márton Áron Szakkollégiumba hogyan és kik jele...  \n",
       "51                      Szakkollégium = NO szabadidő?  \n",
       "52  Van valami tapasztalatotok a Magyar Protestáns...  \n",
       "53  Van valami tapasztalatotok a Magyar Protestáns...  \n",
       "54  PPKE-JÁK-ra jelentkeztem és fel is vettek. Csa...  \n",
       "55   Budapesti Márton Áron Szakkollégium milyen hely?  "
      ]
     },
     "execution_count": 370,
     "metadata": {},
     "output_type": "execute_result"
    }
   ],
   "source": [
    "df_listing"
   ]
  }
 ],
 "metadata": {
  "kernelspec": {
   "display_name": "Python 3 (ipykernel)",
   "language": "python",
   "name": "python3"
  },
  "language_info": {
   "codemirror_mode": {
    "name": "ipython",
    "version": 3
   },
   "file_extension": ".py",
   "mimetype": "text/x-python",
   "name": "python",
   "nbconvert_exporter": "python",
   "pygments_lexer": "ipython3",
   "version": "3.10.8"
  },
  "toc": {
   "base_numbering": 1,
   "nav_menu": {},
   "number_sections": true,
   "sideBar": true,
   "skip_h1_title": false,
   "title_cell": "Table of Contents",
   "title_sidebar": "Contents",
   "toc_cell": false,
   "toc_position": {
    "height": "calc(100% - 180px)",
    "left": "10px",
    "top": "150px",
    "width": "303.837px"
   },
   "toc_section_display": true,
   "toc_window_display": false
  }
 },
 "nbformat": 4,
 "nbformat_minor": 5
}
