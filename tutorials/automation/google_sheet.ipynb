{
 "cells": [
  {
   "cell_type": "markdown",
   "id": "11fa09f8",
   "metadata": {},
   "source": [
    "Pár egyszerű tutorial:  \n",
    "https://towardsdatascience.com/turn-google-sheets-into-your-own-database-with-python-4aa0b4360ce7  \n",
    "https://www.geeksforgeeks.org/how-to-automate-google-sheets-with-python/"
   ]
  },
  {
   "cell_type": "markdown",
   "id": "aa0f754a",
   "metadata": {},
   "source": [
    "# Google spreadsheet"
   ]
  },
  {
   "cell_type": "code",
   "execution_count": 38,
   "id": "e85a3310",
   "metadata": {
    "ExecuteTime": {
     "end_time": "2022-12-13T17:51:30.174577Z",
     "start_time": "2022-12-13T17:51:29.949931Z"
    }
   },
   "outputs": [],
   "source": [
    "import gspread\n",
    "from oauth2client.service_account import ServiceAccountCredentials\n",
    "import pandas as pd\n",
    "\n",
    "# Connect to Google Sheets\n",
    "scope = [\n",
    "    \"https://www.googleapis.com/auth/spreadsheets\",\n",
    "    \"https://www.googleapis.com/auth/drive\",\n",
    "]\n",
    "\n",
    "credentials = ServiceAccountCredentials.from_json_keyfile_name(\n",
    "    \"YOUR_SECRET_CREDENTIAL.json\", scope\n",
    ")\n",
    "client = gspread.authorize(credentials)"
   ]
  },
  {
   "cell_type": "markdown",
   "id": "c47761e0",
   "metadata": {},
   "source": [
    "# Download sheet"
   ]
  },
  {
   "cell_type": "code",
   "execution_count": 39,
   "id": "1b404c72",
   "metadata": {
    "ExecuteTime": {
     "end_time": "2022-12-13T17:51:49.634066Z",
     "start_time": "2022-12-13T17:51:48.325932Z"
    }
   },
   "outputs": [],
   "source": [
    "sheet = client.open('JESZK telo rajk telefon')"
   ]
  },
  {
   "cell_type": "code",
   "execution_count": 40,
   "id": "3c63a48c",
   "metadata": {
    "ExecuteTime": {
     "end_time": "2022-12-13T17:52:13.883171Z",
     "start_time": "2022-12-13T17:52:13.490962Z"
    }
   },
   "outputs": [],
   "source": [
    "wsheet = sheet.get_worksheet(0)"
   ]
  },
  {
   "cell_type": "code",
   "execution_count": 43,
   "id": "ffdf5229",
   "metadata": {
    "ExecuteTime": {
     "end_time": "2022-12-13T17:52:59.654566Z",
     "start_time": "2022-12-13T17:52:59.126520Z"
    }
   },
   "outputs": [
    {
     "data": {
      "text/html": [
       "<div>\n",
       "<style scoped>\n",
       "    .dataframe tbody tr th:only-of-type {\n",
       "        vertical-align: middle;\n",
       "    }\n",
       "\n",
       "    .dataframe tbody tr th {\n",
       "        vertical-align: top;\n",
       "    }\n",
       "\n",
       "    .dataframe thead th {\n",
       "        text-align: right;\n",
       "    }\n",
       "</style>\n",
       "<table border=\"1\" class=\"dataframe\">\n",
       "  <thead>\n",
       "    <tr style=\"text-align: right;\">\n",
       "      <th></th>\n",
       "      <th>Név</th>\n",
       "      <th>Évfolyam\\n(beosztás)</th>\n",
       "      <th>Vezetéknév</th>\n",
       "      <th>Keresztnév</th>\n",
       "      <th>Telefonszám ('+36)</th>\n",
       "      <th>Email-cím</th>\n",
       "      <th>Megjegyzés</th>\n",
       "    </tr>\n",
       "  </thead>\n",
       "  <tbody>\n",
       "    <tr>\n",
       "      <th>0</th>\n",
       "      <td>Chikán Attila</td>\n",
       "      <td>elnök</td>\n",
       "      <td>Chikán</td>\n",
       "      <td>Attila</td>\n",
       "      <td>36309848717</td>\n",
       "      <td>attilachikan@gmail.com</td>\n",
       "      <td></td>\n",
       "    </tr>\n",
       "    <tr>\n",
       "      <th>1</th>\n",
       "      <td>Barta Márton</td>\n",
       "      <td>igazgató</td>\n",
       "      <td>Barta</td>\n",
       "      <td>Márton</td>\n",
       "      <td>36303108677</td>\n",
       "      <td>barta.marton@gmail.com</td>\n",
       "      <td></td>\n",
       "    </tr>\n",
       "    <tr>\n",
       "      <th>2</th>\n",
       "      <td>Főző Zsolt</td>\n",
       "      <td>igazgató</td>\n",
       "      <td>Főző</td>\n",
       "      <td>Zsolt</td>\n",
       "      <td>36303508715</td>\n",
       "      <td>zsolt.fozo@gmail.com</td>\n",
       "      <td></td>\n",
       "    </tr>\n",
       "    <tr>\n",
       "      <th>3</th>\n",
       "      <td>Simonovits Gábor</td>\n",
       "      <td>igazgató</td>\n",
       "      <td>Simonovits</td>\n",
       "      <td>Gábor</td>\n",
       "      <td>36702985128</td>\n",
       "      <td>gabor.simonovits@gmail.com</td>\n",
       "      <td></td>\n",
       "    </tr>\n",
       "    <tr>\n",
       "      <th>4</th>\n",
       "      <td>Csonka Márk</td>\n",
       "      <td>46</td>\n",
       "      <td>Csonka</td>\n",
       "      <td>Márk</td>\n",
       "      <td>36203793120</td>\n",
       "      <td>mark.csonka95@gmail.com</td>\n",
       "      <td>szenior</td>\n",
       "    </tr>\n",
       "    <tr>\n",
       "      <th>...</th>\n",
       "      <td>...</td>\n",
       "      <td>...</td>\n",
       "      <td>...</td>\n",
       "      <td>...</td>\n",
       "      <td>...</td>\n",
       "      <td>...</td>\n",
       "      <td>...</td>\n",
       "    </tr>\n",
       "    <tr>\n",
       "      <th>142</th>\n",
       "      <td>Simon Gergely</td>\n",
       "      <td>54</td>\n",
       "      <td>Simon</td>\n",
       "      <td>Gergely</td>\n",
       "      <td>36303195705</td>\n",
       "      <td>geri.simon03@gmail.com</td>\n",
       "      <td></td>\n",
       "    </tr>\n",
       "    <tr>\n",
       "      <th>143</th>\n",
       "      <td>Szeibert Alexandra</td>\n",
       "      <td>54</td>\n",
       "      <td>Szeibert</td>\n",
       "      <td>Alexandra</td>\n",
       "      <td>36203565711</td>\n",
       "      <td>szeibert.alexandra.johanna@gmail.com</td>\n",
       "      <td></td>\n",
       "    </tr>\n",
       "    <tr>\n",
       "      <th>144</th>\n",
       "      <td>Tajti Ágnes</td>\n",
       "      <td>54</td>\n",
       "      <td>Tajti</td>\n",
       "      <td>Ágnes</td>\n",
       "      <td>36204714373</td>\n",
       "      <td>tajtiagnesgreta@gmail.com</td>\n",
       "      <td></td>\n",
       "    </tr>\n",
       "    <tr>\n",
       "      <th>145</th>\n",
       "      <td>Tóth Kristóf</td>\n",
       "      <td>54</td>\n",
       "      <td>Tóth</td>\n",
       "      <td>Kristóf</td>\n",
       "      <td>36203765211</td>\n",
       "      <td>krisitrump01@gmail.com</td>\n",
       "      <td></td>\n",
       "    </tr>\n",
       "    <tr>\n",
       "      <th>146</th>\n",
       "      <td>Vassallo Flavia</td>\n",
       "      <td>54</td>\n",
       "      <td>Vassallo</td>\n",
       "      <td>Flavia</td>\n",
       "      <td>36309067821</td>\n",
       "      <td>v.flavi@gmail.com</td>\n",
       "      <td></td>\n",
       "    </tr>\n",
       "  </tbody>\n",
       "</table>\n",
       "<p>147 rows × 7 columns</p>\n",
       "</div>"
      ],
      "text/plain": [
       "                    Név Évfolyam\\n(beosztás)  Vezetéknév Keresztnév  \\\n",
       "0         Chikán Attila                elnök      Chikán     Attila   \n",
       "1          Barta Márton             igazgató       Barta     Márton   \n",
       "2            Főző Zsolt             igazgató        Főző      Zsolt   \n",
       "3      Simonovits Gábor             igazgató  Simonovits      Gábor   \n",
       "4           Csonka Márk                   46      Csonka       Márk   \n",
       "..                  ...                  ...         ...        ...   \n",
       "142       Simon Gergely                   54       Simon    Gergely   \n",
       "143  Szeibert Alexandra                   54    Szeibert  Alexandra   \n",
       "144         Tajti Ágnes                   54       Tajti      Ágnes   \n",
       "145        Tóth Kristóf                   54        Tóth    Kristóf   \n",
       "146     Vassallo Flavia                   54    Vassallo     Flavia   \n",
       "\n",
       "    Telefonszám ('+36)                             Email-cím Megjegyzés  \n",
       "0          36309848717                attilachikan@gmail.com             \n",
       "1          36303108677               barta.marton@gmail.com              \n",
       "2          36303508715                  zsolt.fozo@gmail.com             \n",
       "3          36702985128            gabor.simonovits@gmail.com             \n",
       "4          36203793120               mark.csonka95@gmail.com    szenior  \n",
       "..                 ...                                   ...        ...  \n",
       "142        36303195705                geri.simon03@gmail.com             \n",
       "143        36203565711  szeibert.alexandra.johanna@gmail.com             \n",
       "144        36204714373             tajtiagnesgreta@gmail.com             \n",
       "145        36203765211                krisitrump01@gmail.com             \n",
       "146        36309067821                     v.flavi@gmail.com             \n",
       "\n",
       "[147 rows x 7 columns]"
      ]
     },
     "execution_count": 43,
     "metadata": {},
     "output_type": "execute_result"
    }
   ],
   "source": [
    "pd.DataFrame(wsheet.get_all_records())"
   ]
  },
  {
   "cell_type": "markdown",
   "id": "20b81cf7",
   "metadata": {},
   "source": [
    "# Add sheet"
   ]
  },
  {
   "cell_type": "code",
   "execution_count": 44,
   "id": "166096f1",
   "metadata": {
    "ExecuteTime": {
     "end_time": "2022-12-13T17:53:54.345413Z",
     "start_time": "2022-12-13T17:53:53.562773Z"
    },
    "scrolled": true
   },
   "outputs": [
    {
     "data": {
      "text/plain": [
       "<Worksheet 'PróbaJóska' id:1551836423>"
      ]
     },
     "execution_count": 44,
     "metadata": {},
     "output_type": "execute_result"
    }
   ],
   "source": [
    "sheet.add_worksheet('PróbaJóska', rows=1, cols=7)"
   ]
  },
  {
   "cell_type": "markdown",
   "id": "623bb8ab",
   "metadata": {},
   "source": [
    "# Add values"
   ]
  },
  {
   "cell_type": "code",
   "execution_count": 45,
   "id": "904bbebb",
   "metadata": {
    "ExecuteTime": {
     "end_time": "2022-12-13T17:55:09.415445Z",
     "start_time": "2022-12-13T17:55:09.399897Z"
    }
   },
   "outputs": [],
   "source": [
    "trange = \"A1:G1\"\n",
    "values = [\n",
    "    \"Civil Jóska\",\n",
    "    42,\n",
    "    \"Civil\",\n",
    "    \"Jóska\",\n",
    "    \"+36 20 123 4567\",\n",
    "    \"civiljoska@gmail.com\",\n",
    "    \"bolondozó\",\n",
    "]"
   ]
  },
  {
   "cell_type": "code",
   "execution_count": 46,
   "id": "66286c1e",
   "metadata": {
    "ExecuteTime": {
     "end_time": "2022-12-13T17:55:22.715111Z",
     "start_time": "2022-12-13T17:55:22.263832Z"
    }
   },
   "outputs": [
    {
     "data": {
      "text/plain": [
       "<Worksheet 'PróbaJóska' id:1551836423>"
      ]
     },
     "execution_count": 46,
     "metadata": {},
     "output_type": "execute_result"
    }
   ],
   "source": [
    "wsheet = sheet.get_worksheet(-1)\n",
    "wsheet"
   ]
  },
  {
   "cell_type": "code",
   "execution_count": 47,
   "id": "5babbec3",
   "metadata": {
    "ExecuteTime": {
     "end_time": "2022-12-13T17:55:56.097892Z",
     "start_time": "2022-12-13T17:55:55.690135Z"
    }
   },
   "outputs": [
    {
     "data": {
      "text/plain": [
       "{'spreadsheetId': '1pvz_2hSOqe1C0CvBrIt-vEASCGGddHyya7tbsTdpQOo',\n",
       " 'updates': {'spreadsheetId': '1pvz_2hSOqe1C0CvBrIt-vEASCGGddHyya7tbsTdpQOo',\n",
       "  'updatedRange': \"'PróbaJóska'!A1:G1\",\n",
       "  'updatedRows': 1,\n",
       "  'updatedColumns': 7,\n",
       "  'updatedCells': 7}}"
      ]
     },
     "execution_count": 47,
     "metadata": {},
     "output_type": "execute_result"
    }
   ],
   "source": [
    "wsheet.append_row(values=values, table_range=trange)"
   ]
  }
 ],
 "metadata": {
  "kernelspec": {
   "display_name": "Python 3 (ipykernel)",
   "language": "python",
   "name": "python3"
  },
  "language_info": {
   "codemirror_mode": {
    "name": "ipython",
    "version": 3
   },
   "file_extension": ".py",
   "mimetype": "text/x-python",
   "name": "python",
   "nbconvert_exporter": "python",
   "pygments_lexer": "ipython3",
   "version": "3.10.8"
  },
  "toc": {
   "base_numbering": 1,
   "nav_menu": {},
   "number_sections": true,
   "sideBar": true,
   "skip_h1_title": false,
   "title_cell": "Table of Contents",
   "title_sidebar": "Contents",
   "toc_cell": false,
   "toc_position": {},
   "toc_section_display": true,
   "toc_window_display": false
  }
 },
 "nbformat": 4,
 "nbformat_minor": 5
}
