{
 "cells": [
  {
   "cell_type": "markdown",
   "id": "e5b4e5b3",
   "metadata": {},
   "source": [
    "Egy egyszerű tutorial:  \n",
    "https://towardsdatascience.com/how-to-easily-automate-emails-with-python-8b476045c151"
   ]
  },
  {
   "cell_type": "code",
   "execution_count": 32,
   "id": "3729ed13",
   "metadata": {
    "ExecuteTime": {
     "end_time": "2022-12-13T18:00:06.585538Z",
     "start_time": "2022-12-13T18:00:06.528380Z"
    }
   },
   "outputs": [],
   "source": [
    "import smtplib\n",
    "import ssl\n",
    "from email.message import EmailMessage"
   ]
  },
  {
   "cell_type": "code",
   "execution_count": 33,
   "id": "18ed54fa",
   "metadata": {
    "ExecuteTime": {
     "end_time": "2022-12-13T18:00:15.353988Z",
     "start_time": "2022-12-13T18:00:15.331641Z"
    }
   },
   "outputs": [],
   "source": [
    "email_sender = 'pap.sebestyen@gmail.com'\n",
    "email_password = 'YOUR_SECRET'"
   ]
  },
  {
   "cell_type": "code",
   "execution_count": 9,
   "id": "129d732d",
   "metadata": {
    "ExecuteTime": {
     "end_time": "2022-12-13T15:18:26.127497Z",
     "start_time": "2022-12-13T15:18:26.119948Z"
    }
   },
   "outputs": [],
   "source": [
    "subject = 'Helós! Ez egy automatikus email.'\n",
    "body = \"\"\"\n",
    "Szia {name},\n",
    "\n",
    "Ez egy automatikus üzenet, kérlek ne válaszolj.\n",
    "\n",
    "Üdv,\n",
    "Sebi\n",
    "\"\"\""
   ]
  },
  {
   "cell_type": "code",
   "execution_count": 37,
   "id": "2e56e63a",
   "metadata": {
    "ExecuteTime": {
     "end_time": "2022-12-13T18:02:31.035473Z",
     "start_time": "2022-12-13T18:02:31.010508Z"
    }
   },
   "outputs": [
    {
     "data": {
      "text/plain": [
       "'\\nSzia Sebi,\\n\\nEz egy automatikus üzenet, kérlek ne válaszolj.\\n\\nÜdv,\\nSebi\\n'"
      ]
     },
     "execution_count": 37,
     "metadata": {},
     "output_type": "execute_result"
    }
   ],
   "source": [
    "body.format(name = 'Sebi')"
   ]
  },
  {
   "cell_type": "code",
   "execution_count": 7,
   "id": "5894558d",
   "metadata": {
    "ExecuteTime": {
     "end_time": "2022-12-13T18:00:06.585538Z",
     "start_time": "2022-12-13T18:00:06.528380Z"
    }
   },
   "outputs": [],
   "source": [
    "# For security\n",
    "context = ssl.create_default_context()"
   ]
  },
  {
   "cell_type": "code",
   "execution_count": 39,
   "id": "91880ed3",
   "metadata": {
    "ExecuteTime": {
     "end_time": "2022-12-13T18:03:53.534443Z",
     "start_time": "2022-12-13T18:03:53.509466Z"
    }
   },
   "outputs": [],
   "source": [
    "em = EmailMessage()\n",
    "em['From'] = email_sender\n",
    "em['To'] = email_sender\n",
    "em['Subject'] = subject\n",
    "em.set_content(body.format(name = 'Sebi'))"
   ]
  },
  {
   "cell_type": "code",
   "execution_count": 42,
   "id": "9d3ef1f2",
   "metadata": {
    "ExecuteTime": {
     "end_time": "2022-12-13T18:04:45.855034Z",
     "start_time": "2022-12-13T18:04:44.270905Z"
    }
   },
   "outputs": [],
   "source": [
    "with smtplib.SMTP_SSL('smtp.gmail.com', 465, context=context) as smtp:\n",
    "    smtp.login(email_sender, email_password)\n",
    "    smtp.sendmail(email_sender, email_sender, em.as_string())"
   ]
  },
  {
   "cell_type": "code",
   "execution_count": 43,
   "id": "6df122f1",
   "metadata": {
    "ExecuteTime": {
     "end_time": "2022-12-13T18:05:27.486234Z",
     "start_time": "2022-12-13T18:05:27.468800Z"
    }
   },
   "outputs": [],
   "source": [
    "user_list = [\n",
    "    (\"Fruszi\", \"kovacs.fruzsina0211@gmail.com\"),\n",
    "    (\"Imi\", \"imre.2000.cime@gmail.com\"),\n",
    "    (\"Miki\", \"zsigokimi@gmail.com\"),\n",
    "    (\"Mátl\", \"mizsak.mate98@gmail.com\"),\n",
    "    (\"Pálma\", \"szolnokipalma@gmail.com \"),\n",
    "]"
   ]
  },
  {
   "cell_type": "code",
   "execution_count": 45,
   "id": "57eac3df",
   "metadata": {
    "ExecuteTime": {
     "end_time": "2022-12-13T18:06:18.208488Z",
     "start_time": "2022-12-13T18:06:10.895111Z"
    }
   },
   "outputs": [],
   "source": [
    "for name, mail in user_list:\n",
    "    em = EmailMessage()\n",
    "    em['From'] = email_sender\n",
    "    em['To'] = mail\n",
    "    em['Subject'] = subject\n",
    "    em.set_content(body.format(name = name))\n",
    "    \n",
    "    with smtplib.SMTP_SSL('smtp.gmail.com', 465, context=context) as smtp:\n",
    "        smtp.login(email_sender, email_password)\n",
    "        smtp.sendmail(email_sender, mail, em.as_string())"
   ]
  }
 ],
 "metadata": {
  "kernelspec": {
   "display_name": "Python 3 (ipykernel)",
   "language": "python",
   "name": "python3"
  },
  "language_info": {
   "codemirror_mode": {
    "name": "ipython",
    "version": 3
   },
   "file_extension": ".py",
   "mimetype": "text/x-python",
   "name": "python",
   "nbconvert_exporter": "python",
   "pygments_lexer": "ipython3",
   "version": "3.10.8"
  },
  "toc": {
   "base_numbering": 1,
   "nav_menu": {},
   "number_sections": true,
   "sideBar": true,
   "skip_h1_title": false,
   "title_cell": "Table of Contents",
   "title_sidebar": "Contents",
   "toc_cell": false,
   "toc_position": {},
   "toc_section_display": true,
   "toc_window_display": false
  }
 },
 "nbformat": 4,
 "nbformat_minor": 5
}
