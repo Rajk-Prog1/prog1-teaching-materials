{
 "cells": [
  {
   "cell_type": "markdown",
   "id": "2960afc9",
   "metadata": {},
   "source": [
    "# Sets"
   ]
  },
  {
   "cell_type": "markdown",
   "id": "255961e3",
   "metadata": {},
   "source": [
    "## Alapok"
   ]
  },
  {
   "cell_type": "code",
   "execution_count": 1,
   "id": "334d50b8",
   "metadata": {},
   "outputs": [],
   "source": [
    "x = ['a', 'a', 'b', 'c']"
   ]
  },
  {
   "cell_type": "code",
   "execution_count": 2,
   "id": "9ad946b6",
   "metadata": {},
   "outputs": [],
   "source": [
    "letters = set(x)"
   ]
  },
  {
   "cell_type": "code",
   "execution_count": 3,
   "id": "bd8e1df8",
   "metadata": {},
   "outputs": [
    {
     "data": {
      "text/plain": [
       "{'a', 'b', 'c'}"
      ]
     },
     "execution_count": 3,
     "metadata": {},
     "output_type": "execute_result"
    }
   ],
   "source": [
    "letters"
   ]
  },
  {
   "cell_type": "code",
   "execution_count": 4,
   "id": "4ca0b67d",
   "metadata": {},
   "outputs": [
    {
     "ename": "TypeError",
     "evalue": "'set' object is not subscriptable",
     "output_type": "error",
     "traceback": [
      "\u001b[1;31m---------------------------------------------------------------------------\u001b[0m",
      "\u001b[1;31mTypeError\u001b[0m                                 Traceback (most recent call last)",
      "Cell \u001b[1;32mIn [4], line 1\u001b[0m\n\u001b[1;32m----> 1\u001b[0m \u001b[43mletters\u001b[49m\u001b[43m[\u001b[49m\u001b[38;5;241;43m0\u001b[39;49m\u001b[43m]\u001b[49m\n",
      "\u001b[1;31mTypeError\u001b[0m: 'set' object is not subscriptable"
     ]
    }
   ],
   "source": [
    "letters[0]"
   ]
  },
  {
   "cell_type": "code",
   "execution_count": 5,
   "id": "73fd7bf8",
   "metadata": {},
   "outputs": [
    {
     "data": {
      "text/plain": [
       "True"
      ]
     },
     "execution_count": 5,
     "metadata": {},
     "output_type": "execute_result"
    }
   ],
   "source": [
    "'a' in letters"
   ]
  },
  {
   "cell_type": "code",
   "execution_count": 6,
   "id": "986ac102",
   "metadata": {},
   "outputs": [
    {
     "data": {
      "text/plain": [
       "False"
      ]
     },
     "execution_count": 6,
     "metadata": {},
     "output_type": "execute_result"
    }
   ],
   "source": [
    "'d' in letters"
   ]
  },
  {
   "cell_type": "code",
   "execution_count": 8,
   "id": "58d042ee",
   "metadata": {},
   "outputs": [
    {
     "name": "stdout",
     "output_type": "stream",
     "text": [
      "a\n",
      "c\n",
      "b\n"
     ]
    }
   ],
   "source": [
    "for l in letters:\n",
    "    print(l)"
   ]
  },
  {
   "cell_type": "code",
   "execution_count": 9,
   "id": "933a008d",
   "metadata": {},
   "outputs": [
    {
     "data": {
      "text/plain": [
       "['a', 'c', 'b']"
      ]
     },
     "execution_count": 9,
     "metadata": {},
     "output_type": "execute_result"
    }
   ],
   "source": [
    "list(letters)"
   ]
  },
  {
   "cell_type": "code",
   "execution_count": 12,
   "id": "6891bb96",
   "metadata": {},
   "outputs": [
    {
     "data": {
      "text/plain": [
       "{'M', 'i', 'k'}"
      ]
     },
     "execution_count": 12,
     "metadata": {},
     "output_type": "execute_result"
    }
   ],
   "source": [
    "y = 'Miki'\n",
    "set(y)"
   ]
  },
  {
   "cell_type": "code",
   "execution_count": 16,
   "id": "8012fafa",
   "metadata": {},
   "outputs": [
    {
     "ename": "TypeError",
     "evalue": "unhashable type: 'list'",
     "output_type": "error",
     "traceback": [
      "\u001b[1;31m---------------------------------------------------------------------------\u001b[0m",
      "\u001b[1;31mTypeError\u001b[0m                                 Traceback (most recent call last)",
      "Cell \u001b[1;32mIn [16], line 2\u001b[0m\n\u001b[0;32m      1\u001b[0m z \u001b[38;5;241m=\u001b[39m [\u001b[38;5;124m'\u001b[39m\u001b[38;5;124ma\u001b[39m\u001b[38;5;124m'\u001b[39m, \u001b[38;5;124m'\u001b[39m\u001b[38;5;124mb\u001b[39m\u001b[38;5;124m'\u001b[39m, \u001b[38;5;124m'\u001b[39m\u001b[38;5;124mc\u001b[39m\u001b[38;5;124m'\u001b[39m, [\u001b[38;5;124m'\u001b[39m\u001b[38;5;124md\u001b[39m\u001b[38;5;124m'\u001b[39m, \u001b[38;5;124m'\u001b[39m\u001b[38;5;124me\u001b[39m\u001b[38;5;124m'\u001b[39m]]\n\u001b[1;32m----> 2\u001b[0m \u001b[38;5;28;43mset\u001b[39;49m\u001b[43m(\u001b[49m\u001b[43mz\u001b[49m\u001b[43m)\u001b[49m\n",
      "\u001b[1;31mTypeError\u001b[0m: unhashable type: 'list'"
     ]
    }
   ],
   "source": [
    "z = ['a', 'b', 'c', ['d', 'e']]\n",
    "set(z)"
   ]
  },
  {
   "cell_type": "code",
   "execution_count": 17,
   "id": "380502f0",
   "metadata": {},
   "outputs": [
    {
     "data": {
      "text/plain": [
       "{('d', 'e'), 'a', 'b', 'c'}"
      ]
     },
     "execution_count": 17,
     "metadata": {},
     "output_type": "execute_result"
    }
   ],
   "source": [
    "z = ['a', 'b', 'c', ('d', 'e')]\n",
    "set(z)"
   ]
  },
  {
   "cell_type": "code",
   "execution_count": 18,
   "id": "30aba8e8",
   "metadata": {},
   "outputs": [
    {
     "data": {
      "text/plain": [
       "True"
      ]
     },
     "execution_count": 18,
     "metadata": {},
     "output_type": "execute_result"
    }
   ],
   "source": [
    "('d', 'e') in set(z)"
   ]
  },
  {
   "cell_type": "code",
   "execution_count": 19,
   "id": "d0fa402e",
   "metadata": {},
   "outputs": [
    {
     "data": {
      "text/plain": [
       "{'a', 'b', 'c'}"
      ]
     },
     "execution_count": 19,
     "metadata": {},
     "output_type": "execute_result"
    }
   ],
   "source": [
    "letters = set('abc')\n",
    "letters"
   ]
  },
  {
   "cell_type": "code",
   "execution_count": 20,
   "id": "0a941040",
   "metadata": {},
   "outputs": [
    {
     "data": {
      "text/plain": [
       "{'a', 'b', 'c', 'd'}"
      ]
     },
     "execution_count": 20,
     "metadata": {},
     "output_type": "execute_result"
    }
   ],
   "source": [
    "letters.update('d')\n",
    "letters"
   ]
  },
  {
   "cell_type": "code",
   "execution_count": 21,
   "id": "e3555535",
   "metadata": {},
   "outputs": [
    {
     "data": {
      "text/plain": [
       "{'a', 'b', 'c'}"
      ]
     },
     "execution_count": 21,
     "metadata": {},
     "output_type": "execute_result"
    }
   ],
   "source": [
    "letters.remove('d')\n",
    "letters"
   ]
  },
  {
   "cell_type": "code",
   "execution_count": 22,
   "id": "2c9be72a",
   "metadata": {},
   "outputs": [
    {
     "ename": "KeyError",
     "evalue": "'e'",
     "output_type": "error",
     "traceback": [
      "\u001b[1;31m---------------------------------------------------------------------------\u001b[0m",
      "\u001b[1;31mKeyError\u001b[0m                                  Traceback (most recent call last)",
      "Cell \u001b[1;32mIn [22], line 1\u001b[0m\n\u001b[1;32m----> 1\u001b[0m \u001b[43mletters\u001b[49m\u001b[38;5;241;43m.\u001b[39;49m\u001b[43mremove\u001b[49m\u001b[43m(\u001b[49m\u001b[38;5;124;43m'\u001b[39;49m\u001b[38;5;124;43me\u001b[39;49m\u001b[38;5;124;43m'\u001b[39;49m\u001b[43m)\u001b[49m\n\u001b[0;32m      2\u001b[0m letters\n",
      "\u001b[1;31mKeyError\u001b[0m: 'e'"
     ]
    }
   ],
   "source": [
    "letters.remove('e')\n",
    "letters"
   ]
  },
  {
   "cell_type": "code",
   "execution_count": 23,
   "id": "82ef5d9a",
   "metadata": {},
   "outputs": [
    {
     "data": {
      "text/plain": [
       "{'a', 'b', 'c'}"
      ]
     },
     "execution_count": 23,
     "metadata": {},
     "output_type": "execute_result"
    }
   ],
   "source": [
    "letters.discard('e')\n",
    "letters"
   ]
  },
  {
   "cell_type": "code",
   "execution_count": 24,
   "id": "ff9c99a7",
   "metadata": {},
   "outputs": [
    {
     "data": {
      "text/plain": [
       "set()"
      ]
     },
     "execution_count": 24,
     "metadata": {},
     "output_type": "execute_result"
    }
   ],
   "source": [
    "letters.clear()\n",
    "letters"
   ]
  },
  {
   "cell_type": "markdown",
   "id": "f759632b",
   "metadata": {},
   "source": [
    "## Műveletek"
   ]
  },
  {
   "cell_type": "code",
   "execution_count": 34,
   "id": "4748901b",
   "metadata": {},
   "outputs": [],
   "source": [
    "a = set('1234')\n",
    "b = set('1245')"
   ]
  },
  {
   "cell_type": "code",
   "execution_count": 35,
   "id": "f719b17f",
   "metadata": {},
   "outputs": [
    {
     "data": {
      "text/plain": [
       "{'1', '2', '3', '4'}"
      ]
     },
     "execution_count": 35,
     "metadata": {},
     "output_type": "execute_result"
    }
   ],
   "source": [
    "a"
   ]
  },
  {
   "cell_type": "code",
   "execution_count": 36,
   "id": "c03b0bc2",
   "metadata": {
    "scrolled": true
   },
   "outputs": [
    {
     "data": {
      "text/plain": [
       "{'1', '2', '4', '5'}"
      ]
     },
     "execution_count": 36,
     "metadata": {},
     "output_type": "execute_result"
    }
   ],
   "source": [
    "b"
   ]
  },
  {
   "cell_type": "code",
   "execution_count": 28,
   "id": "92bdfe8e",
   "metadata": {},
   "outputs": [
    {
     "data": {
      "text/plain": [
       "{'3'}"
      ]
     },
     "execution_count": 28,
     "metadata": {},
     "output_type": "execute_result"
    }
   ],
   "source": [
    "a.difference(b)"
   ]
  },
  {
   "cell_type": "code",
   "execution_count": 29,
   "id": "90e44eda",
   "metadata": {},
   "outputs": [
    {
     "data": {
      "text/plain": [
       "{'1', '2', '3', '4', '5'}"
      ]
     },
     "execution_count": 29,
     "metadata": {},
     "output_type": "execute_result"
    }
   ],
   "source": [
    "a.union(b)"
   ]
  },
  {
   "cell_type": "code",
   "execution_count": 30,
   "id": "1c45f861",
   "metadata": {},
   "outputs": [
    {
     "data": {
      "text/plain": [
       "{'1', '2', '4'}"
      ]
     },
     "execution_count": 30,
     "metadata": {},
     "output_type": "execute_result"
    }
   ],
   "source": [
    "a.intersection(b)"
   ]
  },
  {
   "cell_type": "code",
   "execution_count": 37,
   "id": "4c2b9991",
   "metadata": {},
   "outputs": [
    {
     "data": {
      "text/plain": [
       "{'3'}"
      ]
     },
     "execution_count": 37,
     "metadata": {},
     "output_type": "execute_result"
    }
   ],
   "source": [
    "c = a.difference_update(b)\n",
    "a"
   ]
  },
  {
   "cell_type": "code",
   "execution_count": 50,
   "id": "7b774c3d",
   "metadata": {},
   "outputs": [
    {
     "data": {
      "text/plain": [
       "{'3'}"
      ]
     },
     "execution_count": 50,
     "metadata": {},
     "output_type": "execute_result"
    }
   ],
   "source": [
    "a"
   ]
  },
  {
   "cell_type": "markdown",
   "id": "3d1469b2",
   "metadata": {},
   "source": [
    "# List comprehension"
   ]
  },
  {
   "cell_type": "code",
   "execution_count": 51,
   "id": "23fbee12",
   "metadata": {},
   "outputs": [
    {
     "data": {
      "text/plain": [
       "['a', 'b', 'c', 'd', 'e', 'f', 'g', 'h']"
      ]
     },
     "execution_count": 51,
     "metadata": {},
     "output_type": "execute_result"
    }
   ],
   "source": [
    "letters = list('abcdefgh')\n",
    "letters"
   ]
  },
  {
   "cell_type": "markdown",
   "id": "6d170e3e",
   "metadata": {},
   "source": [
    "Csináljunk egy listáta ami ezeket a betűket tartalmazza de nagybetűs formában"
   ]
  },
  {
   "cell_type": "code",
   "execution_count": null,
   "id": "4fdaee1c",
   "metadata": {},
   "outputs": [],
   "source": [
    "new_letters = []\n",
    "for letter in letters:\n",
    "    new_letters.append(letter.upper())\n",
    "    \n",
    "new_letters"
   ]
  },
  {
   "cell_type": "code",
   "execution_count": 56,
   "id": "ddcedbac",
   "metadata": {
    "scrolled": true
   },
   "outputs": [
    {
     "data": {
      "text/plain": [
       "['A', 'B', 'C', 'D', 'E', 'F', 'G', 'H']"
      ]
     },
     "execution_count": 56,
     "metadata": {},
     "output_type": "execute_result"
    }
   ],
   "source": [
    "[letter.upper() for letter in letters]"
   ]
  },
  {
   "cell_type": "code",
   "execution_count": 57,
   "id": "263c56e8",
   "metadata": {},
   "outputs": [
    {
     "data": {
      "text/plain": [
       "[1, 2, 3, 4, 5, 6, 7, 8, 9, 10]"
      ]
     },
     "execution_count": 57,
     "metadata": {},
     "output_type": "execute_result"
    }
   ],
   "source": [
    "numbers = list(range(1,11))\n",
    "numbers"
   ]
  },
  {
   "cell_type": "markdown",
   "id": "a6ee291f",
   "metadata": {},
   "source": [
    "Csináljunk egy listát amiben ezek közül a számok közül csak a párosak szerepelnek"
   ]
  },
  {
   "cell_type": "code",
   "execution_count": 58,
   "id": "62320f1f",
   "metadata": {},
   "outputs": [
    {
     "data": {
      "text/plain": [
       "[2, 4, 6, 8, 10]"
      ]
     },
     "execution_count": 58,
     "metadata": {},
     "output_type": "execute_result"
    }
   ],
   "source": [
    "even_numbers = []\n",
    "for num in numbers:\n",
    "    if num % 2 == 0:\n",
    "        even_numbers.append(num)\n",
    "    \n",
    "even_numbers"
   ]
  },
  {
   "cell_type": "code",
   "execution_count": 60,
   "id": "d38040c5",
   "metadata": {},
   "outputs": [
    {
     "data": {
      "text/plain": [
       "[2, 4, 6, 8, 10]"
      ]
     },
     "execution_count": 60,
     "metadata": {},
     "output_type": "execute_result"
    }
   ],
   "source": [
    "[num for num in numbers if num % 2 == 0]"
   ]
  },
  {
   "cell_type": "markdown",
   "id": "b8332c35",
   "metadata": {},
   "source": [
    "Csináljunk egy olyan listát amiben ezek a számok szerepelnek, de a párosak négyzetre vannak emelve"
   ]
  },
  {
   "cell_type": "code",
   "execution_count": 61,
   "id": "238b776c",
   "metadata": {},
   "outputs": [
    {
     "data": {
      "text/plain": [
       "[1, 4, 3, 16, 5, 36, 7, 64, 9, 100]"
      ]
     },
     "execution_count": 61,
     "metadata": {},
     "output_type": "execute_result"
    }
   ],
   "source": [
    "even_numbers = []\n",
    "for num in numbers:\n",
    "    if num % 2 == 0:\n",
    "        even_numbers.append(num ** 2)\n",
    "    else:\n",
    "        even_numbers.append(num)\n",
    "    \n",
    "even_numbers"
   ]
  },
  {
   "cell_type": "markdown",
   "id": "2f1660fb",
   "metadata": {},
   "source": [
    "Kis segítség"
   ]
  },
  {
   "cell_type": "code",
   "execution_count": 64,
   "id": "c35930bd",
   "metadata": {},
   "outputs": [
    {
     "data": {
      "text/plain": [
       "'macska'"
      ]
     },
     "execution_count": 64,
     "metadata": {},
     "output_type": "execute_result"
    }
   ],
   "source": [
    "'macska' if 5 ** 2 == 25 else 'kutya'"
   ]
  },
  {
   "cell_type": "code",
   "execution_count": 65,
   "id": "9a729602",
   "metadata": {},
   "outputs": [
    {
     "name": "stdout",
     "output_type": "stream",
     "text": [
      "kutya\n"
     ]
    }
   ],
   "source": [
    "if 5 ** 2 == 25:\n",
    "    print('kutya')"
   ]
  },
  {
   "cell_type": "code",
   "execution_count": 66,
   "id": "28ae0388",
   "metadata": {},
   "outputs": [
    {
     "data": {
      "text/plain": [
       "'hörcsög'"
      ]
     },
     "execution_count": 66,
     "metadata": {},
     "output_type": "execute_result"
    }
   ],
   "source": [
    "'macska' if 5 ** 2 == 26 else 'kutya' if 169 / 13 != 13 else 'hörcsög'"
   ]
  },
  {
   "cell_type": "code",
   "execution_count": 67,
   "id": "e2b60ed7",
   "metadata": {},
   "outputs": [
    {
     "name": "stdout",
     "output_type": "stream",
     "text": [
      "hörcsög\n"
     ]
    }
   ],
   "source": [
    "if 5 ** 2 == 26:\n",
    "    print('macska')\n",
    "elif 169 / 13 != 13:\n",
    "    print('kutya')\n",
    "else:\n",
    "    print('hörcsög')"
   ]
  },
  {
   "cell_type": "code",
   "execution_count": 68,
   "id": "e13469c5",
   "metadata": {},
   "outputs": [
    {
     "data": {
      "text/plain": [
       "[1, 4, 3, 16, 5, 36, 7, 64, 9, 100]"
      ]
     },
     "execution_count": 68,
     "metadata": {},
     "output_type": "execute_result"
    }
   ],
   "source": [
    "[(num ** 2 if num % 2 == 0 else num) for num in numbers]"
   ]
  },
  {
   "cell_type": "markdown",
   "id": "f8185706",
   "metadata": {},
   "source": [
    "Csináljunk egy listát amiben ami -5 és 5 közötti egész számok reciprokát tartalmazza"
   ]
  },
  {
   "cell_type": "code",
   "execution_count": 71,
   "id": "4ecc2f51",
   "metadata": {},
   "outputs": [
    {
     "data": {
      "text/plain": [
       "[-5, -4, -3, -2, -1, 0, 1, 2, 3, 4, 5]"
      ]
     },
     "execution_count": 71,
     "metadata": {},
     "output_type": "execute_result"
    }
   ],
   "source": [
    "numbers = list(range(-5, 6))\n",
    "numbers"
   ]
  },
  {
   "cell_type": "code",
   "execution_count": 72,
   "id": "1ad9ee76",
   "metadata": {},
   "outputs": [
    {
     "ename": "ZeroDivisionError",
     "evalue": "division by zero",
     "output_type": "error",
     "traceback": [
      "\u001b[1;31m---------------------------------------------------------------------------\u001b[0m",
      "\u001b[1;31mZeroDivisionError\u001b[0m                         Traceback (most recent call last)",
      "Cell \u001b[1;32mIn [72], line 2\u001b[0m\n\u001b[0;32m      1\u001b[0m \u001b[38;5;28;01mfor\u001b[39;00m num \u001b[38;5;129;01min\u001b[39;00m numbers:\n\u001b[1;32m----> 2\u001b[0m     \u001b[38;5;241;43m1\u001b[39;49m\u001b[43m \u001b[49m\u001b[38;5;241;43m/\u001b[39;49m\u001b[43m \u001b[49m\u001b[43mnum\u001b[49m\n",
      "\u001b[1;31mZeroDivisionError\u001b[0m: division by zero"
     ]
    }
   ],
   "source": [
    "for num in numbers:\n",
    "    1 / num"
   ]
  },
  {
   "cell_type": "markdown",
   "id": "cfe9ec92",
   "metadata": {},
   "source": [
    "Egyszerűen"
   ]
  },
  {
   "cell_type": "code",
   "execution_count": 73,
   "id": "9081b50f",
   "metadata": {},
   "outputs": [
    {
     "data": {
      "text/plain": [
       "[-0.2,\n",
       " -0.25,\n",
       " -0.3333333333333333,\n",
       " -0.5,\n",
       " -1.0,\n",
       " 1.0,\n",
       " 0.5,\n",
       " 0.3333333333333333,\n",
       " 0.25,\n",
       " 0.2]"
      ]
     },
     "execution_count": 73,
     "metadata": {},
     "output_type": "execute_result"
    }
   ],
   "source": [
    "new_numbers = []\n",
    "for num in numbers:\n",
    "    if num != 0:\n",
    "        new_numbers.append(1 / num)\n",
    "        \n",
    "new_numbers"
   ]
  },
  {
   "cell_type": "code",
   "execution_count": 74,
   "id": "fe38de12",
   "metadata": {},
   "outputs": [
    {
     "data": {
      "text/plain": [
       "[-0.2,\n",
       " -0.25,\n",
       " -0.3333333333333333,\n",
       " -0.5,\n",
       " -1.0,\n",
       " 1.0,\n",
       " 0.5,\n",
       " 0.3333333333333333,\n",
       " 0.25,\n",
       " 0.2]"
      ]
     },
     "execution_count": 74,
     "metadata": {},
     "output_type": "execute_result"
    }
   ],
   "source": [
    "[1 / num for num in numbers if num != 0]"
   ]
  },
  {
   "cell_type": "markdown",
   "id": "6e097d32",
   "metadata": {},
   "source": [
    "Overengineer"
   ]
  },
  {
   "cell_type": "code",
   "execution_count": 80,
   "id": "4339d08f",
   "metadata": {},
   "outputs": [
    {
     "data": {
      "text/plain": [
       "[-0.2,\n",
       " -0.25,\n",
       " -0.3333333333333333,\n",
       " -0.5,\n",
       " -1.0,\n",
       " 1.0,\n",
       " 0.5,\n",
       " 0.3333333333333333,\n",
       " 0.25,\n",
       " 0.2]"
      ]
     },
     "execution_count": 80,
     "metadata": {},
     "output_type": "execute_result"
    }
   ],
   "source": [
    "new_numbers = []\n",
    "for num in numbers:\n",
    "    try:\n",
    "        new_numbers.append(1 / num)\n",
    "    except ZeroDivisionError:\n",
    "        pass\n",
    "        \n",
    "new_numbers"
   ]
  },
  {
   "cell_type": "code",
   "execution_count": 81,
   "id": "5d80a365",
   "metadata": {},
   "outputs": [],
   "source": [
    "def force_division(num):\n",
    "    try:\n",
    "        return 1 / num\n",
    "    except ZeroDivisionError:\n",
    "        pass"
   ]
  },
  {
   "cell_type": "code",
   "execution_count": 82,
   "id": "0417c2ff",
   "metadata": {},
   "outputs": [
    {
     "data": {
      "text/plain": [
       "0.5"
      ]
     },
     "execution_count": 82,
     "metadata": {},
     "output_type": "execute_result"
    }
   ],
   "source": [
    "force_division(2)"
   ]
  },
  {
   "cell_type": "code",
   "execution_count": 97,
   "id": "39b00bf7",
   "metadata": {},
   "outputs": [],
   "source": [
    "force_division(0)"
   ]
  },
  {
   "cell_type": "code",
   "execution_count": 98,
   "id": "5dec4914",
   "metadata": {},
   "outputs": [
    {
     "data": {
      "text/plain": [
       "[-0.2,\n",
       " -0.25,\n",
       " -0.3333333333333333,\n",
       " -0.5,\n",
       " -1.0,\n",
       " None,\n",
       " 1.0,\n",
       " 0.5,\n",
       " 0.3333333333333333,\n",
       " 0.25,\n",
       " 0.2]"
      ]
     },
     "execution_count": 98,
     "metadata": {},
     "output_type": "execute_result"
    }
   ],
   "source": [
    "[force_division(num) for num in numbers]"
   ]
  },
  {
   "cell_type": "code",
   "execution_count": 100,
   "id": "924e6c6d",
   "metadata": {},
   "outputs": [
    {
     "data": {
      "text/plain": [
       "True"
      ]
     },
     "execution_count": 100,
     "metadata": {},
     "output_type": "execute_result"
    }
   ],
   "source": [
    "None is None"
   ]
  },
  {
   "cell_type": "code",
   "execution_count": null,
   "id": "6b94ff77",
   "metadata": {},
   "outputs": [],
   "source": [
    "type(force_division(0))"
   ]
  },
  {
   "cell_type": "code",
   "execution_count": null,
   "id": "a5a3f3e3",
   "metadata": {},
   "outputs": [],
   "source": [
    "type(None)"
   ]
  },
  {
   "cell_type": "code",
   "execution_count": null,
   "id": "6484cff3",
   "metadata": {},
   "outputs": [],
   "source": [
    "(5 == 5) is True"
   ]
  },
  {
   "cell_type": "code",
   "execution_count": null,
   "id": "ac83a71a",
   "metadata": {
    "scrolled": true
   },
   "outputs": [],
   "source": [
    "1 is 1"
   ]
  },
  {
   "cell_type": "code",
   "execution_count": 103,
   "id": "227eab7f",
   "metadata": {},
   "outputs": [
    {
     "name": "stderr",
     "output_type": "stream",
     "text": [
      "<>:1: SyntaxWarning: \"is\" with a literal. Did you mean \"==\"?\n",
      "<>:1: SyntaxWarning: \"is\" with a literal. Did you mean \"==\"?\n",
      "C:\\Users\\PSebi\\AppData\\Local\\Temp\\ipykernel_17832\\1725665487.py:1: SyntaxWarning: \"is\" with a literal. Did you mean \"==\"?\n",
      "  10.1**32 is 10.1**32\n"
     ]
    },
    {
     "data": {
      "text/plain": [
       "True"
      ]
     },
     "execution_count": 103,
     "metadata": {},
     "output_type": "execute_result"
    }
   ],
   "source": [
    "10.1**32 is 10.1**32"
   ]
  },
  {
   "cell_type": "code",
   "execution_count": 102,
   "id": "9a2ad3f0",
   "metadata": {
    "scrolled": true
   },
   "outputs": [
    {
     "data": {
      "text/plain": [
       "False"
      ]
     },
     "execution_count": 102,
     "metadata": {},
     "output_type": "execute_result"
    }
   ],
   "source": [
    "10**33 is 10**33"
   ]
  },
  {
   "cell_type": "markdown",
   "id": "0f71fd97",
   "metadata": {},
   "source": [
    "## További alkalmazások"
   ]
  },
  {
   "cell_type": "markdown",
   "id": "ba4f4087",
   "metadata": {},
   "source": [
    "### Dictionary"
   ]
  },
  {
   "cell_type": "markdown",
   "id": "b6987b15",
   "metadata": {},
   "source": [
    "Tegyük be az alábbi listát egy dictionary-be"
   ]
  },
  {
   "cell_type": "code",
   "execution_count": 105,
   "id": "2a1ea6dd",
   "metadata": {},
   "outputs": [],
   "source": [
    "storage = [('alma', 5), ('körte', 4), ('citrom', 12), ('banán', 2), ('gránátalma', -5)]"
   ]
  },
  {
   "cell_type": "code",
   "execution_count": 114,
   "id": "4ba2cada",
   "metadata": {},
   "outputs": [
    {
     "data": {
      "text/plain": [
       "{'alma': 5, 'körte': 4, 'citrom': 12, 'banán': 2, 'gránátalma': -5}"
      ]
     },
     "execution_count": 114,
     "metadata": {},
     "output_type": "execute_result"
    }
   ],
   "source": [
    "storage_dict = dict()\n",
    "for item in storage:\n",
    "    storage_dict[item[0]] = item[1]\n",
    "    \n",
    "storage_dict"
   ]
  },
  {
   "cell_type": "code",
   "execution_count": 116,
   "id": "04bca621",
   "metadata": {},
   "outputs": [
    {
     "data": {
      "text/plain": [
       "('gránátalma', -5)"
      ]
     },
     "execution_count": 116,
     "metadata": {},
     "output_type": "execute_result"
    }
   ],
   "source": [
    "item"
   ]
  },
  {
   "cell_type": "code",
   "execution_count": 115,
   "id": "895eb788",
   "metadata": {},
   "outputs": [
    {
     "data": {
      "text/plain": [
       "tuple"
      ]
     },
     "execution_count": 115,
     "metadata": {},
     "output_type": "execute_result"
    }
   ],
   "source": [
    "type(item)"
   ]
  },
  {
   "cell_type": "code",
   "execution_count": 110,
   "id": "0973ca22",
   "metadata": {},
   "outputs": [
    {
     "data": {
      "text/plain": [
       "{'alma': 5, 'körte': 4, 'citrom': 12, 'banán': 2, 'gránátalma': -5}"
      ]
     },
     "execution_count": 110,
     "metadata": {},
     "output_type": "execute_result"
    }
   ],
   "source": [
    "storage_dict = dict()\n",
    "for item, stock in storage:\n",
    "    storage_dict[item] = stock\n",
    "    \n",
    "storage_dict"
   ]
  },
  {
   "cell_type": "code",
   "execution_count": 117,
   "id": "25ce46c0",
   "metadata": {},
   "outputs": [
    {
     "data": {
      "text/plain": [
       "{'alma': 5, 'körte': 4, 'citrom': 12, 'banán': 2, 'gránátalma': -5}"
      ]
     },
     "execution_count": 117,
     "metadata": {},
     "output_type": "execute_result"
    }
   ],
   "source": [
    "{item: stock for item, stock in storage}"
   ]
  },
  {
   "cell_type": "code",
   "execution_count": 119,
   "id": "53529f3d",
   "metadata": {},
   "outputs": [],
   "source": [
    "d = {item: stock for item, stock in storage if stock > 0}"
   ]
  },
  {
   "cell_type": "code",
   "execution_count": 121,
   "id": "7b1071cb",
   "metadata": {},
   "outputs": [
    {
     "data": {
      "text/plain": [
       "dict_items([('alma', 5), ('körte', 4), ('citrom', 12), ('banán', 2)])"
      ]
     },
     "execution_count": 121,
     "metadata": {},
     "output_type": "execute_result"
    }
   ],
   "source": [
    "d.items()"
   ]
  },
  {
   "cell_type": "markdown",
   "id": "6d66da62",
   "metadata": {},
   "source": [
    "Mi a helyzet ha külön van?"
   ]
  },
  {
   "cell_type": "code",
   "execution_count": 125,
   "id": "86d74ce2",
   "metadata": {},
   "outputs": [],
   "source": [
    "items = ['alma', 'körte', 'citrom', 'banán', 'gránátalma']\n",
    "stocks = [5, 4, 12, 2, -5]\n",
    "z = [1,2,23,3,4]"
   ]
  },
  {
   "cell_type": "code",
   "execution_count": 126,
   "id": "fe1943df",
   "metadata": {},
   "outputs": [
    {
     "data": {
      "text/plain": [
       "[('alma', 5, 1),\n",
       " ('körte', 4, 2),\n",
       " ('citrom', 12, 23),\n",
       " ('banán', 2, 3),\n",
       " ('gránátalma', -5, 4)]"
      ]
     },
     "execution_count": 126,
     "metadata": {},
     "output_type": "execute_result"
    }
   ],
   "source": [
    "[x for x in zip(items, stocks)]"
   ]
  },
  {
   "cell_type": "code",
   "execution_count": 127,
   "id": "f26ea405",
   "metadata": {},
   "outputs": [
    {
     "data": {
      "text/plain": [
       "{'alma': 5, 'körte': 4, 'citrom': 12, 'banán': 2}"
      ]
     },
     "execution_count": 127,
     "metadata": {},
     "output_type": "execute_result"
    }
   ],
   "source": [
    "{item: stock for item, stock in zip(items, stocks) if stock > 0}"
   ]
  },
  {
   "cell_type": "markdown",
   "id": "c25556ef",
   "metadata": {},
   "source": [
    "### Set"
   ]
  },
  {
   "cell_type": "markdown",
   "id": "a2d6c69e",
   "metadata": {},
   "source": [
    "Generálok 50 számot 0 és 99 között. Mondjuk ezek közül milyen páros számokat sorsoltam ki."
   ]
  },
  {
   "cell_type": "code",
   "execution_count": 128,
   "id": "fc1adef8",
   "metadata": {},
   "outputs": [],
   "source": [
    "import numpy as np"
   ]
  },
  {
   "cell_type": "code",
   "execution_count": 129,
   "id": "fc918557",
   "metadata": {},
   "outputs": [
    {
     "data": {
      "text/plain": [
       "array([51, 92, 14, 71, 60, 20, 82, 86, 74, 74, 87, 99, 23,  2, 21, 52,  1,\n",
       "       87, 29, 37,  1, 63, 59, 20, 32, 75, 57, 21, 88, 48, 90, 58, 41, 91,\n",
       "       59, 79, 14, 61, 61, 46, 61, 50, 54, 63,  2, 50,  6, 20, 72, 38])"
      ]
     },
     "execution_count": 129,
     "metadata": {},
     "output_type": "execute_result"
    }
   ],
   "source": [
    "np.random.seed(42)\n",
    "numbers = np.random.randint(low = 0, high = 100, size = 50)\n",
    "numbers"
   ]
  },
  {
   "cell_type": "code",
   "execution_count": 130,
   "id": "fc7ed0e4",
   "metadata": {},
   "outputs": [
    {
     "data": {
      "text/plain": [
       "{1, 2}"
      ]
     },
     "execution_count": 130,
     "metadata": {},
     "output_type": "execute_result"
    }
   ],
   "source": [
    "set([1,2])"
   ]
  },
  {
   "cell_type": "code",
   "execution_count": 131,
   "id": "1ee67941",
   "metadata": {},
   "outputs": [
    {
     "data": {
      "text/plain": [
       "{2, 6, 14, 20, 32, 38, 46, 48, 50, 52, 54, 58, 60, 72, 74, 82, 86, 88, 90, 92}"
      ]
     },
     "execution_count": 131,
     "metadata": {},
     "output_type": "execute_result"
    }
   ],
   "source": [
    "{num for num in numbers if num % 2 == 0}"
   ]
  }
 ],
 "metadata": {
  "kernelspec": {
   "display_name": "Python 3 (ipykernel)",
   "language": "python",
   "name": "python3"
  },
  "language_info": {
   "codemirror_mode": {
    "name": "ipython",
    "version": 3
   },
   "file_extension": ".py",
   "mimetype": "text/x-python",
   "name": "python",
   "nbconvert_exporter": "python",
   "pygments_lexer": "ipython3",
   "version": "3.11.0"
  }
 },
 "nbformat": 4,
 "nbformat_minor": 5
}
